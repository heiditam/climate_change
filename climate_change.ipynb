{
 "cells": [
  {
   "cell_type": "code",
   "execution_count": 1,
   "metadata": {},
   "outputs": [],
   "source": [
    "import pandas as pd\n",
    "import plotly.express as px\n",
    "import altair as alt\n",
    "import matplotlib.pyplot as plt\n",
    "import seaborn as sns\n",
    "import pycountry"
   ]
  },
  {
   "cell_type": "markdown",
   "metadata": {},
   "source": [
    "# How Does Climate Change Affect Public Health?"
   ]
  },
  {
   "cell_type": "markdown",
   "metadata": {},
   "source": [
    "### What are the Trends in Average Temperature by Country Over Time?"
   ]
  },
  {
   "cell_type": "markdown",
   "metadata": {},
   "source": [
    "#### Data Cleaning"
   ]
  },
  {
   "cell_type": "code",
   "execution_count": 2,
   "metadata": {},
   "outputs": [
    {
     "data": {
      "text/html": [
       "<div>\n",
       "<style scoped>\n",
       "    .dataframe tbody tr th:only-of-type {\n",
       "        vertical-align: middle;\n",
       "    }\n",
       "\n",
       "    .dataframe tbody tr th {\n",
       "        vertical-align: top;\n",
       "    }\n",
       "\n",
       "    .dataframe thead th {\n",
       "        text-align: right;\n",
       "    }\n",
       "</style>\n",
       "<table border=\"1\" class=\"dataframe\">\n",
       "  <thead>\n",
       "    <tr style=\"text-align: right;\">\n",
       "      <th></th>\n",
       "      <th>dt</th>\n",
       "      <th>AverageTemp_C</th>\n",
       "      <th>AverageTemperatureUncertainty</th>\n",
       "      <th>Country</th>\n",
       "      <th>AverageTemp_F</th>\n",
       "    </tr>\n",
       "  </thead>\n",
       "  <tbody>\n",
       "    <tr>\n",
       "      <th>0</th>\n",
       "      <td>1743-11-01</td>\n",
       "      <td>4.384</td>\n",
       "      <td>2.294</td>\n",
       "      <td>Åland</td>\n",
       "      <td>39.8912</td>\n",
       "    </tr>\n",
       "    <tr>\n",
       "      <th>5</th>\n",
       "      <td>1744-04-01</td>\n",
       "      <td>1.530</td>\n",
       "      <td>4.680</td>\n",
       "      <td>Åland</td>\n",
       "      <td>34.7540</td>\n",
       "    </tr>\n",
       "    <tr>\n",
       "      <th>6</th>\n",
       "      <td>1744-05-01</td>\n",
       "      <td>6.702</td>\n",
       "      <td>1.789</td>\n",
       "      <td>Åland</td>\n",
       "      <td>44.0636</td>\n",
       "    </tr>\n",
       "    <tr>\n",
       "      <th>7</th>\n",
       "      <td>1744-06-01</td>\n",
       "      <td>11.609</td>\n",
       "      <td>1.577</td>\n",
       "      <td>Åland</td>\n",
       "      <td>52.8962</td>\n",
       "    </tr>\n",
       "    <tr>\n",
       "      <th>8</th>\n",
       "      <td>1744-07-01</td>\n",
       "      <td>15.342</td>\n",
       "      <td>1.410</td>\n",
       "      <td>Åland</td>\n",
       "      <td>59.6156</td>\n",
       "    </tr>\n",
       "  </tbody>\n",
       "</table>\n",
       "</div>"
      ],
      "text/plain": [
       "           dt  AverageTemp_C  AverageTemperatureUncertainty Country  \\\n",
       "0  1743-11-01          4.384                          2.294   Åland   \n",
       "5  1744-04-01          1.530                          4.680   Åland   \n",
       "6  1744-05-01          6.702                          1.789   Åland   \n",
       "7  1744-06-01         11.609                          1.577   Åland   \n",
       "8  1744-07-01         15.342                          1.410   Åland   \n",
       "\n",
       "   AverageTemp_F  \n",
       "0        39.8912  \n",
       "5        34.7540  \n",
       "6        44.0636  \n",
       "7        52.8962  \n",
       "8        59.6156  "
      ]
     },
     "execution_count": 2,
     "metadata": {},
     "output_type": "execute_result"
    }
   ],
   "source": [
    "# We have a dataset with columns representing the date (YYYY-MM-DD), average temperature, average temperature uncertainty (the 95% confidence interval around the range),\n",
    "# and country. First, let's clean our data. \n",
    "\n",
    "global_land_temps = pd.read_csv('GlobalLandTemperaturesByCountry.csv')\n",
    "global_land_temps = global_land_temps.rename(columns = {'AverageTemperature': 'AverageTemp_C'})\n",
    "global_land_temps = global_land_temps[~global_land_temps.isna()].dropna()\n",
    "global_land_temps['AverageTemp_F'] = global_land_temps['AverageTemp_C'].apply(lambda column: column * 9/5 + 32)\n",
    "global_land_temps.head()"
   ]
  },
  {
   "cell_type": "markdown",
   "metadata": {},
   "source": [
    "#### Data Visualization"
   ]
  },
  {
   "cell_type": "code",
   "execution_count": 3,
   "metadata": {},
   "outputs": [
    {
     "data": {
      "text/html": [
       "<div>\n",
       "<style scoped>\n",
       "    .dataframe tbody tr th:only-of-type {\n",
       "        vertical-align: middle;\n",
       "    }\n",
       "\n",
       "    .dataframe tbody tr th {\n",
       "        vertical-align: top;\n",
       "    }\n",
       "\n",
       "    .dataframe thead th {\n",
       "        text-align: right;\n",
       "    }\n",
       "</style>\n",
       "<table border=\"1\" class=\"dataframe\">\n",
       "  <thead>\n",
       "    <tr style=\"text-align: right;\">\n",
       "      <th></th>\n",
       "      <th>Country</th>\n",
       "      <th>AverageTemp_F</th>\n",
       "    </tr>\n",
       "  </thead>\n",
       "  <tbody>\n",
       "    <tr>\n",
       "      <th>0</th>\n",
       "      <td>Afghanistan</td>\n",
       "      <td>57.281013</td>\n",
       "    </tr>\n",
       "    <tr>\n",
       "      <th>1</th>\n",
       "      <td>Africa</td>\n",
       "      <td>75.333565</td>\n",
       "    </tr>\n",
       "    <tr>\n",
       "      <th>2</th>\n",
       "      <td>Albania</td>\n",
       "      <td>54.699163</td>\n",
       "    </tr>\n",
       "    <tr>\n",
       "      <th>3</th>\n",
       "      <td>Algeria</td>\n",
       "      <td>73.373201</td>\n",
       "    </tr>\n",
       "    <tr>\n",
       "      <th>4</th>\n",
       "      <td>American Samoa</td>\n",
       "      <td>79.901537</td>\n",
       "    </tr>\n",
       "  </tbody>\n",
       "</table>\n",
       "</div>"
      ],
      "text/plain": [
       "          Country  AverageTemp_F\n",
       "0     Afghanistan      57.281013\n",
       "1          Africa      75.333565\n",
       "2         Albania      54.699163\n",
       "3         Algeria      73.373201\n",
       "4  American Samoa      79.901537"
      ]
     },
     "execution_count": 3,
     "metadata": {},
     "output_type": "execute_result"
    }
   ],
   "source": [
    "# What is the mean temperature by country?\n",
    "temps_mean = global_land_temps.groupby('Country')['AverageTemp_F'].mean()\n",
    "temps_mean  = pd.DataFrame(temps_mean).reset_index()\n",
    "temps_mean.head()"
   ]
  },
  {
   "cell_type": "code",
   "execution_count": 4,
   "metadata": {},
   "outputs": [
    {
     "data": {
      "application/vnd.plotly.v1+json": {
       "config": {
        "plotlyServerURL": "https://plot.ly"
       },
       "data": [
        {
         "coloraxis": "coloraxis",
         "geo": "geo",
         "hovertemplate": "Country=%{location}<br>AverageTemp_F=%{z}<extra></extra>",
         "locationmode": "country names",
         "locations": [
          "Afghanistan",
          "Africa",
          "Albania",
          "Algeria",
          "American Samoa",
          "Andorra",
          "Angola",
          "Anguilla",
          "Antigua And Barbuda",
          "Argentina",
          "Armenia",
          "Aruba",
          "Asia",
          "Australia",
          "Austria",
          "Azerbaijan",
          "Bahamas",
          "Bahrain",
          "Baker Island",
          "Bangladesh",
          "Barbados",
          "Belarus",
          "Belgium",
          "Belize",
          "Benin",
          "Bhutan",
          "Bolivia",
          "Bonaire, Saint Eustatius And Saba",
          "Bosnia And Herzegovina",
          "Botswana",
          "Brazil",
          "British Virgin Islands",
          "Bulgaria",
          "Burkina Faso",
          "Burma",
          "Burundi",
          "Cambodia",
          "Cameroon",
          "Canada",
          "Cape Verde",
          "Cayman Islands",
          "Central African Republic",
          "Chad",
          "Chile",
          "China",
          "Christmas Island",
          "Colombia",
          "Comoros",
          "Congo",
          "Congo (Democratic Republic Of The)",
          "Costa Rica",
          "Croatia",
          "Cuba",
          "Curaçao",
          "Cyprus",
          "Czech Republic",
          "Côte D'Ivoire",
          "Denmark",
          "Denmark (Europe)",
          "Djibouti",
          "Dominica",
          "Dominican Republic",
          "Ecuador",
          "Egypt",
          "El Salvador",
          "Equatorial Guinea",
          "Eritrea",
          "Estonia",
          "Ethiopia",
          "Europe",
          "Falkland Islands (Islas Malvinas)",
          "Faroe Islands",
          "Federated States Of Micronesia",
          "Fiji",
          "Finland",
          "France",
          "France (Europe)",
          "French Guiana",
          "French Polynesia",
          "French Southern And Antarctic Lands",
          "Gabon",
          "Gambia",
          "Gaza Strip",
          "Georgia",
          "Germany",
          "Ghana",
          "Greece",
          "Greenland",
          "Grenada",
          "Guadeloupe",
          "Guam",
          "Guatemala",
          "Guernsey",
          "Guinea",
          "Guinea Bissau",
          "Guyana",
          "Haiti",
          "Heard Island And Mcdonald Islands",
          "Honduras",
          "Hong Kong",
          "Hungary",
          "Iceland",
          "India",
          "Indonesia",
          "Iran",
          "Iraq",
          "Ireland",
          "Isle Of Man",
          "Israel",
          "Italy",
          "Jamaica",
          "Japan",
          "Jersey",
          "Jordan",
          "Kazakhstan",
          "Kenya",
          "Kingman Reef",
          "Kiribati",
          "Kuwait",
          "Kyrgyzstan",
          "Laos",
          "Latvia",
          "Lebanon",
          "Lesotho",
          "Liberia",
          "Libya",
          "Liechtenstein",
          "Lithuania",
          "Luxembourg",
          "Macau",
          "Macedonia",
          "Madagascar",
          "Malawi",
          "Malaysia",
          "Mali",
          "Malta",
          "Martinique",
          "Mauritania",
          "Mauritius",
          "Mayotte",
          "Mexico",
          "Moldova",
          "Monaco",
          "Mongolia",
          "Montenegro",
          "Montserrat",
          "Morocco",
          "Mozambique",
          "Namibia",
          "Nepal",
          "Netherlands",
          "Netherlands (Europe)",
          "New Caledonia",
          "New Zealand",
          "Nicaragua",
          "Niger",
          "Nigeria",
          "Niue",
          "North America",
          "North Korea",
          "Northern Mariana Islands",
          "Norway",
          "Oceania",
          "Oman",
          "Pakistan",
          "Palau",
          "Palestina",
          "Palmyra Atoll",
          "Panama",
          "Papua New Guinea",
          "Paraguay",
          "Peru",
          "Philippines",
          "Poland",
          "Portugal",
          "Puerto Rico",
          "Qatar",
          "Reunion",
          "Romania",
          "Russia",
          "Rwanda",
          "Saint Barthélemy",
          "Saint Kitts And Nevis",
          "Saint Lucia",
          "Saint Martin",
          "Saint Pierre And Miquelon",
          "Saint Vincent And The Grenadines",
          "Samoa",
          "San Marino",
          "Sao Tome And Principe",
          "Saudi Arabia",
          "Senegal",
          "Serbia",
          "Seychelles",
          "Sierra Leone",
          "Singapore",
          "Sint Maarten",
          "Slovakia",
          "Slovenia",
          "Solomon Islands",
          "Somalia",
          "South Africa",
          "South America",
          "South Georgia And The South Sandwich Isla",
          "South Korea",
          "Spain",
          "Sri Lanka",
          "Sudan",
          "Suriname",
          "Svalbard And Jan Mayen",
          "Swaziland",
          "Sweden",
          "Switzerland",
          "Syria",
          "Taiwan",
          "Tajikistan",
          "Tanzania",
          "Thailand",
          "Timor Leste",
          "Togo",
          "Tonga",
          "Trinidad And Tobago",
          "Tunisia",
          "Turkey",
          "Turkmenistan",
          "Turks And Caicas Islands",
          "Uganda",
          "Ukraine",
          "United Arab Emirates",
          "United Kingdom",
          "United Kingdom (Europe)",
          "United States",
          "Uruguay",
          "Uzbekistan",
          "Venezuela",
          "Vietnam",
          "Virgin Islands",
          "Western Sahara",
          "Yemen",
          "Zambia",
          "Zimbabwe",
          "Åland"
         ],
         "name": "",
         "type": "choropleth",
         "z": [
          57.281012949640285,
          75.33356494192186,
          54.69916266582438,
          73.37320118430792,
          79.90153701657458,
          52.16279551484523,
          71.28418854166667,
          79.89888533077661,
          79.58826366251199,
          58.31814957894737,
          47.39296626794258,
          82.25670239693193,
          45.22620600169061,
          70.92445440414508,
          43.17931730890714,
          52.116684934853424,
          77.23079607214429,
          78.67545680238331,
          77.67023041903776,
          76.67643701067617,
          79.62538628954938,
          42.47471850915982,
          49.07008111181301,
          77.09377959731543,
          80.90959897727274,
          53.261382145922745,
          69.57901494736844,
          80.91193068072867,
          50.75831111813013,
          71.38273404482392,
          76.45865998151571,
          79.40574183037853,
          50.869343145925455,
          82.55031216873986,
          74.67115503116652,
          68.12778222996515,
          79.98233726437893,
          75.83465406340058,
          22.610013897763576,
          75.53401442307691,
          80.10050747051115,
          77.50473244956773,
          80.81683930835734,
          48.890252631578946,
          43.9029158564289,
          78.41237732836615,
          76.49036774193549,
          78.26397674418605,
          76.03327757925072,
          74.7925968911917,
          78.10841198156682,
          52.4163197725837,
          77.73336749672346,
          81.23614640460211,
          65.81794223555889,
          45.72683468098547,
          78.70736490850378,
          -0.4954912587412592,
          46.09914699936829,
          83.8698845597105,
          78.99827267497602,
          77.98552017937219,
          71.36594662460568,
          72.71724745617786,
          76.83206818181819,
          76.8590200576369,
          80.24477559808612,
          40.67565034744157,
          73.42224216795712,
          46.09411484523058,
          42.93819228680065,
          43.91420284270372,
          80.4998439882698,
          77.06960920245399,
          34.24053607075174,
          54.99040221099179,
          50.74888243840808,
          78.2926719923003,
          78.992773012939,
          40.9696,
          75.65850616714698,
          81.56939326923076,
          66.54674652977413,
          46.592387412587414,
          46.67449317751105,
          80.0798243929983,
          58.59142160454833,
          -1.4574244755244758,
          80.13551371045062,
          79.39320958772771,
          80.59430180722892,
          73.60097088948787,
          51.67113569172457,
          77.81423557692308,
          80.17045996793158,
          78.6756562078922,
          79.33250793366203,
          36.61180689655173,
          76.45198639026589,
          72.78781084452974,
          49.50036184459886,
          34.529117119393554,
          74.97282105263157,
          78.23207078233104,
          63.69273761208117,
          71.19613198275862,
          48.9552051800379,
          48.85844977890083,
          67.32783914473684,
          54.92681945672773,
          78.97341121495327,
          53.5134332046332,
          51.67113569172457,
          66.82372265786216,
          41.36386056572379,
          75.38437081596189,
          80.83946198979592,
          80.126357626037,
          77.17665241779497,
          37.79689669724771,
          74.43445342831701,
          41.57698130132659,
          63.736911915412776,
          56.70802722904431,
          77.67992827586207,
          72.08285708927232,
          40.35729027163613,
          42.63438521794062,
          48.49735363234365,
          72.3530745681382,
          50.675991535060014,
          72.94828269994328,
          70.57595506024096,
          78.4497956140351,
          83.19555782747605,
          65.29077557544757,
          78.99827267497602,
          81.71645990783409,
          74.34077717003568,
          79.41373057288713,
          69.02160447552448,
          48.07709001895136,
          48.24446329753633,
          30.522792227979274,
          50.386333101705624,
          79.48963125599234,
          63.729495336787565,
          74.47315056581299,
          68.87209135538954,
          58.653303102040816,
          49.10828818698673,
          48.40303840808591,
          72.86019475093734,
          50.668230394190864,
          78.72351580406655,
          81.42615057208238,
          80.14047495642069,
          77.17078121546962,
          35.65107300564061,
          44.14700629770992,
          80.59430180722892,
          32.1724469361971,
          70.61538041450777,
          80.45035279861511,
          69.10792394775035,
          80.98948279845956,
          73.62619380165289,
          80.89422079081633,
          79.32491714855433,
          76.01144341772152,
          73.82834160305343,
          67.88475361407919,
          79.59285047619048,
          45.42837068856601,
          58.4387239769821,
          77.81353100143747,
          80.21299282868526,
          73.94252556480382,
          47.76962318382817,
          22.060612557172554,
          66.6399599303136,
          79.89888533077661,
          78.53393480345159,
          79.9643092042186,
          79.89888533077661,
          39.60150791920487,
          80.22100767018216,
          79.39735248618786,
          56.89656013897663,
          78.42989510086454,
          77.9835341034656,
          82.341275,
          49.97581370814908,
          80.12916165626773,
          78.84062829888713,
          79.7415850877193,
          79.89888533077661,
          45.548990587492106,
          49.38746102337334,
          79.92506658163266,
          80.37875330553902,
          63.08776924719701,
          71.28305614754098,
          34.52184518317504,
          53.328287741312735,
          56.50310151610866,
          80.50583660287081,
          80.76804697142857,
          79.1089936477382,
          18.59354973404255,
          65.91165306994128,
          36.295397536323435,
          44.585692672141505,
          64.25158747458316,
          71.48736956521739,
          39.22886339202966,
          72.2262397492163,
          78.77624176313446,
          78.73939889298893,
          80.36920896199659,
          73.82524613496933,
          79.01375215723874,
          67.94706285166241,
          52.93682114164905,
          58.60759672727272,
          79.99292031454783,
          73.4593436848204,
          45.77631307643715,
          81.84919046104929,
          47.28078559696779,
          47.58041850915983,
          47.48643053988719,
          62.868752194656494,
          54.10042868852459,
          77.04623394055608,
          74.63905790731008,
          79.40574183037853,
          72.17567208201893,
          79.25647410551849,
          70.3093201183432,
          70.01158504347826,
          41.52449020846494
         ]
        }
       ],
       "layout": {
        "coloraxis": {
         "colorbar": {
          "title": {
           "text": "AverageTemp_F"
          }
         },
         "colorscale": [
          [
           0,
           "#0d0887"
          ],
          [
           0.1111111111111111,
           "#46039f"
          ],
          [
           0.2222222222222222,
           "#7201a8"
          ],
          [
           0.3333333333333333,
           "#9c179e"
          ],
          [
           0.4444444444444444,
           "#bd3786"
          ],
          [
           0.5555555555555556,
           "#d8576b"
          ],
          [
           0.6666666666666666,
           "#ed7953"
          ],
          [
           0.7777777777777778,
           "#fb9f3a"
          ],
          [
           0.8888888888888888,
           "#fdca26"
          ],
          [
           1,
           "#f0f921"
          ]
         ]
        },
        "geo": {
         "center": {},
         "domain": {
          "x": [
           0,
           1
          ],
          "y": [
           0,
           1
          ]
         }
        },
        "legend": {
         "tracegroupgap": 0
        },
        "template": {
         "data": {
          "bar": [
           {
            "error_x": {
             "color": "#2a3f5f"
            },
            "error_y": {
             "color": "#2a3f5f"
            },
            "marker": {
             "line": {
              "color": "#E5ECF6",
              "width": 0.5
             },
             "pattern": {
              "fillmode": "overlay",
              "size": 10,
              "solidity": 0.2
             }
            },
            "type": "bar"
           }
          ],
          "barpolar": [
           {
            "marker": {
             "line": {
              "color": "#E5ECF6",
              "width": 0.5
             },
             "pattern": {
              "fillmode": "overlay",
              "size": 10,
              "solidity": 0.2
             }
            },
            "type": "barpolar"
           }
          ],
          "carpet": [
           {
            "aaxis": {
             "endlinecolor": "#2a3f5f",
             "gridcolor": "white",
             "linecolor": "white",
             "minorgridcolor": "white",
             "startlinecolor": "#2a3f5f"
            },
            "baxis": {
             "endlinecolor": "#2a3f5f",
             "gridcolor": "white",
             "linecolor": "white",
             "minorgridcolor": "white",
             "startlinecolor": "#2a3f5f"
            },
            "type": "carpet"
           }
          ],
          "choropleth": [
           {
            "colorbar": {
             "outlinewidth": 0,
             "ticks": ""
            },
            "type": "choropleth"
           }
          ],
          "contour": [
           {
            "colorbar": {
             "outlinewidth": 0,
             "ticks": ""
            },
            "colorscale": [
             [
              0,
              "#0d0887"
             ],
             [
              0.1111111111111111,
              "#46039f"
             ],
             [
              0.2222222222222222,
              "#7201a8"
             ],
             [
              0.3333333333333333,
              "#9c179e"
             ],
             [
              0.4444444444444444,
              "#bd3786"
             ],
             [
              0.5555555555555556,
              "#d8576b"
             ],
             [
              0.6666666666666666,
              "#ed7953"
             ],
             [
              0.7777777777777778,
              "#fb9f3a"
             ],
             [
              0.8888888888888888,
              "#fdca26"
             ],
             [
              1,
              "#f0f921"
             ]
            ],
            "type": "contour"
           }
          ],
          "contourcarpet": [
           {
            "colorbar": {
             "outlinewidth": 0,
             "ticks": ""
            },
            "type": "contourcarpet"
           }
          ],
          "heatmap": [
           {
            "colorbar": {
             "outlinewidth": 0,
             "ticks": ""
            },
            "colorscale": [
             [
              0,
              "#0d0887"
             ],
             [
              0.1111111111111111,
              "#46039f"
             ],
             [
              0.2222222222222222,
              "#7201a8"
             ],
             [
              0.3333333333333333,
              "#9c179e"
             ],
             [
              0.4444444444444444,
              "#bd3786"
             ],
             [
              0.5555555555555556,
              "#d8576b"
             ],
             [
              0.6666666666666666,
              "#ed7953"
             ],
             [
              0.7777777777777778,
              "#fb9f3a"
             ],
             [
              0.8888888888888888,
              "#fdca26"
             ],
             [
              1,
              "#f0f921"
             ]
            ],
            "type": "heatmap"
           }
          ],
          "heatmapgl": [
           {
            "colorbar": {
             "outlinewidth": 0,
             "ticks": ""
            },
            "colorscale": [
             [
              0,
              "#0d0887"
             ],
             [
              0.1111111111111111,
              "#46039f"
             ],
             [
              0.2222222222222222,
              "#7201a8"
             ],
             [
              0.3333333333333333,
              "#9c179e"
             ],
             [
              0.4444444444444444,
              "#bd3786"
             ],
             [
              0.5555555555555556,
              "#d8576b"
             ],
             [
              0.6666666666666666,
              "#ed7953"
             ],
             [
              0.7777777777777778,
              "#fb9f3a"
             ],
             [
              0.8888888888888888,
              "#fdca26"
             ],
             [
              1,
              "#f0f921"
             ]
            ],
            "type": "heatmapgl"
           }
          ],
          "histogram": [
           {
            "marker": {
             "pattern": {
              "fillmode": "overlay",
              "size": 10,
              "solidity": 0.2
             }
            },
            "type": "histogram"
           }
          ],
          "histogram2d": [
           {
            "colorbar": {
             "outlinewidth": 0,
             "ticks": ""
            },
            "colorscale": [
             [
              0,
              "#0d0887"
             ],
             [
              0.1111111111111111,
              "#46039f"
             ],
             [
              0.2222222222222222,
              "#7201a8"
             ],
             [
              0.3333333333333333,
              "#9c179e"
             ],
             [
              0.4444444444444444,
              "#bd3786"
             ],
             [
              0.5555555555555556,
              "#d8576b"
             ],
             [
              0.6666666666666666,
              "#ed7953"
             ],
             [
              0.7777777777777778,
              "#fb9f3a"
             ],
             [
              0.8888888888888888,
              "#fdca26"
             ],
             [
              1,
              "#f0f921"
             ]
            ],
            "type": "histogram2d"
           }
          ],
          "histogram2dcontour": [
           {
            "colorbar": {
             "outlinewidth": 0,
             "ticks": ""
            },
            "colorscale": [
             [
              0,
              "#0d0887"
             ],
             [
              0.1111111111111111,
              "#46039f"
             ],
             [
              0.2222222222222222,
              "#7201a8"
             ],
             [
              0.3333333333333333,
              "#9c179e"
             ],
             [
              0.4444444444444444,
              "#bd3786"
             ],
             [
              0.5555555555555556,
              "#d8576b"
             ],
             [
              0.6666666666666666,
              "#ed7953"
             ],
             [
              0.7777777777777778,
              "#fb9f3a"
             ],
             [
              0.8888888888888888,
              "#fdca26"
             ],
             [
              1,
              "#f0f921"
             ]
            ],
            "type": "histogram2dcontour"
           }
          ],
          "mesh3d": [
           {
            "colorbar": {
             "outlinewidth": 0,
             "ticks": ""
            },
            "type": "mesh3d"
           }
          ],
          "parcoords": [
           {
            "line": {
             "colorbar": {
              "outlinewidth": 0,
              "ticks": ""
             }
            },
            "type": "parcoords"
           }
          ],
          "pie": [
           {
            "automargin": true,
            "type": "pie"
           }
          ],
          "scatter": [
           {
            "fillpattern": {
             "fillmode": "overlay",
             "size": 10,
             "solidity": 0.2
            },
            "type": "scatter"
           }
          ],
          "scatter3d": [
           {
            "line": {
             "colorbar": {
              "outlinewidth": 0,
              "ticks": ""
             }
            },
            "marker": {
             "colorbar": {
              "outlinewidth": 0,
              "ticks": ""
             }
            },
            "type": "scatter3d"
           }
          ],
          "scattercarpet": [
           {
            "marker": {
             "colorbar": {
              "outlinewidth": 0,
              "ticks": ""
             }
            },
            "type": "scattercarpet"
           }
          ],
          "scattergeo": [
           {
            "marker": {
             "colorbar": {
              "outlinewidth": 0,
              "ticks": ""
             }
            },
            "type": "scattergeo"
           }
          ],
          "scattergl": [
           {
            "marker": {
             "colorbar": {
              "outlinewidth": 0,
              "ticks": ""
             }
            },
            "type": "scattergl"
           }
          ],
          "scattermapbox": [
           {
            "marker": {
             "colorbar": {
              "outlinewidth": 0,
              "ticks": ""
             }
            },
            "type": "scattermapbox"
           }
          ],
          "scatterpolar": [
           {
            "marker": {
             "colorbar": {
              "outlinewidth": 0,
              "ticks": ""
             }
            },
            "type": "scatterpolar"
           }
          ],
          "scatterpolargl": [
           {
            "marker": {
             "colorbar": {
              "outlinewidth": 0,
              "ticks": ""
             }
            },
            "type": "scatterpolargl"
           }
          ],
          "scatterternary": [
           {
            "marker": {
             "colorbar": {
              "outlinewidth": 0,
              "ticks": ""
             }
            },
            "type": "scatterternary"
           }
          ],
          "surface": [
           {
            "colorbar": {
             "outlinewidth": 0,
             "ticks": ""
            },
            "colorscale": [
             [
              0,
              "#0d0887"
             ],
             [
              0.1111111111111111,
              "#46039f"
             ],
             [
              0.2222222222222222,
              "#7201a8"
             ],
             [
              0.3333333333333333,
              "#9c179e"
             ],
             [
              0.4444444444444444,
              "#bd3786"
             ],
             [
              0.5555555555555556,
              "#d8576b"
             ],
             [
              0.6666666666666666,
              "#ed7953"
             ],
             [
              0.7777777777777778,
              "#fb9f3a"
             ],
             [
              0.8888888888888888,
              "#fdca26"
             ],
             [
              1,
              "#f0f921"
             ]
            ],
            "type": "surface"
           }
          ],
          "table": [
           {
            "cells": {
             "fill": {
              "color": "#EBF0F8"
             },
             "line": {
              "color": "white"
             }
            },
            "header": {
             "fill": {
              "color": "#C8D4E3"
             },
             "line": {
              "color": "white"
             }
            },
            "type": "table"
           }
          ]
         },
         "layout": {
          "annotationdefaults": {
           "arrowcolor": "#2a3f5f",
           "arrowhead": 0,
           "arrowwidth": 1
          },
          "autotypenumbers": "strict",
          "coloraxis": {
           "colorbar": {
            "outlinewidth": 0,
            "ticks": ""
           }
          },
          "colorscale": {
           "diverging": [
            [
             0,
             "#8e0152"
            ],
            [
             0.1,
             "#c51b7d"
            ],
            [
             0.2,
             "#de77ae"
            ],
            [
             0.3,
             "#f1b6da"
            ],
            [
             0.4,
             "#fde0ef"
            ],
            [
             0.5,
             "#f7f7f7"
            ],
            [
             0.6,
             "#e6f5d0"
            ],
            [
             0.7,
             "#b8e186"
            ],
            [
             0.8,
             "#7fbc41"
            ],
            [
             0.9,
             "#4d9221"
            ],
            [
             1,
             "#276419"
            ]
           ],
           "sequential": [
            [
             0,
             "#0d0887"
            ],
            [
             0.1111111111111111,
             "#46039f"
            ],
            [
             0.2222222222222222,
             "#7201a8"
            ],
            [
             0.3333333333333333,
             "#9c179e"
            ],
            [
             0.4444444444444444,
             "#bd3786"
            ],
            [
             0.5555555555555556,
             "#d8576b"
            ],
            [
             0.6666666666666666,
             "#ed7953"
            ],
            [
             0.7777777777777778,
             "#fb9f3a"
            ],
            [
             0.8888888888888888,
             "#fdca26"
            ],
            [
             1,
             "#f0f921"
            ]
           ],
           "sequentialminus": [
            [
             0,
             "#0d0887"
            ],
            [
             0.1111111111111111,
             "#46039f"
            ],
            [
             0.2222222222222222,
             "#7201a8"
            ],
            [
             0.3333333333333333,
             "#9c179e"
            ],
            [
             0.4444444444444444,
             "#bd3786"
            ],
            [
             0.5555555555555556,
             "#d8576b"
            ],
            [
             0.6666666666666666,
             "#ed7953"
            ],
            [
             0.7777777777777778,
             "#fb9f3a"
            ],
            [
             0.8888888888888888,
             "#fdca26"
            ],
            [
             1,
             "#f0f921"
            ]
           ]
          },
          "colorway": [
           "#636efa",
           "#EF553B",
           "#00cc96",
           "#ab63fa",
           "#FFA15A",
           "#19d3f3",
           "#FF6692",
           "#B6E880",
           "#FF97FF",
           "#FECB52"
          ],
          "font": {
           "color": "#2a3f5f"
          },
          "geo": {
           "bgcolor": "white",
           "lakecolor": "white",
           "landcolor": "#E5ECF6",
           "showlakes": true,
           "showland": true,
           "subunitcolor": "white"
          },
          "hoverlabel": {
           "align": "left"
          },
          "hovermode": "closest",
          "mapbox": {
           "style": "light"
          },
          "paper_bgcolor": "white",
          "plot_bgcolor": "#E5ECF6",
          "polar": {
           "angularaxis": {
            "gridcolor": "white",
            "linecolor": "white",
            "ticks": ""
           },
           "bgcolor": "#E5ECF6",
           "radialaxis": {
            "gridcolor": "white",
            "linecolor": "white",
            "ticks": ""
           }
          },
          "scene": {
           "xaxis": {
            "backgroundcolor": "#E5ECF6",
            "gridcolor": "white",
            "gridwidth": 2,
            "linecolor": "white",
            "showbackground": true,
            "ticks": "",
            "zerolinecolor": "white"
           },
           "yaxis": {
            "backgroundcolor": "#E5ECF6",
            "gridcolor": "white",
            "gridwidth": 2,
            "linecolor": "white",
            "showbackground": true,
            "ticks": "",
            "zerolinecolor": "white"
           },
           "zaxis": {
            "backgroundcolor": "#E5ECF6",
            "gridcolor": "white",
            "gridwidth": 2,
            "linecolor": "white",
            "showbackground": true,
            "ticks": "",
            "zerolinecolor": "white"
           }
          },
          "shapedefaults": {
           "line": {
            "color": "#2a3f5f"
           }
          },
          "ternary": {
           "aaxis": {
            "gridcolor": "white",
            "linecolor": "white",
            "ticks": ""
           },
           "baxis": {
            "gridcolor": "white",
            "linecolor": "white",
            "ticks": ""
           },
           "bgcolor": "#E5ECF6",
           "caxis": {
            "gridcolor": "white",
            "linecolor": "white",
            "ticks": ""
           }
          },
          "title": {
           "x": 0.05
          },
          "xaxis": {
           "automargin": true,
           "gridcolor": "white",
           "linecolor": "white",
           "ticks": "",
           "title": {
            "standoff": 15
           },
           "zerolinecolor": "white",
           "zerolinewidth": 2
          },
          "yaxis": {
           "automargin": true,
           "gridcolor": "white",
           "linecolor": "white",
           "ticks": "",
           "title": {
            "standoff": 15
           },
           "zerolinecolor": "white",
           "zerolinewidth": 2
          }
         }
        },
        "title": {
         "text": "Average Temperature by Country"
        }
       }
      }
     },
     "metadata": {},
     "output_type": "display_data"
    }
   ],
   "source": [
    "# This is a chloropleth that displays the average temperature by country\n",
    "chloropleth = px.choropleth(\n",
    "    temps_mean,\n",
    "    locations = 'Country',\n",
    "    locationmode= 'country names',\n",
    "    color = 'AverageTemp_F',\n",
    "    color_continuous_scale='plasma',\n",
    "    title = 'Average Temperature by Country'\n",
    ")\n",
    "chloropleth"
   ]
  },
  {
   "cell_type": "code",
   "execution_count": 5,
   "metadata": {},
   "outputs": [],
   "source": [
    "# Finding average change in temperature over 100 years!\n",
    "# Note: 2013 is the most recent year available in this dataset. \n",
    "change_in_temp = global_land_temps[(global_land_temps['dt'] == '1913-01-01') | (global_land_temps['dt'] == '2013-01-01')]\n",
    "change_in_temp = change_in_temp.sort_values('Country')\n",
    "change_in_temp['Percent_Change'] = change_in_temp.groupby('Country')['AverageTemp_F'].pct_change() * 100\n",
    "change_in_temp = change_in_temp.dropna().drop(columns={'dt', 'AverageTemp_C', 'AverageTemperatureUncertainty', 'AverageTemp_F'})\n",
    "\n",
    "# We have a peculiar outlier here: Svalbard and Jan Mayen has a percent change of 339.53%! \n",
    "# Since this is a small country with a disproportionately large change, we will ignore this value for now. \n",
    "change_in_temp = change_in_temp.loc[change_in_temp['Percent_Change'] <= 300]"
   ]
  },
  {
   "cell_type": "code",
   "execution_count": 6,
   "metadata": {},
   "outputs": [
    {
     "data": {
      "application/vnd.plotly.v1+json": {
       "config": {
        "plotlyServerURL": "https://plot.ly"
       },
       "data": [
        {
         "coloraxis": "coloraxis",
         "geo": "geo",
         "hovertemplate": "Country=%{location}<br>Percent_Change=%{z}<extra></extra>",
         "locationmode": "country names",
         "locations": [
          "Afghanistan",
          "Africa",
          "Albania",
          "Algeria",
          "American Samoa",
          "Andorra",
          "Angola",
          "Anguilla",
          "Antigua And Barbuda",
          "Argentina",
          "Armenia",
          "Aruba",
          "Asia",
          "Australia",
          "Austria",
          "Azerbaijan",
          "Bahamas",
          "Bahrain",
          "Baker Island",
          "Bangladesh",
          "Barbados",
          "Belarus",
          "Belgium",
          "Belize",
          "Benin",
          "Bhutan",
          "Bolivia",
          "Bonaire, Saint Eustatius And Saba",
          "Bosnia And Herzegovina",
          "Botswana",
          "Brazil",
          "British Virgin Islands",
          "Bulgaria",
          "Burkina Faso",
          "Burma",
          "Burundi",
          "Cambodia",
          "Cameroon",
          "Canada",
          "Cape Verde",
          "Cayman Islands",
          "Central African Republic",
          "Chad",
          "Chile",
          "China",
          "Christmas Island",
          "Colombia",
          "Comoros",
          "Congo",
          "Congo (Democratic Republic Of The)",
          "Costa Rica",
          "Croatia",
          "Cuba",
          "Curaçao",
          "Cyprus",
          "Czech Republic",
          "Côte D'Ivoire",
          "Denmark",
          "Denmark (Europe)",
          "Djibouti",
          "Dominica",
          "Dominican Republic",
          "Ecuador",
          "Egypt",
          "El Salvador",
          "Equatorial Guinea",
          "Eritrea",
          "Estonia",
          "Ethiopia",
          "Europe",
          "Falkland Islands (Islas Malvinas)",
          "Faroe Islands",
          "Federated States Of Micronesia",
          "Fiji",
          "Finland",
          "France",
          "France (Europe)",
          "French Guiana",
          "French Polynesia",
          "Gabon",
          "Gambia",
          "Gaza Strip",
          "Georgia",
          "Germany",
          "Ghana",
          "Greece",
          "Greenland",
          "Grenada",
          "Guadeloupe",
          "Guam",
          "Guatemala",
          "Guernsey",
          "Guinea",
          "Guinea Bissau",
          "Guyana",
          "Haiti",
          "Honduras",
          "Hong Kong",
          "Hungary",
          "Iceland",
          "India",
          "Indonesia",
          "Iran",
          "Iraq",
          "Ireland",
          "Isle Of Man",
          "Israel",
          "Italy",
          "Jamaica",
          "Japan",
          "Jersey",
          "Jordan",
          "Kazakhstan",
          "Kenya",
          "Kingman Reef",
          "Kiribati",
          "Kuwait",
          "Kyrgyzstan",
          "Laos",
          "Latvia",
          "Lebanon",
          "Lesotho",
          "Liberia",
          "Libya",
          "Liechtenstein",
          "Lithuania",
          "Luxembourg",
          "Macau",
          "Macedonia",
          "Madagascar",
          "Malawi",
          "Malaysia",
          "Mali",
          "Malta",
          "Martinique",
          "Mauritania",
          "Mauritius",
          "Mayotte",
          "Mexico",
          "Moldova",
          "Monaco",
          "Mongolia",
          "Montenegro",
          "Montserrat",
          "Morocco",
          "Mozambique",
          "Namibia",
          "Nepal",
          "Netherlands",
          "Netherlands (Europe)",
          "New Caledonia",
          "New Zealand",
          "Nicaragua",
          "Niger",
          "Nigeria",
          "Niue",
          "North America",
          "North Korea",
          "Northern Mariana Islands",
          "Norway",
          "Oceania",
          "Oman",
          "Pakistan",
          "Palau",
          "Palestina",
          "Palmyra Atoll",
          "Panama",
          "Papua New Guinea",
          "Paraguay",
          "Peru",
          "Philippines",
          "Poland",
          "Portugal",
          "Puerto Rico",
          "Qatar",
          "Reunion",
          "Romania",
          "Russia",
          "Rwanda",
          "Saint Barthélemy",
          "Saint Kitts And Nevis",
          "Saint Lucia",
          "Saint Martin",
          "Saint Pierre And Miquelon",
          "Saint Vincent And The Grenadines",
          "Samoa",
          "San Marino",
          "Sao Tome And Principe",
          "Saudi Arabia",
          "Senegal",
          "Serbia",
          "Seychelles",
          "Sierra Leone",
          "Singapore",
          "Sint Maarten",
          "Slovakia",
          "Slovenia",
          "Solomon Islands",
          "Somalia",
          "South Africa",
          "South America",
          "South Georgia And The South Sandwich Isla",
          "South Korea",
          "Spain",
          "Sri Lanka",
          "Sudan",
          "Suriname",
          "Swaziland",
          "Sweden",
          "Switzerland",
          "Syria",
          "Taiwan",
          "Tajikistan",
          "Tanzania",
          "Thailand",
          "Timor Leste",
          "Togo",
          "Tonga",
          "Trinidad And Tobago",
          "Tunisia",
          "Turkey",
          "Turkmenistan",
          "Turks And Caicas Islands",
          "Uganda",
          "Ukraine",
          "United Arab Emirates",
          "United Kingdom",
          "United Kingdom (Europe)",
          "United States",
          "Uruguay",
          "Uzbekistan",
          "Venezuela",
          "Vietnam",
          "Virgin Islands",
          "Western Sahara",
          "Yemen",
          "Zambia",
          "Zimbabwe",
          "Åland"
         ],
         "name": "",
         "type": "choropleth",
         "z": [
          0.6435143031108925,
          2.704248062370107,
          4.6501147594244285,
          0.6853201638618023,
          2.202104232933677,
          3.3681272896707526,
          3.4162821223028494,
          3.586686825372576,
          3.9539199830315397,
          2.9882227863358146,
          -26.14591318686087,
          -2.1187870248171814,
          12.132476431466511,
          5.629739491202246,
          13.27018486074043,
          23.98351982897424,
          0.9127936381538637,
          7.093751368393408,
          -2.4692603314538153,
          -2.2590418007235935,
          4.345987434881549,
          -5.9045274827505985,
          -5.863034349090124,
          1.7161162382732131,
          -1.7160388968816775,
          0.6687773097150629,
          3.7662614869571343,
          3.342765770368983,
          10.533767783500391,
          1.7518335608387892,
          3.226958024009363,
          3.1856091145799015,
          12.982876396804288,
          -0.3577254237987937,
          3.3503708686043465,
          1.8489084669721434,
          4.640919331831328,
          -2.778049521416537,
          -55.961567751434195,
          -3.0677879533604346,
          1.2900607268729214,
          4.258293077367226,
          5.537073326345543,
          -3.0271096506585438,
          5.654932235792631,
          3.387151318890802,
          -3.2595110605615263,
          -4.076195261226745,
          -1.350171083322227,
          2.020911650397905,
          1.8069573687591989,
          -9.839366124004167,
          -1.4494198124095026,
          2.8359424998136484,
          7.69539173616709,
          -10.164499430156393,
          1.1556683501768417,
          -27.069143544613183,
          -1.6620703240421641,
          4.302640280680903,
          4.353502707561896,
          0.4407842552715646,
          -2.7623368165943463,
          -5.56343986244916,
          2.5981357419575746,
          0.8120479118405965,
          5.229775638464651,
          -0.6345189921095562,
          4.795037970657234,
          -5.400695722811443,
          -4.357888115309494,
          2.123247864931699,
          3.072471307344693,
          3.1976906838932617,
          32.346753601310496,
          2.6946227483730656,
          -5.173005305263989,
          4.3319223578345945,
          2.640044342418646,
          0.8281085172062497,
          0.672543086436006,
          7.168244063653395,
          -20.34521419445674,
          -3.2579032227708193,
          -0.013283806056418879,
          -4.982841825467865,
          -26.226110775718357,
          4.217399022597235,
          4.122203189667117,
          0.3963546572308685,
          2.5015632977838376,
          2.7994027231923457,
          -1.582830069851482,
          -1.1796794208893457,
          4.826325698971545,
          0.8787186069641351,
          1.5583801327599511,
          3.3337598750008413,
          -13.184834183754923,
          11.940761026232337,
          1.5521551250831545,
          2.520026917414575,
          11.268146219173293,
          13.483445947448725,
          1.6481535777285616,
          -0.9282963114392251,
          7.114149802973446,
          2.1244250598617453,
          1.9998234839084805,
          6.7952433943220925,
          -2.7231702218448506,
          -8.943415629844885,
          4.501708569258933,
          -3.964149940726791,
          -1.7071202586143475,
          1.8001644820338836,
          8.75677500421974,
          -3.9736292781090254,
          -5.621608904703789,
          -5.717608388516715,
          8.417934423539464,
          2.474808593235167,
          2.307668568077892,
          -3.052919403069987,
          5.257077774162067,
          -6.03332850835927,
          -4.817212703019491,
          3.3798432566337633,
          8.746743095362163,
          3.770550771249037,
          2.7297105078911033,
          3.2435006388122023,
          0.60107820525519,
          0.3822778806231053,
          4.353502707561896,
          -0.06082439087456981,
          4.313233702439434,
          4.338357527954773,
          -2.9174546761574938,
          7.64221232309692,
          -1.7365590784020335,
          -39.87899867731348,
          8.15609081189863,
          4.066772747920644,
          -0.9836601180081006,
          1.9769611151456479,
          3.831699004767075,
          4.900521690833726,
          -2.7380204837277655,
          -3.0153596964670903,
          1.3099990837336373,
          2.2563219876587937,
          1.715431341141227,
          -3.32581011074341,
          3.9551454392757313,
          2.3772020672650163,
          70.99533246988096,
          23.30932971811892,
          -0.39478988911907376,
          -22.52955265394422,
          5.342098831322373,
          1.4159941088966788,
          -0.52309221654816,
          3.1613796029272834,
          3.397620239606036,
          1.743291231740618,
          -1.862139968864851,
          2.1544607679728545,
          5.504992983383827,
          1.8559263034518825,
          1.512463385066809,
          5.7387636316073465,
          -1.724402764865196,
          2.3277255294001042,
          -5.522009329463784,
          4.362486828240253,
          12.648058422317444,
          18.485022215852087,
          1.5180203997837927,
          3.586686825372576,
          3.8575731209423703,
          4.353094876964603,
          3.586686825372576,
          -3.790595399188079,
          4.311422340531235,
          2.2951835689647204,
          5.318447702852835,
          1.1281045391884348,
          -6.563036960479707,
          -0.18921127804335525,
          13.720701445406824,
          2.8028972169328092,
          2.2935046998680653,
          3.1967225754717443,
          3.586686825372576,
          13.367317809224733,
          -10.23625736474061,
          1.6622887148816545,
          3.8010579558649837,
          1.18742856832601,
          3.2481188317626364,
          4.543784702906395,
          -4.757158199903133,
          -1.044000318778715,
          -3.52900263591599,
          4.8211191804097275,
          4.616566541324896,
          0.7566090333039455,
          26.357233413156766,
          1.3072458962029465,
          -11.692891787633119,
          1.8546621677228092,
          -10.315786892882517,
          3.4000038353117157,
          5.443432386532621,
          -2.236745009094554,
          -0.3908684493343251,
          2.4982553355484605,
          4.181181901928177,
          3.026971759794894,
          19.12662534371068,
          14.970696391634108,
          1.1312754100156086,
          -2.4031260175838454,
          11.277220877981332,
          3.415930610946649,
          0.44021319832789896,
          0.11975618868251825,
          16.11323528197337,
          -2.4794922636935612,
          10.863861890844827,
          -3.7030365877821048,
          3.7634194648438424,
          -3.087261045329015,
          -1.952394615779962,
          -3.5532034464548334,
          -1.8849551745147686,
          0.403945413937179,
          -1.137501004536845
         ]
        }
       ],
       "layout": {
        "coloraxis": {
         "colorbar": {
          "title": {
           "text": "Percent_Change"
          }
         },
         "colorscale": [
          [
           0,
           "rgb(103,0,31)"
          ],
          [
           0.1,
           "rgb(178,24,43)"
          ],
          [
           0.2,
           "rgb(214,96,77)"
          ],
          [
           0.3,
           "rgb(244,165,130)"
          ],
          [
           0.4,
           "rgb(253,219,199)"
          ],
          [
           0.5,
           "rgb(247,247,247)"
          ],
          [
           0.6,
           "rgb(209,229,240)"
          ],
          [
           0.7,
           "rgb(146,197,222)"
          ],
          [
           0.8,
           "rgb(67,147,195)"
          ],
          [
           0.9,
           "rgb(33,102,172)"
          ],
          [
           1,
           "rgb(5,48,97)"
          ]
         ]
        },
        "geo": {
         "center": {},
         "domain": {
          "x": [
           0,
           1
          ],
          "y": [
           0,
           1
          ]
         }
        },
        "legend": {
         "tracegroupgap": 0
        },
        "template": {
         "data": {
          "bar": [
           {
            "error_x": {
             "color": "#2a3f5f"
            },
            "error_y": {
             "color": "#2a3f5f"
            },
            "marker": {
             "line": {
              "color": "#E5ECF6",
              "width": 0.5
             },
             "pattern": {
              "fillmode": "overlay",
              "size": 10,
              "solidity": 0.2
             }
            },
            "type": "bar"
           }
          ],
          "barpolar": [
           {
            "marker": {
             "line": {
              "color": "#E5ECF6",
              "width": 0.5
             },
             "pattern": {
              "fillmode": "overlay",
              "size": 10,
              "solidity": 0.2
             }
            },
            "type": "barpolar"
           }
          ],
          "carpet": [
           {
            "aaxis": {
             "endlinecolor": "#2a3f5f",
             "gridcolor": "white",
             "linecolor": "white",
             "minorgridcolor": "white",
             "startlinecolor": "#2a3f5f"
            },
            "baxis": {
             "endlinecolor": "#2a3f5f",
             "gridcolor": "white",
             "linecolor": "white",
             "minorgridcolor": "white",
             "startlinecolor": "#2a3f5f"
            },
            "type": "carpet"
           }
          ],
          "choropleth": [
           {
            "colorbar": {
             "outlinewidth": 0,
             "ticks": ""
            },
            "type": "choropleth"
           }
          ],
          "contour": [
           {
            "colorbar": {
             "outlinewidth": 0,
             "ticks": ""
            },
            "colorscale": [
             [
              0,
              "#0d0887"
             ],
             [
              0.1111111111111111,
              "#46039f"
             ],
             [
              0.2222222222222222,
              "#7201a8"
             ],
             [
              0.3333333333333333,
              "#9c179e"
             ],
             [
              0.4444444444444444,
              "#bd3786"
             ],
             [
              0.5555555555555556,
              "#d8576b"
             ],
             [
              0.6666666666666666,
              "#ed7953"
             ],
             [
              0.7777777777777778,
              "#fb9f3a"
             ],
             [
              0.8888888888888888,
              "#fdca26"
             ],
             [
              1,
              "#f0f921"
             ]
            ],
            "type": "contour"
           }
          ],
          "contourcarpet": [
           {
            "colorbar": {
             "outlinewidth": 0,
             "ticks": ""
            },
            "type": "contourcarpet"
           }
          ],
          "heatmap": [
           {
            "colorbar": {
             "outlinewidth": 0,
             "ticks": ""
            },
            "colorscale": [
             [
              0,
              "#0d0887"
             ],
             [
              0.1111111111111111,
              "#46039f"
             ],
             [
              0.2222222222222222,
              "#7201a8"
             ],
             [
              0.3333333333333333,
              "#9c179e"
             ],
             [
              0.4444444444444444,
              "#bd3786"
             ],
             [
              0.5555555555555556,
              "#d8576b"
             ],
             [
              0.6666666666666666,
              "#ed7953"
             ],
             [
              0.7777777777777778,
              "#fb9f3a"
             ],
             [
              0.8888888888888888,
              "#fdca26"
             ],
             [
              1,
              "#f0f921"
             ]
            ],
            "type": "heatmap"
           }
          ],
          "heatmapgl": [
           {
            "colorbar": {
             "outlinewidth": 0,
             "ticks": ""
            },
            "colorscale": [
             [
              0,
              "#0d0887"
             ],
             [
              0.1111111111111111,
              "#46039f"
             ],
             [
              0.2222222222222222,
              "#7201a8"
             ],
             [
              0.3333333333333333,
              "#9c179e"
             ],
             [
              0.4444444444444444,
              "#bd3786"
             ],
             [
              0.5555555555555556,
              "#d8576b"
             ],
             [
              0.6666666666666666,
              "#ed7953"
             ],
             [
              0.7777777777777778,
              "#fb9f3a"
             ],
             [
              0.8888888888888888,
              "#fdca26"
             ],
             [
              1,
              "#f0f921"
             ]
            ],
            "type": "heatmapgl"
           }
          ],
          "histogram": [
           {
            "marker": {
             "pattern": {
              "fillmode": "overlay",
              "size": 10,
              "solidity": 0.2
             }
            },
            "type": "histogram"
           }
          ],
          "histogram2d": [
           {
            "colorbar": {
             "outlinewidth": 0,
             "ticks": ""
            },
            "colorscale": [
             [
              0,
              "#0d0887"
             ],
             [
              0.1111111111111111,
              "#46039f"
             ],
             [
              0.2222222222222222,
              "#7201a8"
             ],
             [
              0.3333333333333333,
              "#9c179e"
             ],
             [
              0.4444444444444444,
              "#bd3786"
             ],
             [
              0.5555555555555556,
              "#d8576b"
             ],
             [
              0.6666666666666666,
              "#ed7953"
             ],
             [
              0.7777777777777778,
              "#fb9f3a"
             ],
             [
              0.8888888888888888,
              "#fdca26"
             ],
             [
              1,
              "#f0f921"
             ]
            ],
            "type": "histogram2d"
           }
          ],
          "histogram2dcontour": [
           {
            "colorbar": {
             "outlinewidth": 0,
             "ticks": ""
            },
            "colorscale": [
             [
              0,
              "#0d0887"
             ],
             [
              0.1111111111111111,
              "#46039f"
             ],
             [
              0.2222222222222222,
              "#7201a8"
             ],
             [
              0.3333333333333333,
              "#9c179e"
             ],
             [
              0.4444444444444444,
              "#bd3786"
             ],
             [
              0.5555555555555556,
              "#d8576b"
             ],
             [
              0.6666666666666666,
              "#ed7953"
             ],
             [
              0.7777777777777778,
              "#fb9f3a"
             ],
             [
              0.8888888888888888,
              "#fdca26"
             ],
             [
              1,
              "#f0f921"
             ]
            ],
            "type": "histogram2dcontour"
           }
          ],
          "mesh3d": [
           {
            "colorbar": {
             "outlinewidth": 0,
             "ticks": ""
            },
            "type": "mesh3d"
           }
          ],
          "parcoords": [
           {
            "line": {
             "colorbar": {
              "outlinewidth": 0,
              "ticks": ""
             }
            },
            "type": "parcoords"
           }
          ],
          "pie": [
           {
            "automargin": true,
            "type": "pie"
           }
          ],
          "scatter": [
           {
            "fillpattern": {
             "fillmode": "overlay",
             "size": 10,
             "solidity": 0.2
            },
            "type": "scatter"
           }
          ],
          "scatter3d": [
           {
            "line": {
             "colorbar": {
              "outlinewidth": 0,
              "ticks": ""
             }
            },
            "marker": {
             "colorbar": {
              "outlinewidth": 0,
              "ticks": ""
             }
            },
            "type": "scatter3d"
           }
          ],
          "scattercarpet": [
           {
            "marker": {
             "colorbar": {
              "outlinewidth": 0,
              "ticks": ""
             }
            },
            "type": "scattercarpet"
           }
          ],
          "scattergeo": [
           {
            "marker": {
             "colorbar": {
              "outlinewidth": 0,
              "ticks": ""
             }
            },
            "type": "scattergeo"
           }
          ],
          "scattergl": [
           {
            "marker": {
             "colorbar": {
              "outlinewidth": 0,
              "ticks": ""
             }
            },
            "type": "scattergl"
           }
          ],
          "scattermapbox": [
           {
            "marker": {
             "colorbar": {
              "outlinewidth": 0,
              "ticks": ""
             }
            },
            "type": "scattermapbox"
           }
          ],
          "scatterpolar": [
           {
            "marker": {
             "colorbar": {
              "outlinewidth": 0,
              "ticks": ""
             }
            },
            "type": "scatterpolar"
           }
          ],
          "scatterpolargl": [
           {
            "marker": {
             "colorbar": {
              "outlinewidth": 0,
              "ticks": ""
             }
            },
            "type": "scatterpolargl"
           }
          ],
          "scatterternary": [
           {
            "marker": {
             "colorbar": {
              "outlinewidth": 0,
              "ticks": ""
             }
            },
            "type": "scatterternary"
           }
          ],
          "surface": [
           {
            "colorbar": {
             "outlinewidth": 0,
             "ticks": ""
            },
            "colorscale": [
             [
              0,
              "#0d0887"
             ],
             [
              0.1111111111111111,
              "#46039f"
             ],
             [
              0.2222222222222222,
              "#7201a8"
             ],
             [
              0.3333333333333333,
              "#9c179e"
             ],
             [
              0.4444444444444444,
              "#bd3786"
             ],
             [
              0.5555555555555556,
              "#d8576b"
             ],
             [
              0.6666666666666666,
              "#ed7953"
             ],
             [
              0.7777777777777778,
              "#fb9f3a"
             ],
             [
              0.8888888888888888,
              "#fdca26"
             ],
             [
              1,
              "#f0f921"
             ]
            ],
            "type": "surface"
           }
          ],
          "table": [
           {
            "cells": {
             "fill": {
              "color": "#EBF0F8"
             },
             "line": {
              "color": "white"
             }
            },
            "header": {
             "fill": {
              "color": "#C8D4E3"
             },
             "line": {
              "color": "white"
             }
            },
            "type": "table"
           }
          ]
         },
         "layout": {
          "annotationdefaults": {
           "arrowcolor": "#2a3f5f",
           "arrowhead": 0,
           "arrowwidth": 1
          },
          "autotypenumbers": "strict",
          "coloraxis": {
           "colorbar": {
            "outlinewidth": 0,
            "ticks": ""
           }
          },
          "colorscale": {
           "diverging": [
            [
             0,
             "#8e0152"
            ],
            [
             0.1,
             "#c51b7d"
            ],
            [
             0.2,
             "#de77ae"
            ],
            [
             0.3,
             "#f1b6da"
            ],
            [
             0.4,
             "#fde0ef"
            ],
            [
             0.5,
             "#f7f7f7"
            ],
            [
             0.6,
             "#e6f5d0"
            ],
            [
             0.7,
             "#b8e186"
            ],
            [
             0.8,
             "#7fbc41"
            ],
            [
             0.9,
             "#4d9221"
            ],
            [
             1,
             "#276419"
            ]
           ],
           "sequential": [
            [
             0,
             "#0d0887"
            ],
            [
             0.1111111111111111,
             "#46039f"
            ],
            [
             0.2222222222222222,
             "#7201a8"
            ],
            [
             0.3333333333333333,
             "#9c179e"
            ],
            [
             0.4444444444444444,
             "#bd3786"
            ],
            [
             0.5555555555555556,
             "#d8576b"
            ],
            [
             0.6666666666666666,
             "#ed7953"
            ],
            [
             0.7777777777777778,
             "#fb9f3a"
            ],
            [
             0.8888888888888888,
             "#fdca26"
            ],
            [
             1,
             "#f0f921"
            ]
           ],
           "sequentialminus": [
            [
             0,
             "#0d0887"
            ],
            [
             0.1111111111111111,
             "#46039f"
            ],
            [
             0.2222222222222222,
             "#7201a8"
            ],
            [
             0.3333333333333333,
             "#9c179e"
            ],
            [
             0.4444444444444444,
             "#bd3786"
            ],
            [
             0.5555555555555556,
             "#d8576b"
            ],
            [
             0.6666666666666666,
             "#ed7953"
            ],
            [
             0.7777777777777778,
             "#fb9f3a"
            ],
            [
             0.8888888888888888,
             "#fdca26"
            ],
            [
             1,
             "#f0f921"
            ]
           ]
          },
          "colorway": [
           "#636efa",
           "#EF553B",
           "#00cc96",
           "#ab63fa",
           "#FFA15A",
           "#19d3f3",
           "#FF6692",
           "#B6E880",
           "#FF97FF",
           "#FECB52"
          ],
          "font": {
           "color": "#2a3f5f"
          },
          "geo": {
           "bgcolor": "white",
           "lakecolor": "white",
           "landcolor": "#E5ECF6",
           "showlakes": true,
           "showland": true,
           "subunitcolor": "white"
          },
          "hoverlabel": {
           "align": "left"
          },
          "hovermode": "closest",
          "mapbox": {
           "style": "light"
          },
          "paper_bgcolor": "white",
          "plot_bgcolor": "#E5ECF6",
          "polar": {
           "angularaxis": {
            "gridcolor": "white",
            "linecolor": "white",
            "ticks": ""
           },
           "bgcolor": "#E5ECF6",
           "radialaxis": {
            "gridcolor": "white",
            "linecolor": "white",
            "ticks": ""
           }
          },
          "scene": {
           "xaxis": {
            "backgroundcolor": "#E5ECF6",
            "gridcolor": "white",
            "gridwidth": 2,
            "linecolor": "white",
            "showbackground": true,
            "ticks": "",
            "zerolinecolor": "white"
           },
           "yaxis": {
            "backgroundcolor": "#E5ECF6",
            "gridcolor": "white",
            "gridwidth": 2,
            "linecolor": "white",
            "showbackground": true,
            "ticks": "",
            "zerolinecolor": "white"
           },
           "zaxis": {
            "backgroundcolor": "#E5ECF6",
            "gridcolor": "white",
            "gridwidth": 2,
            "linecolor": "white",
            "showbackground": true,
            "ticks": "",
            "zerolinecolor": "white"
           }
          },
          "shapedefaults": {
           "line": {
            "color": "#2a3f5f"
           }
          },
          "ternary": {
           "aaxis": {
            "gridcolor": "white",
            "linecolor": "white",
            "ticks": ""
           },
           "baxis": {
            "gridcolor": "white",
            "linecolor": "white",
            "ticks": ""
           },
           "bgcolor": "#E5ECF6",
           "caxis": {
            "gridcolor": "white",
            "linecolor": "white",
            "ticks": ""
           }
          },
          "title": {
           "x": 0.05
          },
          "xaxis": {
           "automargin": true,
           "gridcolor": "white",
           "linecolor": "white",
           "ticks": "",
           "title": {
            "standoff": 15
           },
           "zerolinecolor": "white",
           "zerolinewidth": 2
          },
          "yaxis": {
           "automargin": true,
           "gridcolor": "white",
           "linecolor": "white",
           "ticks": "",
           "title": {
            "standoff": 15
           },
           "zerolinecolor": "white",
           "zerolinewidth": 2
          }
         }
        },
        "title": {
         "text": "Average Temperature Change by Country (1913 to 2013)"
        }
       }
      }
     },
     "metadata": {},
     "output_type": "display_data"
    }
   ],
   "source": [
    "percent_change_graph = px.choropleth(\n",
    "    change_in_temp,\n",
    "    locations = 'Country',\n",
    "    locationmode= 'country names',\n",
    "    color = 'Percent_Change',\n",
    "    color_continuous_scale= 'RdBu',\n",
    "    title = 'Average Temperature Change by Country (1913 to 2013)'\n",
    ")\n",
    "percent_change_graph"
   ]
  },
  {
   "cell_type": "markdown",
   "metadata": {},
   "source": [
    "It looks like most countries did not experience a significant percent change in temperature, but very cold places like Canada, Greenland, Mongolia, experienced a great decrease in temperature over the past century. \n",
    "\n",
    "The change in temperatures for these three countries are as follows:\n",
    "1. Canada: -55.86%\n",
    "2. Mongolia: -39.88%\n",
    "3. Greenland: -26.23%\n",
    "\n",
    "Interesting, Norway also increased a significant decrease in temperature the past century (-22.53%) but other Nordic countries, Sweden and Finland, experienced an increase in temperature (26.36% and 32.35%, respectively)."
   ]
  },
  {
   "cell_type": "markdown",
   "metadata": {},
   "source": [
    "### Temperature Trends in the United States"
   ]
  },
  {
   "cell_type": "code",
   "execution_count": 7,
   "metadata": {},
   "outputs": [
    {
     "name": "stderr",
     "output_type": "stream",
     "text": [
      "/var/folders/7t/qp5nbn7s1wq8lmyvmpkcc0180000gn/T/ipykernel_92306/4087275938.py:5: SettingWithCopyWarning:\n",
      "\n",
      "\n",
      "A value is trying to be set on a copy of a slice from a DataFrame.\n",
      "Try using .loc[row_indexer,col_indexer] = value instead\n",
      "\n",
      "See the caveats in the documentation: https://pandas.pydata.org/pandas-docs/stable/user_guide/indexing.html#returning-a-view-versus-a-copy\n",
      "\n",
      "/var/folders/7t/qp5nbn7s1wq8lmyvmpkcc0180000gn/T/ipykernel_92306/4087275938.py:6: SettingWithCopyWarning:\n",
      "\n",
      "\n",
      "A value is trying to be set on a copy of a slice from a DataFrame.\n",
      "Try using .loc[row_indexer,col_indexer] = value instead\n",
      "\n",
      "See the caveats in the documentation: https://pandas.pydata.org/pandas-docs/stable/user_guide/indexing.html#returning-a-view-versus-a-copy\n",
      "\n"
     ]
    },
    {
     "data": {
      "text/html": [
       "<div>\n",
       "<style scoped>\n",
       "    .dataframe tbody tr th:only-of-type {\n",
       "        vertical-align: middle;\n",
       "    }\n",
       "\n",
       "    .dataframe tbody tr th {\n",
       "        vertical-align: top;\n",
       "    }\n",
       "\n",
       "    .dataframe thead th {\n",
       "        text-align: right;\n",
       "    }\n",
       "</style>\n",
       "<table border=\"1\" class=\"dataframe\">\n",
       "  <thead>\n",
       "    <tr style=\"text-align: right;\">\n",
       "      <th></th>\n",
       "      <th>Decade</th>\n",
       "      <th>AverageTemp_F</th>\n",
       "      <th>country</th>\n",
       "    </tr>\n",
       "  </thead>\n",
       "  <tbody>\n",
       "    <tr>\n",
       "      <th>0</th>\n",
       "      <td>1760</td>\n",
       "      <td>47.879450</td>\n",
       "      <td>United States</td>\n",
       "    </tr>\n",
       "    <tr>\n",
       "      <th>1</th>\n",
       "      <td>1770</td>\n",
       "      <td>44.933077</td>\n",
       "      <td>United States</td>\n",
       "    </tr>\n",
       "    <tr>\n",
       "      <th>2</th>\n",
       "      <td>1780</td>\n",
       "      <td>44.805855</td>\n",
       "      <td>United States</td>\n",
       "    </tr>\n",
       "    <tr>\n",
       "      <th>3</th>\n",
       "      <td>1790</td>\n",
       "      <td>49.135723</td>\n",
       "      <td>United States</td>\n",
       "    </tr>\n",
       "    <tr>\n",
       "      <th>4</th>\n",
       "      <td>1810</td>\n",
       "      <td>43.952073</td>\n",
       "      <td>United States</td>\n",
       "    </tr>\n",
       "    <tr>\n",
       "      <th>5</th>\n",
       "      <td>1820</td>\n",
       "      <td>47.165585</td>\n",
       "      <td>United States</td>\n",
       "    </tr>\n",
       "    <tr>\n",
       "      <th>6</th>\n",
       "      <td>1830</td>\n",
       "      <td>46.756970</td>\n",
       "      <td>United States</td>\n",
       "    </tr>\n",
       "    <tr>\n",
       "      <th>7</th>\n",
       "      <td>1840</td>\n",
       "      <td>46.800305</td>\n",
       "      <td>United States</td>\n",
       "    </tr>\n",
       "    <tr>\n",
       "      <th>8</th>\n",
       "      <td>1850</td>\n",
       "      <td>47.001695</td>\n",
       "      <td>United States</td>\n",
       "    </tr>\n",
       "    <tr>\n",
       "      <th>9</th>\n",
       "      <td>1860</td>\n",
       "      <td>47.143475</td>\n",
       "      <td>United States</td>\n",
       "    </tr>\n",
       "    <tr>\n",
       "      <th>10</th>\n",
       "      <td>1870</td>\n",
       "      <td>47.248475</td>\n",
       "      <td>United States</td>\n",
       "    </tr>\n",
       "    <tr>\n",
       "      <th>11</th>\n",
       "      <td>1880</td>\n",
       "      <td>46.846175</td>\n",
       "      <td>United States</td>\n",
       "    </tr>\n",
       "    <tr>\n",
       "      <th>12</th>\n",
       "      <td>1890</td>\n",
       "      <td>46.956290</td>\n",
       "      <td>United States</td>\n",
       "    </tr>\n",
       "    <tr>\n",
       "      <th>13</th>\n",
       "      <td>1900</td>\n",
       "      <td>47.206805</td>\n",
       "      <td>United States</td>\n",
       "    </tr>\n",
       "    <tr>\n",
       "      <th>14</th>\n",
       "      <td>1910</td>\n",
       "      <td>47.228450</td>\n",
       "      <td>United States</td>\n",
       "    </tr>\n",
       "    <tr>\n",
       "      <th>15</th>\n",
       "      <td>1920</td>\n",
       "      <td>47.759450</td>\n",
       "      <td>United States</td>\n",
       "    </tr>\n",
       "    <tr>\n",
       "      <th>16</th>\n",
       "      <td>1930</td>\n",
       "      <td>48.356585</td>\n",
       "      <td>United States</td>\n",
       "    </tr>\n",
       "    <tr>\n",
       "      <th>17</th>\n",
       "      <td>1940</td>\n",
       "      <td>48.063365</td>\n",
       "      <td>United States</td>\n",
       "    </tr>\n",
       "    <tr>\n",
       "      <th>18</th>\n",
       "      <td>1950</td>\n",
       "      <td>48.043820</td>\n",
       "      <td>United States</td>\n",
       "    </tr>\n",
       "    <tr>\n",
       "      <th>19</th>\n",
       "      <td>1960</td>\n",
       "      <td>47.699450</td>\n",
       "      <td>United States</td>\n",
       "    </tr>\n",
       "    <tr>\n",
       "      <th>20</th>\n",
       "      <td>1970</td>\n",
       "      <td>47.654465</td>\n",
       "      <td>United States</td>\n",
       "    </tr>\n",
       "    <tr>\n",
       "      <th>21</th>\n",
       "      <td>1980</td>\n",
       "      <td>48.387755</td>\n",
       "      <td>United States</td>\n",
       "    </tr>\n",
       "    <tr>\n",
       "      <th>22</th>\n",
       "      <td>1990</td>\n",
       "      <td>48.771605</td>\n",
       "      <td>United States</td>\n",
       "    </tr>\n",
       "    <tr>\n",
       "      <th>23</th>\n",
       "      <td>2000</td>\n",
       "      <td>49.364105</td>\n",
       "      <td>United States</td>\n",
       "    </tr>\n",
       "    <tr>\n",
       "      <th>24</th>\n",
       "      <td>2010</td>\n",
       "      <td>50.138920</td>\n",
       "      <td>United States</td>\n",
       "    </tr>\n",
       "  </tbody>\n",
       "</table>\n",
       "</div>"
      ],
      "text/plain": [
       "    Decade  AverageTemp_F        country\n",
       "0     1760      47.879450  United States\n",
       "1     1770      44.933077  United States\n",
       "2     1780      44.805855  United States\n",
       "3     1790      49.135723  United States\n",
       "4     1810      43.952073  United States\n",
       "5     1820      47.165585  United States\n",
       "6     1830      46.756970  United States\n",
       "7     1840      46.800305  United States\n",
       "8     1850      47.001695  United States\n",
       "9     1860      47.143475  United States\n",
       "10    1870      47.248475  United States\n",
       "11    1880      46.846175  United States\n",
       "12    1890      46.956290  United States\n",
       "13    1900      47.206805  United States\n",
       "14    1910      47.228450  United States\n",
       "15    1920      47.759450  United States\n",
       "16    1930      48.356585  United States\n",
       "17    1940      48.063365  United States\n",
       "18    1950      48.043820  United States\n",
       "19    1960      47.699450  United States\n",
       "20    1970      47.654465  United States\n",
       "21    1980      48.387755  United States\n",
       "22    1990      48.771605  United States\n",
       "23    2000      49.364105  United States\n",
       "24    2010      50.138920  United States"
      ]
     },
     "execution_count": 7,
     "metadata": {},
     "output_type": "execute_result"
    }
   ],
   "source": [
    "# Let's take a closer look at the trend in temperatures in the US over the past few decades. \n",
    "us_only = global_land_temps[global_land_temps['Country'] == 'United States']\n",
    "\n",
    "# Change to datetime and group by decade.\n",
    "us_only['dt'] = pd.to_datetime(us_only['dt'])\n",
    "us_only['Decade'] = (us_only['dt'].dt.year // 10) * 10\n",
    "us_only = pd.DataFrame(us_only[['AverageTemp_F', 'Decade']].groupby(['Decade'])['AverageTemp_F'].mean()).reset_index()\n",
    "us_only['country'] = 'United States'\n",
    "us_only"
   ]
  },
  {
   "cell_type": "code",
   "execution_count": 8,
   "metadata": {},
   "outputs": [
    {
     "data": {
      "text/html": [
       "\n",
       "<style>\n",
       "  #altair-viz-0830cbeb74b14e51a49f3a8302760b95.vega-embed {\n",
       "    width: 100%;\n",
       "    display: flex;\n",
       "  }\n",
       "\n",
       "  #altair-viz-0830cbeb74b14e51a49f3a8302760b95.vega-embed details,\n",
       "  #altair-viz-0830cbeb74b14e51a49f3a8302760b95.vega-embed details summary {\n",
       "    position: relative;\n",
       "  }\n",
       "</style>\n",
       "<div id=\"altair-viz-0830cbeb74b14e51a49f3a8302760b95\"></div>\n",
       "<script type=\"text/javascript\">\n",
       "  var VEGA_DEBUG = (typeof VEGA_DEBUG == \"undefined\") ? {} : VEGA_DEBUG;\n",
       "  (function(spec, embedOpt){\n",
       "    let outputDiv = document.currentScript.previousElementSibling;\n",
       "    if (outputDiv.id !== \"altair-viz-0830cbeb74b14e51a49f3a8302760b95\") {\n",
       "      outputDiv = document.getElementById(\"altair-viz-0830cbeb74b14e51a49f3a8302760b95\");\n",
       "    }\n",
       "    const paths = {\n",
       "      \"vega\": \"https://cdn.jsdelivr.net/npm/vega@5?noext\",\n",
       "      \"vega-lib\": \"https://cdn.jsdelivr.net/npm/vega-lib?noext\",\n",
       "      \"vega-lite\": \"https://cdn.jsdelivr.net/npm/vega-lite@5.16.3?noext\",\n",
       "      \"vega-embed\": \"https://cdn.jsdelivr.net/npm/vega-embed@6?noext\",\n",
       "    };\n",
       "\n",
       "    function maybeLoadScript(lib, version) {\n",
       "      var key = `${lib.replace(\"-\", \"\")}_version`;\n",
       "      return (VEGA_DEBUG[key] == version) ?\n",
       "        Promise.resolve(paths[lib]) :\n",
       "        new Promise(function(resolve, reject) {\n",
       "          var s = document.createElement('script');\n",
       "          document.getElementsByTagName(\"head\")[0].appendChild(s);\n",
       "          s.async = true;\n",
       "          s.onload = () => {\n",
       "            VEGA_DEBUG[key] = version;\n",
       "            return resolve(paths[lib]);\n",
       "          };\n",
       "          s.onerror = () => reject(`Error loading script: ${paths[lib]}`);\n",
       "          s.src = paths[lib];\n",
       "        });\n",
       "    }\n",
       "\n",
       "    function showError(err) {\n",
       "      outputDiv.innerHTML = `<div class=\"error\" style=\"color:red;\">${err}</div>`;\n",
       "      throw err;\n",
       "    }\n",
       "\n",
       "    function displayChart(vegaEmbed) {\n",
       "      vegaEmbed(outputDiv, spec, embedOpt)\n",
       "        .catch(err => showError(`Javascript Error: ${err.message}<br>This usually means there's a typo in your chart specification. See the javascript console for the full traceback.`));\n",
       "    }\n",
       "\n",
       "    if(typeof define === \"function\" && define.amd) {\n",
       "      requirejs.config({paths});\n",
       "      require([\"vega-embed\"], displayChart, err => showError(`Error loading script: ${err.message}`));\n",
       "    } else {\n",
       "      maybeLoadScript(\"vega\", \"5\")\n",
       "        .then(() => maybeLoadScript(\"vega-lite\", \"5.16.3\"))\n",
       "        .then(() => maybeLoadScript(\"vega-embed\", \"6\"))\n",
       "        .catch(showError)\n",
       "        .then(() => displayChart(vegaEmbed));\n",
       "    }\n",
       "  })({\"config\": {\"view\": {\"continuousWidth\": 300, \"continuousHeight\": 300}}, \"data\": {\"name\": \"data-826922140cfb08b2e1f3e2d8061f99f1\"}, \"mark\": {\"type\": \"line\", \"point\": true}, \"encoding\": {\"color\": {\"field\": \"country\", \"type\": \"nominal\"}, \"x\": {\"field\": \"Decade\", \"type\": \"ordinal\"}, \"y\": {\"field\": \"AverageTemp_F\", \"scale\": {\"domain\": [40, 55]}, \"type\": \"quantitative\"}}, \"title\": \"Average Temperature in the United States by Decade (1760s - 2010s)\", \"$schema\": \"https://vega.github.io/schema/vega-lite/v5.16.3.json\", \"datasets\": {\"data-826922140cfb08b2e1f3e2d8061f99f1\": [{\"Decade\": 1760, \"AverageTemp_F\": 47.87945, \"country\": \"United States\"}, {\"Decade\": 1770, \"AverageTemp_F\": 44.93307659574468, \"country\": \"United States\"}, {\"Decade\": 1780, \"AverageTemp_F\": 44.805854545454544, \"country\": \"United States\"}, {\"Decade\": 1790, \"AverageTemp_F\": 49.13572307692308, \"country\": \"United States\"}, {\"Decade\": 1810, \"AverageTemp_F\": 43.95207297297297, \"country\": \"United States\"}, {\"Decade\": 1820, \"AverageTemp_F\": 47.165585, \"country\": \"United States\"}, {\"Decade\": 1830, \"AverageTemp_F\": 46.75697, \"country\": \"United States\"}, {\"Decade\": 1840, \"AverageTemp_F\": 46.800305, \"country\": \"United States\"}, {\"Decade\": 1850, \"AverageTemp_F\": 47.001695000000005, \"country\": \"United States\"}, {\"Decade\": 1860, \"AverageTemp_F\": 47.143474999999995, \"country\": \"United States\"}, {\"Decade\": 1870, \"AverageTemp_F\": 47.248475, \"country\": \"United States\"}, {\"Decade\": 1880, \"AverageTemp_F\": 46.846175, \"country\": \"United States\"}, {\"Decade\": 1890, \"AverageTemp_F\": 46.956289999999996, \"country\": \"United States\"}, {\"Decade\": 1900, \"AverageTemp_F\": 47.206805, \"country\": \"United States\"}, {\"Decade\": 1910, \"AverageTemp_F\": 47.228449999999995, \"country\": \"United States\"}, {\"Decade\": 1920, \"AverageTemp_F\": 47.75945, \"country\": \"United States\"}, {\"Decade\": 1930, \"AverageTemp_F\": 48.356585, \"country\": \"United States\"}, {\"Decade\": 1940, \"AverageTemp_F\": 48.063365, \"country\": \"United States\"}, {\"Decade\": 1950, \"AverageTemp_F\": 48.04382, \"country\": \"United States\"}, {\"Decade\": 1960, \"AverageTemp_F\": 47.69945, \"country\": \"United States\"}, {\"Decade\": 1970, \"AverageTemp_F\": 47.654464999999995, \"country\": \"United States\"}, {\"Decade\": 1980, \"AverageTemp_F\": 48.387755, \"country\": \"United States\"}, {\"Decade\": 1990, \"AverageTemp_F\": 48.771605, \"country\": \"United States\"}, {\"Decade\": 2000, \"AverageTemp_F\": 49.364105, \"country\": \"United States\"}, {\"Decade\": 2010, \"AverageTemp_F\": 50.13892, \"country\": \"United States\"}]}}, {\"mode\": \"vega-lite\"});\n",
       "</script>"
      ],
      "text/plain": [
       "alt.Chart(...)"
      ]
     },
     "execution_count": 8,
     "metadata": {},
     "output_type": "execute_result"
    }
   ],
   "source": [
    "us_only_graph = alt.Chart(us_only).mark_line(point = True).encode(\n",
    "    x = 'Decade:O',\n",
    "    y = alt.Y('AverageTemp_F:Q', scale = alt.Scale(domain = [40, 55])),\n",
    "    color = 'country'\n",
    ").properties(\n",
    "    title = 'Average Temperature in the United States by Decade (1760s - 2010s)'\n",
    ")\n",
    "us_only_graph"
   ]
  },
  {
   "cell_type": "markdown",
   "metadata": {},
   "source": [
    "From the graph, we can see that there are dramatic changes in temperature from the 1760s to 1810s (possibly due to a lack of records). Then, from 1820 and onward, there is visibly a generally upward trend in temperature."
   ]
  },
  {
   "cell_type": "code",
   "execution_count": 9,
   "metadata": {},
   "outputs": [
    {
     "data": {
      "text/plain": [
       "0.06984999999999451"
      ]
     },
     "execution_count": 9,
     "metadata": {},
     "output_type": "execute_result"
    }
   ],
   "source": [
    "# Change in temperature from 1820 to 1910\n",
    "change_in_temp_part1 = (us_only[us_only['Decade'] == 1910]['AverageTemp_F'].iloc[0] - us_only[us_only['Decade'] == 1820]['AverageTemp_F'].iloc[0]) / (1910 - 1820) * 100\n",
    "change_in_temp_part1\n",
    "\n",
    "# There was a 0.098% increase in temperature from 1820 to 1910"
   ]
  },
  {
   "cell_type": "code",
   "execution_count": 10,
   "metadata": {},
   "outputs": [
    {
     "data": {
      "text/plain": [
       "2.9104700000000037"
      ]
     },
     "execution_count": 10,
     "metadata": {},
     "output_type": "execute_result"
    }
   ],
   "source": [
    "change_in_temp_part2 = (us_only[us_only['Decade'] == 2010]['AverageTemp_F'].iloc[0] - us_only[us_only['Decade'] == 1910]['AverageTemp_F'].iloc[0]) / (2010 - 1910) * 100\n",
    "change_in_temp_part2\n",
    "\n",
    "# There was a 2.91% increase in temperature from 1910 to 2010"
   ]
  },
  {
   "cell_type": "code",
   "execution_count": 11,
   "metadata": {},
   "outputs": [
    {
     "data": {
      "text/plain": [
       "41.66743020759101"
      ]
     },
     "execution_count": 11,
     "metadata": {},
     "output_type": "execute_result"
    }
   ],
   "source": [
    "change_in_temp_part2 / change_in_temp_part1"
   ]
  },
  {
   "cell_type": "markdown",
   "metadata": {},
   "source": [
    "The change in temperature in the United States from 1910 to 2010 was about 41.67 times more compared to the change in temperature from 1820 to 1910!"
   ]
  },
  {
   "cell_type": "code",
   "execution_count": 12,
   "metadata": {},
   "outputs": [
    {
     "data": {
      "text/html": [
       "<div>\n",
       "<style scoped>\n",
       "    .dataframe tbody tr th:only-of-type {\n",
       "        vertical-align: middle;\n",
       "    }\n",
       "\n",
       "    .dataframe tbody tr th {\n",
       "        vertical-align: top;\n",
       "    }\n",
       "\n",
       "    .dataframe thead th {\n",
       "        text-align: right;\n",
       "    }\n",
       "</style>\n",
       "<table border=\"1\" class=\"dataframe\">\n",
       "  <thead>\n",
       "    <tr style=\"text-align: right;\">\n",
       "      <th></th>\n",
       "      <th>State</th>\n",
       "      <th>Decade</th>\n",
       "      <th>AverageTemp_F</th>\n",
       "      <th>Region</th>\n",
       "    </tr>\n",
       "  </thead>\n",
       "  <tbody>\n",
       "    <tr>\n",
       "      <th>0</th>\n",
       "      <td>Alabama</td>\n",
       "      <td>1740</td>\n",
       "      <td>59.957185</td>\n",
       "      <td>South</td>\n",
       "    </tr>\n",
       "    <tr>\n",
       "      <th>1</th>\n",
       "      <td>Alabama</td>\n",
       "      <td>1750</td>\n",
       "      <td>61.657142</td>\n",
       "      <td>South</td>\n",
       "    </tr>\n",
       "    <tr>\n",
       "      <th>2</th>\n",
       "      <td>Alabama</td>\n",
       "      <td>1760</td>\n",
       "      <td>61.736245</td>\n",
       "      <td>South</td>\n",
       "    </tr>\n",
       "    <tr>\n",
       "      <th>3</th>\n",
       "      <td>Alabama</td>\n",
       "      <td>1770</td>\n",
       "      <td>62.201798</td>\n",
       "      <td>South</td>\n",
       "    </tr>\n",
       "    <tr>\n",
       "      <th>4</th>\n",
       "      <td>Alabama</td>\n",
       "      <td>1780</td>\n",
       "      <td>62.223567</td>\n",
       "      <td>South</td>\n",
       "    </tr>\n",
       "  </tbody>\n",
       "</table>\n",
       "</div>"
      ],
      "text/plain": [
       "     State  Decade  AverageTemp_F Region\n",
       "0  Alabama    1740      59.957185  South\n",
       "1  Alabama    1750      61.657142  South\n",
       "2  Alabama    1760      61.736245  South\n",
       "3  Alabama    1770      62.201798  South\n",
       "4  Alabama    1780      62.223567  South"
      ]
     },
     "execution_count": 12,
     "metadata": {},
     "output_type": "execute_result"
    }
   ],
   "source": [
    "# Now, let's investigate the change in temperature by state\n",
    "states = pd.read_csv('GlobalLandTemperaturesByState.csv')\n",
    "states = states[states['Country'] == 'United States'].dropna()\n",
    "states\n",
    "\n",
    "# Change to datetime and group by decade.\n",
    "states['dt'] = pd.to_datetime(states['dt'])\n",
    "states['Decade'] = (states['dt'].dt.year // 10) * 10\n",
    "states['AverageTemp_F'] = states['AverageTemperature'].apply(lambda column: column * 9/5 + 32)\n",
    "states = pd.DataFrame(states[['AverageTemp_F', 'Decade', 'State']].groupby(['State', 'Decade'])['AverageTemp_F'].mean()).reset_index()\n",
    "\n",
    "# Now we have a DataFrame of all the states and the average temperature in Fahrenheit. To make our data easier to visualize, we will separate these into regions.\n",
    "northeast = ['Connecticut', 'Maine', 'Massachusetts', 'New Hampshire', 'Rhode Island', 'Vermont', 'New Jersey', 'New York', 'Pennsylvania']\n",
    "midwest = ['Illinois', 'Indiana', 'Michigan', 'Ohio', 'Wisconsin', 'Iowa', 'Kansas', 'Minnesota', 'Missouri', 'Nebraska', 'North Dakota', 'South Dakota']\n",
    "south = ['Delaware', 'Florida', 'Georgia (State)', 'Maryland', 'North Carolina', 'South Carolina', 'Virginia', 'District of Columbia', 'West Virginia', 'Alabama', 'Kentucky',\\\n",
    "          'Mississippi', 'Tennessee', 'Arkansas', 'Louisiana', 'Oklahoma', 'Texas', 'District Of Columbia']\n",
    "west = ['Alaska', 'California', 'Hawaii', 'Oregon', 'Washington', 'Arizona', 'Colorado', 'Idaho', 'Montana', 'Nevada', 'New Mexico', 'Utah', 'Wyoming']\n",
    "\n",
    "states.loc[states['State'].isin(northeast), 'Region'] = 'Northeast'\n",
    "states.loc[states['State'].isin(midwest), 'Region'] = 'Midwest'\n",
    "states.loc[states['State'].isin(south), 'Region'] = 'South'\n",
    "states.loc[states['State'].isin(west), 'Region'] = 'West'\n",
    "\n",
    "states.head()"
   ]
  },
  {
   "cell_type": "code",
   "execution_count": 13,
   "metadata": {},
   "outputs": [
    {
     "data": {
      "text/html": [
       "\n",
       "<style>\n",
       "  #altair-viz-55493d2641d044398a0aeff893b6a164.vega-embed {\n",
       "    width: 100%;\n",
       "    display: flex;\n",
       "  }\n",
       "\n",
       "  #altair-viz-55493d2641d044398a0aeff893b6a164.vega-embed details,\n",
       "  #altair-viz-55493d2641d044398a0aeff893b6a164.vega-embed details summary {\n",
       "    position: relative;\n",
       "  }\n",
       "</style>\n",
       "<div id=\"altair-viz-55493d2641d044398a0aeff893b6a164\"></div>\n",
       "<script type=\"text/javascript\">\n",
       "  var VEGA_DEBUG = (typeof VEGA_DEBUG == \"undefined\") ? {} : VEGA_DEBUG;\n",
       "  (function(spec, embedOpt){\n",
       "    let outputDiv = document.currentScript.previousElementSibling;\n",
       "    if (outputDiv.id !== \"altair-viz-55493d2641d044398a0aeff893b6a164\") {\n",
       "      outputDiv = document.getElementById(\"altair-viz-55493d2641d044398a0aeff893b6a164\");\n",
       "    }\n",
       "    const paths = {\n",
       "      \"vega\": \"https://cdn.jsdelivr.net/npm/vega@5?noext\",\n",
       "      \"vega-lib\": \"https://cdn.jsdelivr.net/npm/vega-lib?noext\",\n",
       "      \"vega-lite\": \"https://cdn.jsdelivr.net/npm/vega-lite@5.16.3?noext\",\n",
       "      \"vega-embed\": \"https://cdn.jsdelivr.net/npm/vega-embed@6?noext\",\n",
       "    };\n",
       "\n",
       "    function maybeLoadScript(lib, version) {\n",
       "      var key = `${lib.replace(\"-\", \"\")}_version`;\n",
       "      return (VEGA_DEBUG[key] == version) ?\n",
       "        Promise.resolve(paths[lib]) :\n",
       "        new Promise(function(resolve, reject) {\n",
       "          var s = document.createElement('script');\n",
       "          document.getElementsByTagName(\"head\")[0].appendChild(s);\n",
       "          s.async = true;\n",
       "          s.onload = () => {\n",
       "            VEGA_DEBUG[key] = version;\n",
       "            return resolve(paths[lib]);\n",
       "          };\n",
       "          s.onerror = () => reject(`Error loading script: ${paths[lib]}`);\n",
       "          s.src = paths[lib];\n",
       "        });\n",
       "    }\n",
       "\n",
       "    function showError(err) {\n",
       "      outputDiv.innerHTML = `<div class=\"error\" style=\"color:red;\">${err}</div>`;\n",
       "      throw err;\n",
       "    }\n",
       "\n",
       "    function displayChart(vegaEmbed) {\n",
       "      vegaEmbed(outputDiv, spec, embedOpt)\n",
       "        .catch(err => showError(`Javascript Error: ${err.message}<br>This usually means there's a typo in your chart specification. See the javascript console for the full traceback.`));\n",
       "    }\n",
       "\n",
       "    if(typeof define === \"function\" && define.amd) {\n",
       "      requirejs.config({paths});\n",
       "      require([\"vega-embed\"], displayChart, err => showError(`Error loading script: ${err.message}`));\n",
       "    } else {\n",
       "      maybeLoadScript(\"vega\", \"5\")\n",
       "        .then(() => maybeLoadScript(\"vega-lite\", \"5.16.3\"))\n",
       "        .then(() => maybeLoadScript(\"vega-embed\", \"6\"))\n",
       "        .catch(showError)\n",
       "        .then(() => displayChart(vegaEmbed));\n",
       "    }\n",
       "  })({\"config\": {\"view\": {\"continuousWidth\": 300, \"continuousHeight\": 300}}, \"layer\": [{\"mark\": {\"type\": \"line\", \"point\": true}, \"encoding\": {\"color\": {\"field\": \"Region\", \"type\": \"nominal\"}, \"x\": {\"field\": \"Decade\", \"type\": \"ordinal\"}, \"y\": {\"aggregate\": \"mean\", \"field\": \"AverageTemp_F\", \"scale\": {\"domain\": [35, 65]}, \"type\": \"quantitative\"}}, \"title\": \"Average Temperature in the United States by Decade (1760s - 2010s)\"}, {\"mark\": {\"type\": \"line\", \"color\": \"black\", \"strokeWidth\": 3}, \"encoding\": {\"x\": {\"field\": \"Decade\", \"type\": \"ordinal\"}, \"y\": {\"aggregate\": \"mean\", \"field\": \"AverageTemp_F\", \"scale\": {\"domain\": [35, 65]}, \"type\": \"quantitative\"}}}, {\"data\": {\"name\": \"empty\"}, \"mark\": {\"type\": \"text\", \"align\": \"right\", \"baseline\": \"middle\", \"fontSize\": 10, \"text\": [\"<- National Mean Temperature\"]}, \"encoding\": {\"x\": {\"value\": 680}, \"y\": {\"value\": 120}}}, {\"data\": {\"name\": \"data-5d91d05715aaca8b783514a8c832507c\"}, \"mark\": {\"type\": \"rule\", \"color\": \"red\", \"strokeDash\": [3, 3]}, \"encoding\": {\"x\": {\"field\": \"Decade\", \"type\": \"ordinal\"}}}, {\"data\": {\"name\": \"empty\"}, \"mark\": {\"type\": \"text\", \"align\": \"left\", \"baseline\": \"middle\", \"fontSize\": 10, \"text\": [\"<- The Cold Winter\", \"of 1810\"]}, \"encoding\": {\"x\": {\"value\": 160}, \"y\": {\"value\": 20}}}], \"data\": {\"name\": \"data-0016213991f8816865eae5b935c9ea52\"}, \"$schema\": \"https://vega.github.io/schema/vega-lite/v5.16.3.json\", \"datasets\": {\"data-0016213991f8816865eae5b935c9ea52\": [{\"State\": \"Alabama\", \"Decade\": 1740, \"AverageTemp_F\": 59.95718461538461, \"Region\": \"South\"}, {\"State\": \"Alabama\", \"Decade\": 1750, \"AverageTemp_F\": 61.657142, \"Region\": \"South\"}, {\"State\": \"Alabama\", \"Decade\": 1760, \"AverageTemp_F\": 61.736245454545454, \"Region\": \"South\"}, {\"State\": \"Alabama\", \"Decade\": 1770, \"AverageTemp_F\": 62.20179805825243, \"Region\": \"South\"}, {\"State\": \"Alabama\", \"Decade\": 1780, \"AverageTemp_F\": 62.22356666666666, \"Region\": \"South\"}, {\"State\": \"Alabama\", \"Decade\": 1790, \"AverageTemp_F\": 62.76725, \"Region\": \"South\"}, {\"State\": \"Alabama\", \"Decade\": 1800, \"AverageTemp_F\": 62.849525, \"Region\": \"South\"}, {\"State\": \"Alabama\", \"Decade\": 1810, \"AverageTemp_F\": 60.878479999999996, \"Region\": \"South\"}, {\"State\": \"Alabama\", \"Decade\": 1820, \"AverageTemp_F\": 62.920745000000004, \"Region\": \"South\"}, {\"State\": \"Alabama\", \"Decade\": 1830, \"AverageTemp_F\": 62.670665, \"Region\": \"South\"}, {\"State\": \"Alabama\", \"Decade\": 1840, \"AverageTemp_F\": 62.621315, \"Region\": \"South\"}, {\"State\": \"Alabama\", \"Decade\": 1850, \"AverageTemp_F\": 62.28773, \"Region\": \"South\"}, {\"State\": \"Alabama\", \"Decade\": 1860, \"AverageTemp_F\": 62.319035, \"Region\": \"South\"}, {\"State\": \"Alabama\", \"Decade\": 1870, \"AverageTemp_F\": 62.362115, \"Region\": \"South\"}, {\"State\": \"Alabama\", \"Decade\": 1880, \"AverageTemp_F\": 62.5391, \"Region\": \"South\"}, {\"State\": \"Alabama\", \"Decade\": 1890, \"AverageTemp_F\": 62.480554999999995, \"Region\": \"South\"}, {\"State\": \"Alabama\", \"Decade\": 1900, \"AverageTemp_F\": 62.3795, \"Region\": \"South\"}, {\"State\": \"Alabama\", \"Decade\": 1910, \"AverageTemp_F\": 62.713895, \"Region\": \"South\"}, {\"State\": \"Alabama\", \"Decade\": 1920, \"AverageTemp_F\": 63.216245, \"Region\": \"South\"}, {\"State\": \"Alabama\", \"Decade\": 1930, \"AverageTemp_F\": 63.6125, \"Region\": \"South\"}, {\"State\": \"Alabama\", \"Decade\": 1940, \"AverageTemp_F\": 63.20897, \"Region\": \"South\"}, {\"State\": \"Alabama\", \"Decade\": 1950, \"AverageTemp_F\": 63.584885, \"Region\": \"South\"}, {\"State\": \"Alabama\", \"Decade\": 1960, \"AverageTemp_F\": 62.423975000000006, \"Region\": \"South\"}, {\"State\": \"Alabama\", \"Decade\": 1970, \"AverageTemp_F\": 62.93525, \"Region\": \"South\"}, {\"State\": \"Alabama\", \"Decade\": 1980, \"AverageTemp_F\": 63.145340000000004, \"Region\": \"South\"}, {\"State\": \"Alabama\", \"Decade\": 1990, \"AverageTemp_F\": 63.891065000000005, \"Region\": \"South\"}, {\"State\": \"Alabama\", \"Decade\": 2000, \"AverageTemp_F\": 64.16880499999999, \"Region\": \"South\"}, {\"State\": \"Alabama\", \"Decade\": 2010, \"AverageTemp_F\": 64.89784, \"Region\": \"South\"}, {\"State\": \"Alaska\", \"Decade\": 1820, \"AverageTemp_F\": 21.983490909090907, \"Region\": \"West\"}, {\"State\": \"Alaska\", \"Decade\": 1830, \"AverageTemp_F\": 20.740901098901098, \"Region\": \"West\"}, {\"State\": \"Alaska\", \"Decade\": 1840, \"AverageTemp_F\": 22.457423529411766, \"Region\": \"West\"}, {\"State\": \"Alaska\", \"Decade\": 1850, \"AverageTemp_F\": 23.094260550458717, \"Region\": \"West\"}, {\"State\": \"Alaska\", \"Decade\": 1860, \"AverageTemp_F\": 22.68809, \"Region\": \"West\"}, {\"State\": \"Alaska\", \"Decade\": 1870, \"AverageTemp_F\": 22.278977966101696, \"Region\": \"West\"}, {\"State\": \"Alaska\", \"Decade\": 1880, \"AverageTemp_F\": 22.20286181818182, \"Region\": \"West\"}, {\"State\": \"Alaska\", \"Decade\": 1890, \"AverageTemp_F\": 21.841246153846154, \"Region\": \"West\"}, {\"State\": \"Alaska\", \"Decade\": 1900, \"AverageTemp_F\": 22.269830000000002, \"Region\": \"West\"}, {\"State\": \"Alaska\", \"Decade\": 1910, \"AverageTemp_F\": 23.065234999999998, \"Region\": \"West\"}, {\"State\": \"Alaska\", \"Decade\": 1920, \"AverageTemp_F\": 23.996135, \"Region\": \"West\"}, {\"State\": \"Alaska\", \"Decade\": 1930, \"AverageTemp_F\": 23.312540000000002, \"Region\": \"West\"}, {\"State\": \"Alaska\", \"Decade\": 1940, \"AverageTemp_F\": 24.079655, \"Region\": \"West\"}, {\"State\": \"Alaska\", \"Decade\": 1950, \"AverageTemp_F\": 22.943525, \"Region\": \"West\"}, {\"State\": \"Alaska\", \"Decade\": 1960, \"AverageTemp_F\": 23.17118, \"Region\": \"West\"}, {\"State\": \"Alaska\", \"Decade\": 1970, \"AverageTemp_F\": 23.023625, \"Region\": \"West\"}, {\"State\": \"Alaska\", \"Decade\": 1980, \"AverageTemp_F\": 24.573935, \"Region\": \"West\"}, {\"State\": \"Alaska\", \"Decade\": 1990, \"AverageTemp_F\": 24.541114999999998, \"Region\": \"West\"}, {\"State\": \"Alaska\", \"Decade\": 2000, \"AverageTemp_F\": 25.91081, \"Region\": \"West\"}, {\"State\": \"Alaska\", \"Decade\": 2010, \"AverageTemp_F\": 25.175095454545453, \"Region\": \"West\"}, {\"State\": \"Arizona\", \"Decade\": 1830, \"AverageTemp_F\": 57.71633, \"Region\": \"West\"}, {\"State\": \"Arizona\", \"Decade\": 1840, \"AverageTemp_F\": 58.77136974789916, \"Region\": \"West\"}, {\"State\": \"Arizona\", \"Decade\": 1850, \"AverageTemp_F\": 59.358050000000006, \"Region\": \"West\"}, {\"State\": \"Arizona\", \"Decade\": 1860, \"AverageTemp_F\": 60.264365, \"Region\": \"West\"}, {\"State\": \"Arizona\", \"Decade\": 1870, \"AverageTemp_F\": 59.805635, \"Region\": \"West\"}, {\"State\": \"Arizona\", \"Decade\": 1880, \"AverageTemp_F\": 59.22842, \"Region\": \"West\"}, {\"State\": \"Arizona\", \"Decade\": 1890, \"AverageTemp_F\": 59.158505, \"Region\": \"West\"}, {\"State\": \"Arizona\", \"Decade\": 1900, \"AverageTemp_F\": 59.490995, \"Region\": \"West\"}, {\"State\": \"Arizona\", \"Decade\": 1910, \"AverageTemp_F\": 59.023235, \"Region\": \"West\"}, {\"State\": \"Arizona\", \"Decade\": 1920, \"AverageTemp_F\": 59.513315000000006, \"Region\": \"West\"}, {\"State\": \"Arizona\", \"Decade\": 1930, \"AverageTemp_F\": 59.84432, \"Region\": \"West\"}, {\"State\": \"Arizona\", \"Decade\": 1940, \"AverageTemp_F\": 59.568725, \"Region\": \"West\"}, {\"State\": \"Arizona\", \"Decade\": 1950, \"AverageTemp_F\": 60.10055, \"Region\": \"West\"}, {\"State\": \"Arizona\", \"Decade\": 1960, \"AverageTemp_F\": 59.55659, \"Region\": \"West\"}, {\"State\": \"Arizona\", \"Decade\": 1970, \"AverageTemp_F\": 59.343275, \"Region\": \"West\"}, {\"State\": \"Arizona\", \"Decade\": 1980, \"AverageTemp_F\": 60.230689999999996, \"Region\": \"West\"}, {\"State\": \"Arizona\", \"Decade\": 1990, \"AverageTemp_F\": 60.409955, \"Region\": \"West\"}, {\"State\": \"Arizona\", \"Decade\": 2000, \"AverageTemp_F\": 61.263635, \"Region\": \"West\"}, {\"State\": \"Arizona\", \"Decade\": 2010, \"AverageTemp_F\": 61.60848, \"Region\": \"West\"}, {\"State\": \"Arkansas\", \"Decade\": 1750, \"AverageTemp_F\": 60.57182857142857, \"Region\": \"South\"}, {\"State\": \"Arkansas\", \"Decade\": 1760, \"AverageTemp_F\": 57.20868695652174, \"Region\": \"South\"}, {\"State\": \"Arkansas\", \"Decade\": 1770, \"AverageTemp_F\": 58.85521250000001, \"Region\": \"South\"}, {\"State\": \"Arkansas\", \"Decade\": 1780, \"AverageTemp_F\": 59.540299999999995, \"Region\": \"South\"}, {\"State\": \"Arkansas\", \"Decade\": 1790, \"AverageTemp_F\": 59.71145, \"Region\": \"South\"}, {\"State\": \"Arkansas\", \"Decade\": 1800, \"AverageTemp_F\": 60.10574, \"Region\": \"South\"}, {\"State\": \"Arkansas\", \"Decade\": 1810, \"AverageTemp_F\": 58.14266, \"Region\": \"South\"}, {\"State\": \"Arkansas\", \"Decade\": 1820, \"AverageTemp_F\": 59.95028, \"Region\": \"South\"}, {\"State\": \"Arkansas\", \"Decade\": 1830, \"AverageTemp_F\": 59.502035, \"Region\": \"South\"}, {\"State\": \"Arkansas\", \"Decade\": 1840, \"AverageTemp_F\": 59.651945, \"Region\": \"South\"}, {\"State\": \"Arkansas\", \"Decade\": 1850, \"AverageTemp_F\": 59.33675, \"Region\": \"South\"}, {\"State\": \"Arkansas\", \"Decade\": 1860, \"AverageTemp_F\": 59.607020000000006, \"Region\": \"South\"}, {\"State\": \"Arkansas\", \"Decade\": 1870, \"AverageTemp_F\": 59.55374, \"Region\": \"South\"}, {\"State\": \"Arkansas\", \"Decade\": 1880, \"AverageTemp_F\": 59.660315, \"Region\": \"South\"}, {\"State\": \"Arkansas\", \"Decade\": 1890, \"AverageTemp_F\": 59.731985, \"Region\": \"South\"}, {\"State\": \"Arkansas\", \"Decade\": 1900, \"AverageTemp_F\": 59.72729, \"Region\": \"South\"}, {\"State\": \"Arkansas\", \"Decade\": 1910, \"AverageTemp_F\": 59.88311, \"Region\": \"South\"}, {\"State\": \"Arkansas\", \"Decade\": 1920, \"AverageTemp_F\": 60.512420000000006, \"Region\": \"South\"}, {\"State\": \"Arkansas\", \"Decade\": 1930, \"AverageTemp_F\": 61.265825, \"Region\": \"South\"}, {\"State\": \"Arkansas\", \"Decade\": 1940, \"AverageTemp_F\": 60.493849999999995, \"Region\": \"South\"}, {\"State\": \"Arkansas\", \"Decade\": 1950, \"AverageTemp_F\": 60.96164, \"Region\": \"South\"}, {\"State\": \"Arkansas\", \"Decade\": 1960, \"AverageTemp_F\": 60.080375000000004, \"Region\": \"South\"}, {\"State\": \"Arkansas\", \"Decade\": 1970, \"AverageTemp_F\": 60.184729999999995, \"Region\": \"South\"}, {\"State\": \"Arkansas\", \"Decade\": 1980, \"AverageTemp_F\": 60.554674999999996, \"Region\": \"South\"}, {\"State\": \"Arkansas\", \"Decade\": 1990, \"AverageTemp_F\": 61.23116, \"Region\": \"South\"}, {\"State\": \"Arkansas\", \"Decade\": 2000, \"AverageTemp_F\": 61.474055, \"Region\": \"South\"}, {\"State\": \"Arkansas\", \"Decade\": 2010, \"AverageTemp_F\": 62.860679999999995, \"Region\": \"South\"}, {\"State\": \"California\", \"Decade\": 1840, \"AverageTemp_F\": 57.23615, \"Region\": \"West\"}, {\"State\": \"California\", \"Decade\": 1850, \"AverageTemp_F\": 57.33941, \"Region\": \"West\"}, {\"State\": \"California\", \"Decade\": 1860, \"AverageTemp_F\": 58.057955, \"Region\": \"West\"}, {\"State\": \"California\", \"Decade\": 1870, \"AverageTemp_F\": 57.706085, \"Region\": \"West\"}, {\"State\": \"California\", \"Decade\": 1880, \"AverageTemp_F\": 57.398885, \"Region\": \"West\"}, {\"State\": \"California\", \"Decade\": 1890, \"AverageTemp_F\": 56.982575, \"Region\": \"West\"}, {\"State\": \"California\", \"Decade\": 1900, \"AverageTemp_F\": 57.416195, \"Region\": \"West\"}, {\"State\": \"California\", \"Decade\": 1910, \"AverageTemp_F\": 56.912344999999995, \"Region\": \"West\"}, {\"State\": \"California\", \"Decade\": 1920, \"AverageTemp_F\": 57.4202, \"Region\": \"West\"}, {\"State\": \"California\", \"Decade\": 1930, \"AverageTemp_F\": 58.027010000000004, \"Region\": \"West\"}, {\"State\": \"California\", \"Decade\": 1940, \"AverageTemp_F\": 57.525994999999995, \"Region\": \"West\"}, {\"State\": \"California\", \"Decade\": 1950, \"AverageTemp_F\": 57.914405, \"Region\": \"West\"}, {\"State\": \"California\", \"Decade\": 1960, \"AverageTemp_F\": 57.767900000000004, \"Region\": \"West\"}, {\"State\": \"California\", \"Decade\": 1970, \"AverageTemp_F\": 57.674915000000006, \"Region\": \"West\"}, {\"State\": \"California\", \"Decade\": 1980, \"AverageTemp_F\": 58.342115, \"Region\": \"West\"}, {\"State\": \"California\", \"Decade\": 1990, \"AverageTemp_F\": 58.55327, \"Region\": \"West\"}, {\"State\": \"California\", \"Decade\": 2000, \"AverageTemp_F\": 59.124425, \"Region\": \"West\"}, {\"State\": \"California\", \"Decade\": 2010, \"AverageTemp_F\": 59.19992, \"Region\": \"West\"}, {\"State\": \"Colorado\", \"Decade\": 1820, \"AverageTemp_F\": 43.82886499999999, \"Region\": \"West\"}, {\"State\": \"Colorado\", \"Decade\": 1830, \"AverageTemp_F\": 43.628166386554625, \"Region\": \"West\"}, {\"State\": \"Colorado\", \"Decade\": 1840, \"AverageTemp_F\": 43.51076, \"Region\": \"West\"}, {\"State\": \"Colorado\", \"Decade\": 1850, \"AverageTemp_F\": 43.91402, \"Region\": \"West\"}, {\"State\": \"Colorado\", \"Decade\": 1860, \"AverageTemp_F\": 44.404610000000005, \"Region\": \"West\"}, {\"State\": \"Colorado\", \"Decade\": 1870, \"AverageTemp_F\": 44.18036, \"Region\": \"West\"}, {\"State\": \"Colorado\", \"Decade\": 1880, \"AverageTemp_F\": 43.930535, \"Region\": \"West\"}, {\"State\": \"Colorado\", \"Decade\": 1890, \"AverageTemp_F\": 43.79894, \"Region\": \"West\"}, {\"State\": \"Colorado\", \"Decade\": 1900, \"AverageTemp_F\": 44.231345000000005, \"Region\": \"West\"}, {\"State\": \"Colorado\", \"Decade\": 1910, \"AverageTemp_F\": 43.747955000000005, \"Region\": \"West\"}, {\"State\": \"Colorado\", \"Decade\": 1920, \"AverageTemp_F\": 44.136185, \"Region\": \"West\"}, {\"State\": \"Colorado\", \"Decade\": 1930, \"AverageTemp_F\": 45.285935, \"Region\": \"West\"}, {\"State\": \"Colorado\", \"Decade\": 1940, \"AverageTemp_F\": 44.71868, \"Region\": \"West\"}, {\"State\": \"Colorado\", \"Decade\": 1950, \"AverageTemp_F\": 45.12323, \"Region\": \"West\"}, {\"State\": \"Colorado\", \"Decade\": 1960, \"AverageTemp_F\": 44.67539, \"Region\": \"West\"}, {\"State\": \"Colorado\", \"Decade\": 1970, \"AverageTemp_F\": 44.436515, \"Region\": \"West\"}, {\"State\": \"Colorado\", \"Decade\": 1980, \"AverageTemp_F\": 45.10673, \"Region\": \"West\"}, {\"State\": \"Colorado\", \"Decade\": 1990, \"AverageTemp_F\": 45.382655, \"Region\": \"West\"}, {\"State\": \"Colorado\", \"Decade\": 2000, \"AverageTemp_F\": 46.06718, \"Region\": \"West\"}, {\"State\": \"Colorado\", \"Decade\": 2010, \"AverageTemp_F\": 46.97372, \"Region\": \"West\"}, {\"State\": \"Connecticut\", \"Decade\": 1740, \"AverageTemp_F\": 45.15730769230769, \"Region\": \"Northeast\"}, {\"State\": \"Connecticut\", \"Decade\": 1750, \"AverageTemp_F\": 46.939622, \"Region\": \"Northeast\"}, {\"State\": \"Connecticut\", \"Decade\": 1760, \"AverageTemp_F\": 47.345605454545456, \"Region\": \"Northeast\"}, {\"State\": \"Connecticut\", \"Decade\": 1770, \"AverageTemp_F\": 47.63422330097087, \"Region\": \"Northeast\"}, {\"State\": \"Connecticut\", \"Decade\": 1780, \"AverageTemp_F\": 47.45206666666667, \"Region\": \"Northeast\"}, {\"State\": \"Connecticut\", \"Decade\": 1790, \"AverageTemp_F\": 47.80907, \"Region\": \"Northeast\"}, {\"State\": \"Connecticut\", \"Decade\": 1800, \"AverageTemp_F\": 48.55988, \"Region\": \"Northeast\"}, {\"State\": \"Connecticut\", \"Decade\": 1810, \"AverageTemp_F\": 46.45277, \"Region\": \"Northeast\"}, {\"State\": \"Connecticut\", \"Decade\": 1820, \"AverageTemp_F\": 47.999975, \"Region\": \"Northeast\"}, {\"State\": \"Connecticut\", \"Decade\": 1830, \"AverageTemp_F\": 46.895869999999995, \"Region\": \"Northeast\"}, {\"State\": \"Connecticut\", \"Decade\": 1840, \"AverageTemp_F\": 47.501765, \"Region\": \"Northeast\"}, {\"State\": \"Connecticut\", \"Decade\": 1850, \"AverageTemp_F\": 47.16971, \"Region\": \"Northeast\"}, {\"State\": \"Connecticut\", \"Decade\": 1860, \"AverageTemp_F\": 47.31216500000001, \"Region\": \"Northeast\"}, {\"State\": \"Connecticut\", \"Decade\": 1870, \"AverageTemp_F\": 47.409380000000006, \"Region\": \"Northeast\"}, {\"State\": \"Connecticut\", \"Decade\": 1880, \"AverageTemp_F\": 47.48507, \"Region\": \"Northeast\"}, {\"State\": \"Connecticut\", \"Decade\": 1890, \"AverageTemp_F\": 48.31826, \"Region\": \"Northeast\"}, {\"State\": \"Connecticut\", \"Decade\": 1900, \"AverageTemp_F\": 47.932505, \"Region\": \"Northeast\"}, {\"State\": \"Connecticut\", \"Decade\": 1910, \"AverageTemp_F\": 48.302614999999996, \"Region\": \"Northeast\"}, {\"State\": \"Connecticut\", \"Decade\": 1920, \"AverageTemp_F\": 48.490895, \"Region\": \"Northeast\"}, {\"State\": \"Connecticut\", \"Decade\": 1930, \"AverageTemp_F\": 49.31012, \"Region\": \"Northeast\"}, {\"State\": \"Connecticut\", \"Decade\": 1940, \"AverageTemp_F\": 49.16105, \"Region\": \"Northeast\"}, {\"State\": \"Connecticut\", \"Decade\": 1950, \"AverageTemp_F\": 49.682900000000004, \"Region\": \"Northeast\"}, {\"State\": \"Connecticut\", \"Decade\": 1960, \"AverageTemp_F\": 48.610955, \"Region\": \"Northeast\"}, {\"State\": \"Connecticut\", \"Decade\": 1970, \"AverageTemp_F\": 49.15178, \"Region\": \"Northeast\"}, {\"State\": \"Connecticut\", \"Decade\": 1980, \"AverageTemp_F\": 49.242020000000004, \"Region\": \"Northeast\"}, {\"State\": \"Connecticut\", \"Decade\": 1990, \"AverageTemp_F\": 50.103065, \"Region\": \"Northeast\"}, {\"State\": \"Connecticut\", \"Decade\": 2000, \"AverageTemp_F\": 50.23496, \"Region\": \"Northeast\"}, {\"State\": \"Connecticut\", \"Decade\": 2010, \"AverageTemp_F\": 52.265440000000005, \"Region\": \"Northeast\"}, {\"State\": \"Delaware\", \"Decade\": 1740, \"AverageTemp_F\": 50.32413846153846, \"Region\": \"South\"}, {\"State\": \"Delaware\", \"Decade\": 1750, \"AverageTemp_F\": 52.148227999999996, \"Region\": \"South\"}, {\"State\": \"Delaware\", \"Decade\": 1760, \"AverageTemp_F\": 52.453301818181814, \"Region\": \"South\"}, {\"State\": \"Delaware\", \"Decade\": 1770, \"AverageTemp_F\": 52.85210873786408, \"Region\": \"South\"}, {\"State\": \"Delaware\", \"Decade\": 1780, \"AverageTemp_F\": 52.66603333333333, \"Region\": \"South\"}, {\"State\": \"Delaware\", \"Decade\": 1790, \"AverageTemp_F\": 53.127185000000004, \"Region\": \"South\"}, {\"State\": \"Delaware\", \"Decade\": 1800, \"AverageTemp_F\": 53.674955, \"Region\": \"South\"}, {\"State\": \"Delaware\", \"Decade\": 1810, \"AverageTemp_F\": 51.625745, \"Region\": \"South\"}, {\"State\": \"Delaware\", \"Decade\": 1820, \"AverageTemp_F\": 53.42882, \"Region\": \"South\"}, {\"State\": \"Delaware\", \"Decade\": 1830, \"AverageTemp_F\": 52.562599999999996, \"Region\": \"South\"}, {\"State\": \"Delaware\", \"Decade\": 1840, \"AverageTemp_F\": 52.91435, \"Region\": \"South\"}, {\"State\": \"Delaware\", \"Decade\": 1850, \"AverageTemp_F\": 52.812455, \"Region\": \"South\"}, {\"State\": \"Delaware\", \"Decade\": 1860, \"AverageTemp_F\": 52.552924999999995, \"Region\": \"South\"}, {\"State\": \"Delaware\", \"Decade\": 1870, \"AverageTemp_F\": 52.87523, \"Region\": \"South\"}, {\"State\": \"Delaware\", \"Decade\": 1880, \"AverageTemp_F\": 52.90007, \"Region\": \"South\"}, {\"State\": \"Delaware\", \"Decade\": 1890, \"AverageTemp_F\": 53.399375, \"Region\": \"South\"}, {\"State\": \"Delaware\", \"Decade\": 1900, \"AverageTemp_F\": 52.96664, \"Region\": \"South\"}, {\"State\": \"Delaware\", \"Decade\": 1910, \"AverageTemp_F\": 53.375945, \"Region\": \"South\"}, {\"State\": \"Delaware\", \"Decade\": 1920, \"AverageTemp_F\": 53.569340000000004, \"Region\": \"South\"}, {\"State\": \"Delaware\", \"Decade\": 1930, \"AverageTemp_F\": 54.438485, \"Region\": \"South\"}, {\"State\": \"Delaware\", \"Decade\": 1940, \"AverageTemp_F\": 54.187385, \"Region\": \"South\"}, {\"State\": \"Delaware\", \"Decade\": 1950, \"AverageTemp_F\": 54.582485, \"Region\": \"South\"}, {\"State\": \"Delaware\", \"Decade\": 1960, \"AverageTemp_F\": 53.453255, \"Region\": \"South\"}, {\"State\": \"Delaware\", \"Decade\": 1970, \"AverageTemp_F\": 54.14006, \"Region\": \"South\"}, {\"State\": \"Delaware\", \"Decade\": 1980, \"AverageTemp_F\": 54.275780000000005, \"Region\": \"South\"}, {\"State\": \"Delaware\", \"Decade\": 1990, \"AverageTemp_F\": 55.13336, \"Region\": \"South\"}, {\"State\": \"Delaware\", \"Decade\": 2000, \"AverageTemp_F\": 55.20788, \"Region\": \"South\"}, {\"State\": \"Delaware\", \"Decade\": 2010, \"AverageTemp_F\": 56.78056, \"Region\": \"South\"}, {\"State\": \"District Of Columbia\", \"Decade\": 1740, \"AverageTemp_F\": 50.328153846153846, \"Region\": \"South\"}, {\"State\": \"District Of Columbia\", \"Decade\": 1750, \"AverageTemp_F\": 52.145456, \"Region\": \"South\"}, {\"State\": \"District Of Columbia\", \"Decade\": 1760, \"AverageTemp_F\": 52.43556363636364, \"Region\": \"South\"}, {\"State\": \"District Of Columbia\", \"Decade\": 1770, \"AverageTemp_F\": 52.82461941747573, \"Region\": \"South\"}, {\"State\": \"District Of Columbia\", \"Decade\": 1780, \"AverageTemp_F\": 52.73918333333333, \"Region\": \"South\"}, {\"State\": \"District Of Columbia\", \"Decade\": 1790, \"AverageTemp_F\": 53.216705000000005, \"Region\": \"South\"}, {\"State\": \"District Of Columbia\", \"Decade\": 1800, \"AverageTemp_F\": 53.706559999999996, \"Region\": \"South\"}, {\"State\": \"District Of Columbia\", \"Decade\": 1810, \"AverageTemp_F\": 51.66644, \"Region\": \"South\"}, {\"State\": \"District Of Columbia\", \"Decade\": 1820, \"AverageTemp_F\": 53.632325, \"Region\": \"South\"}, {\"State\": \"District Of Columbia\", \"Decade\": 1830, \"AverageTemp_F\": 52.787839999999996, \"Region\": \"South\"}, {\"State\": \"District Of Columbia\", \"Decade\": 1840, \"AverageTemp_F\": 53.123285, \"Region\": \"South\"}, {\"State\": \"District Of Columbia\", \"Decade\": 1850, \"AverageTemp_F\": 53.04623, \"Region\": \"South\"}, {\"State\": \"District Of Columbia\", \"Decade\": 1860, \"AverageTemp_F\": 52.53011, \"Region\": \"South\"}, {\"State\": \"District Of Columbia\", \"Decade\": 1870, \"AverageTemp_F\": 53.007020000000004, \"Region\": \"South\"}, {\"State\": \"District Of Columbia\", \"Decade\": 1880, \"AverageTemp_F\": 53.064155, \"Region\": \"South\"}, {\"State\": \"District Of Columbia\", \"Decade\": 1890, \"AverageTemp_F\": 53.4524, \"Region\": \"South\"}, {\"State\": \"District Of Columbia\", \"Decade\": 1900, \"AverageTemp_F\": 52.95749, \"Region\": \"South\"}, {\"State\": \"District Of Columbia\", \"Decade\": 1910, \"AverageTemp_F\": 53.383415, \"Region\": \"South\"}, {\"State\": \"District Of Columbia\", \"Decade\": 1920, \"AverageTemp_F\": 53.624195, \"Region\": \"South\"}, {\"State\": \"District Of Columbia\", \"Decade\": 1930, \"AverageTemp_F\": 54.46439, \"Region\": \"South\"}, {\"State\": \"District Of Columbia\", \"Decade\": 1940, \"AverageTemp_F\": 54.20087, \"Region\": \"South\"}, {\"State\": \"District Of Columbia\", \"Decade\": 1950, \"AverageTemp_F\": 54.490805, \"Region\": \"South\"}, {\"State\": \"District Of Columbia\", \"Decade\": 1960, \"AverageTemp_F\": 53.457305, \"Region\": \"South\"}, {\"State\": \"District Of Columbia\", \"Decade\": 1970, \"AverageTemp_F\": 54.04307000000001, \"Region\": \"South\"}, {\"State\": \"District Of Columbia\", \"Decade\": 1980, \"AverageTemp_F\": 54.2405, \"Region\": \"South\"}, {\"State\": \"District Of Columbia\", \"Decade\": 1990, \"AverageTemp_F\": 55.0988, \"Region\": \"South\"}, {\"State\": \"District Of Columbia\", \"Decade\": 2000, \"AverageTemp_F\": 55.100585, \"Region\": \"South\"}, {\"State\": \"District Of Columbia\", \"Decade\": 2010, \"AverageTemp_F\": 56.708200000000005, \"Region\": \"South\"}, {\"State\": \"Florida\", \"Decade\": 1740, \"AverageTemp_F\": 68.6072923076923, \"Region\": \"South\"}, {\"State\": \"Florida\", \"Decade\": 1750, \"AverageTemp_F\": 69.816254, \"Region\": \"South\"}, {\"State\": \"Florida\", \"Decade\": 1760, \"AverageTemp_F\": 69.87712181818182, \"Region\": \"South\"}, {\"State\": \"Florida\", \"Decade\": 1770, \"AverageTemp_F\": 71.81723896103897, \"Region\": \"South\"}, {\"State\": \"Florida\", \"Decade\": 1780, \"AverageTemp_F\": 70.16586666666666, \"Region\": \"South\"}, {\"State\": \"Florida\", \"Decade\": 1790, \"AverageTemp_F\": 70.713935, \"Region\": \"South\"}, {\"State\": \"Florida\", \"Decade\": 1800, \"AverageTemp_F\": 70.75547, \"Region\": \"South\"}, {\"State\": \"Florida\", \"Decade\": 1810, \"AverageTemp_F\": 68.79356, \"Region\": \"South\"}, {\"State\": \"Florida\", \"Decade\": 1820, \"AverageTemp_F\": 70.890275, \"Region\": \"South\"}, {\"State\": \"Florida\", \"Decade\": 1830, \"AverageTemp_F\": 70.63619, \"Region\": \"South\"}, {\"State\": \"Florida\", \"Decade\": 1840, \"AverageTemp_F\": 70.17671, \"Region\": \"South\"}, {\"State\": \"Florida\", \"Decade\": 1850, \"AverageTemp_F\": 70.242185, \"Region\": \"South\"}, {\"State\": \"Florida\", \"Decade\": 1860, \"AverageTemp_F\": 70.59278, \"Region\": \"South\"}, {\"State\": \"Florida\", \"Decade\": 1870, \"AverageTemp_F\": 70.29155, \"Region\": \"South\"}, {\"State\": \"Florida\", \"Decade\": 1880, \"AverageTemp_F\": 70.46266999999999, \"Region\": \"South\"}, {\"State\": \"Florida\", \"Decade\": 1890, \"AverageTemp_F\": 70.417625, \"Region\": \"South\"}, {\"State\": \"Florida\", \"Decade\": 1900, \"AverageTemp_F\": 70.28942, \"Region\": \"South\"}, {\"State\": \"Florida\", \"Decade\": 1910, \"AverageTemp_F\": 70.63806500000001, \"Region\": \"South\"}, {\"State\": \"Florida\", \"Decade\": 1920, \"AverageTemp_F\": 70.98009499999999, \"Region\": \"South\"}, {\"State\": \"Florida\", \"Decade\": 1930, \"AverageTemp_F\": 71.147345, \"Region\": \"South\"}, {\"State\": \"Florida\", \"Decade\": 1940, \"AverageTemp_F\": 71.22947, \"Region\": \"South\"}, {\"State\": \"Florida\", \"Decade\": 1950, \"AverageTemp_F\": 71.150375, \"Region\": \"South\"}, {\"State\": \"Florida\", \"Decade\": 1960, \"AverageTemp_F\": 70.526645, \"Region\": \"South\"}, {\"State\": \"Florida\", \"Decade\": 1970, \"AverageTemp_F\": 71.14302500000001, \"Region\": \"South\"}, {\"State\": \"Florida\", \"Decade\": 1980, \"AverageTemp_F\": 71.26355, \"Region\": \"South\"}, {\"State\": \"Florida\", \"Decade\": 1990, \"AverageTemp_F\": 72.013535, \"Region\": \"South\"}, {\"State\": \"Florida\", \"Decade\": 2000, \"AverageTemp_F\": 72.02189, \"Region\": \"South\"}, {\"State\": \"Florida\", \"Decade\": 2010, \"AverageTemp_F\": 72.23968, \"Region\": \"South\"}, {\"State\": \"Georgia (State)\", \"Decade\": 1740, \"AverageTemp_F\": 60.89581538461539, \"Region\": \"South\"}, {\"State\": \"Georgia (State)\", \"Decade\": 1750, \"AverageTemp_F\": 62.503484, \"Region\": \"South\"}, {\"State\": \"Georgia (State)\", \"Decade\": 1760, \"AverageTemp_F\": 62.60651272727273, \"Region\": \"South\"}, {\"State\": \"Georgia (State)\", \"Decade\": 1770, \"AverageTemp_F\": 63.07575922330097, \"Region\": \"South\"}, {\"State\": \"Georgia (State)\", \"Decade\": 1780, \"AverageTemp_F\": 63.0161, \"Region\": \"South\"}, {\"State\": \"Georgia (State)\", \"Decade\": 1790, \"AverageTemp_F\": 63.552755000000005, \"Region\": \"South\"}, {\"State\": \"Georgia (State)\", \"Decade\": 1800, \"AverageTemp_F\": 63.689690000000006, \"Region\": \"South\"}, {\"State\": \"Georgia (State)\", \"Decade\": 1810, \"AverageTemp_F\": 61.71083, \"Region\": \"South\"}, {\"State\": \"Georgia (State)\", \"Decade\": 1820, \"AverageTemp_F\": 63.85988, \"Region\": \"South\"}, {\"State\": \"Georgia (State)\", \"Decade\": 1830, \"AverageTemp_F\": 63.827345, \"Region\": \"South\"}, {\"State\": \"Georgia (State)\", \"Decade\": 1840, \"AverageTemp_F\": 63.321965, \"Region\": \"South\"}, {\"State\": \"Georgia (State)\", \"Decade\": 1850, \"AverageTemp_F\": 63.270275, \"Region\": \"South\"}, {\"State\": \"Georgia (State)\", \"Decade\": 1860, \"AverageTemp_F\": 63.339515, \"Region\": \"South\"}, {\"State\": \"Georgia (State)\", \"Decade\": 1870, \"AverageTemp_F\": 63.17957, \"Region\": \"South\"}, {\"State\": \"Georgia (State)\", \"Decade\": 1880, \"AverageTemp_F\": 63.33836, \"Region\": \"South\"}, {\"State\": \"Georgia (State)\", \"Decade\": 1890, \"AverageTemp_F\": 63.296105000000004, \"Region\": \"South\"}, {\"State\": \"Georgia (State)\", \"Decade\": 1900, \"AverageTemp_F\": 63.078515, \"Region\": \"South\"}, {\"State\": \"Georgia (State)\", \"Decade\": 1910, \"AverageTemp_F\": 63.51341, \"Region\": \"South\"}, {\"State\": \"Georgia (State)\", \"Decade\": 1920, \"AverageTemp_F\": 63.953615, \"Region\": \"South\"}, {\"State\": \"Georgia (State)\", \"Decade\": 1930, \"AverageTemp_F\": 64.38803, \"Region\": \"South\"}, {\"State\": \"Georgia (State)\", \"Decade\": 1940, \"AverageTemp_F\": 64.02896, \"Region\": \"South\"}, {\"State\": \"Georgia (State)\", \"Decade\": 1950, \"AverageTemp_F\": 64.306115, \"Region\": \"South\"}, {\"State\": \"Georgia (State)\", \"Decade\": 1960, \"AverageTemp_F\": 63.12044, \"Region\": \"South\"}, {\"State\": \"Georgia (State)\", \"Decade\": 1970, \"AverageTemp_F\": 63.826145, \"Region\": \"South\"}, {\"State\": \"Georgia (State)\", \"Decade\": 1980, \"AverageTemp_F\": 63.996215, \"Region\": \"South\"}, {\"State\": \"Georgia (State)\", \"Decade\": 1990, \"AverageTemp_F\": 64.741325, \"Region\": \"South\"}, {\"State\": \"Georgia (State)\", \"Decade\": 2000, \"AverageTemp_F\": 64.854635, \"Region\": \"South\"}, {\"State\": \"Georgia (State)\", \"Decade\": 2010, \"AverageTemp_F\": 65.64552, \"Region\": \"South\"}, {\"State\": \"Hawaii\", \"Decade\": 1880, \"AverageTemp_F\": 71.55255714285715, \"Region\": \"West\"}, {\"State\": \"Hawaii\", \"Decade\": 1890, \"AverageTemp_F\": 71.72063025210085, \"Region\": \"West\"}, {\"State\": \"Hawaii\", \"Decade\": 1900, \"AverageTemp_F\": 71.641175, \"Region\": \"West\"}, {\"State\": \"Hawaii\", \"Decade\": 1910, \"AverageTemp_F\": 71.67485, \"Region\": \"West\"}, {\"State\": \"Hawaii\", \"Decade\": 1920, \"AverageTemp_F\": 72.07161500000001, \"Region\": \"West\"}, {\"State\": \"Hawaii\", \"Decade\": 1930, \"AverageTemp_F\": 72.133025, \"Region\": \"West\"}, {\"State\": \"Hawaii\", \"Decade\": 1940, \"AverageTemp_F\": 72.48868999999999, \"Region\": \"West\"}, {\"State\": \"Hawaii\", \"Decade\": 1950, \"AverageTemp_F\": 72.088295, \"Region\": \"West\"}, {\"State\": \"Hawaii\", \"Decade\": 1960, \"AverageTemp_F\": 72.637985, \"Region\": \"West\"}, {\"State\": \"Hawaii\", \"Decade\": 1970, \"AverageTemp_F\": 72.39044, \"Region\": \"West\"}, {\"State\": \"Hawaii\", \"Decade\": 1980, \"AverageTemp_F\": 73.344065, \"Region\": \"West\"}, {\"State\": \"Hawaii\", \"Decade\": 1990, \"AverageTemp_F\": 73.377365, \"Region\": \"West\"}, {\"State\": \"Hawaii\", \"Decade\": 2000, \"AverageTemp_F\": 73.520735, \"Region\": \"West\"}, {\"State\": \"Hawaii\", \"Decade\": 2010, \"AverageTemp_F\": 72.88368636363636, \"Region\": \"West\"}, {\"State\": \"Idaho\", \"Decade\": 1820, \"AverageTemp_F\": 36.79575384615384, \"Region\": \"West\"}, {\"State\": \"Idaho\", \"Decade\": 1830, \"AverageTemp_F\": 40.308205217391304, \"Region\": \"West\"}, {\"State\": \"Idaho\", \"Decade\": 1840, \"AverageTemp_F\": 40.621880000000004, \"Region\": \"West\"}, {\"State\": \"Idaho\", \"Decade\": 1850, \"AverageTemp_F\": 41.28524, \"Region\": \"West\"}, {\"State\": \"Idaho\", \"Decade\": 1860, \"AverageTemp_F\": 41.72741, \"Region\": \"West\"}, {\"State\": \"Idaho\", \"Decade\": 1870, \"AverageTemp_F\": 42.17165, \"Region\": \"West\"}, {\"State\": \"Idaho\", \"Decade\": 1880, \"AverageTemp_F\": 41.412785, \"Region\": \"West\"}, {\"State\": \"Idaho\", \"Decade\": 1890, \"AverageTemp_F\": 40.913195, \"Region\": \"West\"}, {\"State\": \"Idaho\", \"Decade\": 1900, \"AverageTemp_F\": 41.77964, \"Region\": \"West\"}, {\"State\": \"Idaho\", \"Decade\": 1910, \"AverageTemp_F\": 41.11712, \"Region\": \"West\"}, {\"State\": \"Idaho\", \"Decade\": 1920, \"AverageTemp_F\": 41.552585, \"Region\": \"West\"}, {\"State\": \"Idaho\", \"Decade\": 1930, \"AverageTemp_F\": 42.290525, \"Region\": \"West\"}, {\"State\": \"Idaho\", \"Decade\": 1940, \"AverageTemp_F\": 41.97011, \"Region\": \"West\"}, {\"State\": \"Idaho\", \"Decade\": 1950, \"AverageTemp_F\": 41.889199999999995, \"Region\": \"West\"}, {\"State\": \"Idaho\", \"Decade\": 1960, \"AverageTemp_F\": 42.1556, \"Region\": \"West\"}, {\"State\": \"Idaho\", \"Decade\": 1970, \"AverageTemp_F\": 41.842535, \"Region\": \"West\"}, {\"State\": \"Idaho\", \"Decade\": 1980, \"AverageTemp_F\": 42.088595000000005, \"Region\": \"West\"}, {\"State\": \"Idaho\", \"Decade\": 1990, \"AverageTemp_F\": 42.71159, \"Region\": \"West\"}, {\"State\": \"Idaho\", \"Decade\": 2000, \"AverageTemp_F\": 43.215469999999996, \"Region\": \"West\"}, {\"State\": \"Idaho\", \"Decade\": 2010, \"AverageTemp_F\": 43.85892, \"Region\": \"West\"}, {\"State\": \"Illinois\", \"Decade\": 1740, \"AverageTemp_F\": 48.27172307692308, \"Region\": \"Midwest\"}, {\"State\": \"Illinois\", \"Decade\": 1750, \"AverageTemp_F\": 50.186156000000004, \"Region\": \"Midwest\"}, {\"State\": \"Illinois\", \"Decade\": 1760, \"AverageTemp_F\": 50.34798909090909, \"Region\": \"Midwest\"}, {\"State\": \"Illinois\", \"Decade\": 1770, \"AverageTemp_F\": 51.367538461538466, \"Region\": \"Midwest\"}, {\"State\": \"Illinois\", \"Decade\": 1780, \"AverageTemp_F\": 51.47351724137931, \"Region\": \"Midwest\"}, {\"State\": \"Illinois\", \"Decade\": 1790, \"AverageTemp_F\": 51.552620000000005, \"Region\": \"Midwest\"}, {\"State\": \"Illinois\", \"Decade\": 1800, \"AverageTemp_F\": 51.71255, \"Region\": \"Midwest\"}, {\"State\": \"Illinois\", \"Decade\": 1810, \"AverageTemp_F\": 49.717835, \"Region\": \"Midwest\"}, {\"State\": \"Illinois\", \"Decade\": 1820, \"AverageTemp_F\": 51.41936, \"Region\": \"Midwest\"}, {\"State\": \"Illinois\", \"Decade\": 1830, \"AverageTemp_F\": 51.27464, \"Region\": \"Midwest\"}, {\"State\": \"Illinois\", \"Decade\": 1840, \"AverageTemp_F\": 51.29375, \"Region\": \"Midwest\"}, {\"State\": \"Illinois\", \"Decade\": 1850, \"AverageTemp_F\": 50.958335000000005, \"Region\": \"Midwest\"}, {\"State\": \"Illinois\", \"Decade\": 1860, \"AverageTemp_F\": 50.63042, \"Region\": \"Midwest\"}, {\"State\": \"Illinois\", \"Decade\": 1870, \"AverageTemp_F\": 51.162845, \"Region\": \"Midwest\"}, {\"State\": \"Illinois\", \"Decade\": 1880, \"AverageTemp_F\": 50.711885, \"Region\": \"Midwest\"}, {\"State\": \"Illinois\", \"Decade\": 1890, \"AverageTemp_F\": 51.267590000000006, \"Region\": \"Midwest\"}, {\"State\": \"Illinois\", \"Decade\": 1900, \"AverageTemp_F\": 51.21227, \"Region\": \"Midwest\"}, {\"State\": \"Illinois\", \"Decade\": 1910, \"AverageTemp_F\": 51.489815, \"Region\": \"Midwest\"}, {\"State\": \"Illinois\", \"Decade\": 1920, \"AverageTemp_F\": 51.817024999999994, \"Region\": \"Midwest\"}, {\"State\": \"Illinois\", \"Decade\": 1930, \"AverageTemp_F\": 53.011355, \"Region\": \"Midwest\"}, {\"State\": \"Illinois\", \"Decade\": 1940, \"AverageTemp_F\": 52.30064, \"Region\": \"Midwest\"}, {\"State\": \"Illinois\", \"Decade\": 1950, \"AverageTemp_F\": 52.4159, \"Region\": \"Midwest\"}, {\"State\": \"Illinois\", \"Decade\": 1960, \"AverageTemp_F\": 51.650465000000004, \"Region\": \"Midwest\"}, {\"State\": \"Illinois\", \"Decade\": 1970, \"AverageTemp_F\": 51.810950000000005, \"Region\": \"Midwest\"}, {\"State\": \"Illinois\", \"Decade\": 1980, \"AverageTemp_F\": 52.35534499999999, \"Region\": \"Midwest\"}, {\"State\": \"Illinois\", \"Decade\": 1990, \"AverageTemp_F\": 52.931360000000005, \"Region\": \"Midwest\"}, {\"State\": \"Illinois\", \"Decade\": 2000, \"AverageTemp_F\": 53.284234999999995, \"Region\": \"Midwest\"}, {\"State\": \"Illinois\", \"Decade\": 2010, \"AverageTemp_F\": 54.7494, \"Region\": \"Midwest\"}, {\"State\": \"Indiana\", \"Decade\": 1740, \"AverageTemp_F\": 48.36338461538462, \"Region\": \"Midwest\"}, {\"State\": \"Indiana\", \"Decade\": 1750, \"AverageTemp_F\": 50.251712, \"Region\": \"Midwest\"}, {\"State\": \"Indiana\", \"Decade\": 1760, \"AverageTemp_F\": 50.4365, \"Region\": \"Midwest\"}, {\"State\": \"Indiana\", \"Decade\": 1770, \"AverageTemp_F\": 50.831285436893204, \"Region\": \"Midwest\"}, {\"State\": \"Indiana\", \"Decade\": 1780, \"AverageTemp_F\": 51.02875, \"Region\": \"Midwest\"}, {\"State\": \"Indiana\", \"Decade\": 1790, \"AverageTemp_F\": 51.539975, \"Region\": \"Midwest\"}, {\"State\": \"Indiana\", \"Decade\": 1800, \"AverageTemp_F\": 51.776525, \"Region\": \"Midwest\"}, {\"State\": \"Indiana\", \"Decade\": 1810, \"AverageTemp_F\": 49.769525, \"Region\": \"Midwest\"}, {\"State\": \"Indiana\", \"Decade\": 1820, \"AverageTemp_F\": 51.582679999999996, \"Region\": \"Midwest\"}, {\"State\": \"Indiana\", \"Decade\": 1830, \"AverageTemp_F\": 51.445565, \"Region\": \"Midwest\"}, {\"State\": \"Indiana\", \"Decade\": 1840, \"AverageTemp_F\": 51.723274999999994, \"Region\": \"Midwest\"}, {\"State\": \"Indiana\", \"Decade\": 1850, \"AverageTemp_F\": 51.330455, \"Region\": \"Midwest\"}, {\"State\": \"Indiana\", \"Decade\": 1860, \"AverageTemp_F\": 50.606585, \"Region\": \"Midwest\"}, {\"State\": \"Indiana\", \"Decade\": 1870, \"AverageTemp_F\": 51.284765, \"Region\": \"Midwest\"}, {\"State\": \"Indiana\", \"Decade\": 1880, \"AverageTemp_F\": 50.752939999999995, \"Region\": \"Midwest\"}, {\"State\": \"Indiana\", \"Decade\": 1890, \"AverageTemp_F\": 51.402965, \"Region\": \"Midwest\"}, {\"State\": \"Indiana\", \"Decade\": 1900, \"AverageTemp_F\": 51.146390000000004, \"Region\": \"Midwest\"}, {\"State\": \"Indiana\", \"Decade\": 1910, \"AverageTemp_F\": 51.45314, \"Region\": \"Midwest\"}, {\"State\": \"Indiana\", \"Decade\": 1920, \"AverageTemp_F\": 51.80429, \"Region\": \"Midwest\"}, {\"State\": \"Indiana\", \"Decade\": 1930, \"AverageTemp_F\": 52.861250000000005, \"Region\": \"Midwest\"}, {\"State\": \"Indiana\", \"Decade\": 1940, \"AverageTemp_F\": 52.31006, \"Region\": \"Midwest\"}, {\"State\": \"Indiana\", \"Decade\": 1950, \"AverageTemp_F\": 52.476155, \"Region\": \"Midwest\"}, {\"State\": \"Indiana\", \"Decade\": 1960, \"AverageTemp_F\": 51.544085, \"Region\": \"Midwest\"}, {\"State\": \"Indiana\", \"Decade\": 1970, \"AverageTemp_F\": 51.794705, \"Region\": \"Midwest\"}, {\"State\": \"Indiana\", \"Decade\": 1980, \"AverageTemp_F\": 52.276849999999996, \"Region\": \"Midwest\"}, {\"State\": \"Indiana\", \"Decade\": 1990, \"AverageTemp_F\": 52.970315, \"Region\": \"Midwest\"}, {\"State\": \"Indiana\", \"Decade\": 2000, \"AverageTemp_F\": 53.25005, \"Region\": \"Midwest\"}, {\"State\": \"Indiana\", \"Decade\": 2010, \"AverageTemp_F\": 54.69408, \"Region\": \"Midwest\"}, {\"State\": \"Iowa\", \"Decade\": 1740, \"AverageTemp_F\": 44.105553846153846, \"Region\": \"Midwest\"}, {\"State\": \"Iowa\", \"Decade\": 1750, \"AverageTemp_F\": 46.088257999999996, \"Region\": \"Midwest\"}, {\"State\": \"Iowa\", \"Decade\": 1760, \"AverageTemp_F\": 46.241043636363635, \"Region\": \"Midwest\"}, {\"State\": \"Iowa\", \"Decade\": 1770, \"AverageTemp_F\": 47.309938461538465, \"Region\": \"Midwest\"}, {\"State\": \"Iowa\", \"Decade\": 1780, \"AverageTemp_F\": 47.57091551724138, \"Region\": \"Midwest\"}, {\"State\": \"Iowa\", \"Decade\": 1790, \"AverageTemp_F\": 47.63387, \"Region\": \"Midwest\"}, {\"State\": \"Iowa\", \"Decade\": 1800, \"AverageTemp_F\": 47.706875, \"Region\": \"Midwest\"}, {\"State\": \"Iowa\", \"Decade\": 1810, \"AverageTemp_F\": 45.723695, \"Region\": \"Midwest\"}, {\"State\": \"Iowa\", \"Decade\": 1820, \"AverageTemp_F\": 47.188880000000005, \"Region\": \"Midwest\"}, {\"State\": \"Iowa\", \"Decade\": 1830, \"AverageTemp_F\": 47.231855, \"Region\": \"Midwest\"}, {\"State\": \"Iowa\", \"Decade\": 1840, \"AverageTemp_F\": 46.98947, \"Region\": \"Midwest\"}, {\"State\": \"Iowa\", \"Decade\": 1850, \"AverageTemp_F\": 46.91504, \"Region\": \"Midwest\"}, {\"State\": \"Iowa\", \"Decade\": 1860, \"AverageTemp_F\": 46.29614, \"Region\": \"Midwest\"}, {\"State\": \"Iowa\", \"Decade\": 1870, \"AverageTemp_F\": 46.851425, \"Region\": \"Midwest\"}, {\"State\": \"Iowa\", \"Decade\": 1880, \"AverageTemp_F\": 46.520675, \"Region\": \"Midwest\"}, {\"State\": \"Iowa\", \"Decade\": 1890, \"AverageTemp_F\": 47.096104999999994, \"Region\": \"Midwest\"}, {\"State\": \"Iowa\", \"Decade\": 1900, \"AverageTemp_F\": 47.349035, \"Region\": \"Midwest\"}, {\"State\": \"Iowa\", \"Decade\": 1910, \"AverageTemp_F\": 47.548835000000004, \"Region\": \"Midwest\"}, {\"State\": \"Iowa\", \"Decade\": 1920, \"AverageTemp_F\": 47.96726, \"Region\": \"Midwest\"}, {\"State\": \"Iowa\", \"Decade\": 1930, \"AverageTemp_F\": 49.268015, \"Region\": \"Midwest\"}, {\"State\": \"Iowa\", \"Decade\": 1940, \"AverageTemp_F\": 48.510365, \"Region\": \"Midwest\"}, {\"State\": \"Iowa\", \"Decade\": 1950, \"AverageTemp_F\": 48.263929999999995, \"Region\": \"Midwest\"}, {\"State\": \"Iowa\", \"Decade\": 1960, \"AverageTemp_F\": 47.87432, \"Region\": \"Midwest\"}, {\"State\": \"Iowa\", \"Decade\": 1970, \"AverageTemp_F\": 47.969855, \"Region\": \"Midwest\"}, {\"State\": \"Iowa\", \"Decade\": 1980, \"AverageTemp_F\": 48.858889999999995, \"Region\": \"Midwest\"}, {\"State\": \"Iowa\", \"Decade\": 1990, \"AverageTemp_F\": 48.942964999999994, \"Region\": \"Midwest\"}, {\"State\": \"Iowa\", \"Decade\": 2000, \"AverageTemp_F\": 49.548919999999995, \"Region\": \"Midwest\"}, {\"State\": \"Iowa\", \"Decade\": 2010, \"AverageTemp_F\": 50.933400000000006, \"Region\": \"Midwest\"}, {\"State\": \"Kansas\", \"Decade\": 1760, \"AverageTemp_F\": 54.33185, \"Region\": \"Midwest\"}, {\"State\": \"Kansas\", \"Decade\": 1770, \"AverageTemp_F\": 51.08942127659574, \"Region\": \"Midwest\"}, {\"State\": \"Kansas\", \"Decade\": 1780, \"AverageTemp_F\": 51.039418181818185, \"Region\": \"Midwest\"}, {\"State\": \"Kansas\", \"Decade\": 1790, \"AverageTemp_F\": 55.68038461538462, \"Region\": \"Midwest\"}, {\"State\": \"Kansas\", \"Decade\": 1810, \"AverageTemp_F\": 50.25594054054054, \"Region\": \"Midwest\"}, {\"State\": \"Kansas\", \"Decade\": 1820, \"AverageTemp_F\": 53.526245, \"Region\": \"Midwest\"}, {\"State\": \"Kansas\", \"Decade\": 1830, \"AverageTemp_F\": 53.213210000000004, \"Region\": \"Midwest\"}, {\"State\": \"Kansas\", \"Decade\": 1840, \"AverageTemp_F\": 53.09546, \"Region\": \"Midwest\"}, {\"State\": \"Kansas\", \"Decade\": 1850, \"AverageTemp_F\": 53.29106, \"Region\": \"Midwest\"}, {\"State\": \"Kansas\", \"Decade\": 1860, \"AverageTemp_F\": 53.450795, \"Region\": \"Midwest\"}, {\"State\": \"Kansas\", \"Decade\": 1870, \"AverageTemp_F\": 53.2472, \"Region\": \"Midwest\"}, {\"State\": \"Kansas\", \"Decade\": 1880, \"AverageTemp_F\": 52.84901, \"Region\": \"Midwest\"}, {\"State\": \"Kansas\", \"Decade\": 1890, \"AverageTemp_F\": 53.35754, \"Region\": \"Midwest\"}, {\"State\": \"Kansas\", \"Decade\": 1900, \"AverageTemp_F\": 53.670035, \"Region\": \"Midwest\"}, {\"State\": \"Kansas\", \"Decade\": 1910, \"AverageTemp_F\": 53.67578, \"Region\": \"Midwest\"}, {\"State\": \"Kansas\", \"Decade\": 1920, \"AverageTemp_F\": 54.109115, \"Region\": \"Midwest\"}, {\"State\": \"Kansas\", \"Decade\": 1930, \"AverageTemp_F\": 55.65110000000001, \"Region\": \"Midwest\"}, {\"State\": \"Kansas\", \"Decade\": 1940, \"AverageTemp_F\": 54.423245, \"Region\": \"Midwest\"}, {\"State\": \"Kansas\", \"Decade\": 1950, \"AverageTemp_F\": 54.749900000000004, \"Region\": \"Midwest\"}, {\"State\": \"Kansas\", \"Decade\": 1960, \"AverageTemp_F\": 54.280835, \"Region\": \"Midwest\"}, {\"State\": \"Kansas\", \"Decade\": 1970, \"AverageTemp_F\": 54.242825, \"Region\": \"Midwest\"}, {\"State\": \"Kansas\", \"Decade\": 1980, \"AverageTemp_F\": 54.739235, \"Region\": \"Midwest\"}, {\"State\": \"Kansas\", \"Decade\": 1990, \"AverageTemp_F\": 55.01717, \"Region\": \"Midwest\"}, {\"State\": \"Kansas\", \"Decade\": 2000, \"AverageTemp_F\": 55.655705000000005, \"Region\": \"Midwest\"}, {\"State\": \"Kansas\", \"Decade\": 2010, \"AverageTemp_F\": 57.07532, \"Region\": \"Midwest\"}, {\"State\": \"Kentucky\", \"Decade\": 1740, \"AverageTemp_F\": 52.252907692307694, \"Region\": \"South\"}, {\"State\": \"Kentucky\", \"Decade\": 1750, \"AverageTemp_F\": 54.078242, \"Region\": \"South\"}, {\"State\": \"Kentucky\", \"Decade\": 1760, \"AverageTemp_F\": 54.244105454545455, \"Region\": \"South\"}, {\"State\": \"Kentucky\", \"Decade\": 1770, \"AverageTemp_F\": 54.65625048543689, \"Region\": \"South\"}, {\"State\": \"Kentucky\", \"Decade\": 1780, \"AverageTemp_F\": 54.75545, \"Region\": \"South\"}, {\"State\": \"Kentucky\", \"Decade\": 1790, \"AverageTemp_F\": 55.27499, \"Region\": \"South\"}, {\"State\": \"Kentucky\", \"Decade\": 1800, \"AverageTemp_F\": 55.49646500000001, \"Region\": \"South\"}, {\"State\": \"Kentucky\", \"Decade\": 1810, \"AverageTemp_F\": 53.49698, \"Region\": \"South\"}, {\"State\": \"Kentucky\", \"Decade\": 1820, \"AverageTemp_F\": 55.455845, \"Region\": \"South\"}, {\"State\": \"Kentucky\", \"Decade\": 1830, \"AverageTemp_F\": 55.339775, \"Region\": \"South\"}, {\"State\": \"Kentucky\", \"Decade\": 1840, \"AverageTemp_F\": 55.578425, \"Region\": \"South\"}, {\"State\": \"Kentucky\", \"Decade\": 1850, \"AverageTemp_F\": 55.190945000000006, \"Region\": \"South\"}, {\"State\": \"Kentucky\", \"Decade\": 1860, \"AverageTemp_F\": 54.504305, \"Region\": \"South\"}, {\"State\": \"Kentucky\", \"Decade\": 1870, \"AverageTemp_F\": 54.961625000000005, \"Region\": \"South\"}, {\"State\": \"Kentucky\", \"Decade\": 1880, \"AverageTemp_F\": 54.70115, \"Region\": \"South\"}, {\"State\": \"Kentucky\", \"Decade\": 1890, \"AverageTemp_F\": 55.06172, \"Region\": \"South\"}, {\"State\": \"Kentucky\", \"Decade\": 1900, \"AverageTemp_F\": 54.899015, \"Region\": \"South\"}, {\"State\": \"Kentucky\", \"Decade\": 1910, \"AverageTemp_F\": 55.163270000000004, \"Region\": \"South\"}, {\"State\": \"Kentucky\", \"Decade\": 1920, \"AverageTemp_F\": 55.646525, \"Region\": \"South\"}, {\"State\": \"Kentucky\", \"Decade\": 1930, \"AverageTemp_F\": 56.485775, \"Region\": \"South\"}, {\"State\": \"Kentucky\", \"Decade\": 1940, \"AverageTemp_F\": 55.911965, \"Region\": \"South\"}, {\"State\": \"Kentucky\", \"Decade\": 1950, \"AverageTemp_F\": 56.2385, \"Region\": \"South\"}, {\"State\": \"Kentucky\", \"Decade\": 1960, \"AverageTemp_F\": 55.057775, \"Region\": \"South\"}, {\"State\": \"Kentucky\", \"Decade\": 1970, \"AverageTemp_F\": 55.47914, \"Region\": \"South\"}, {\"State\": \"Kentucky\", \"Decade\": 1980, \"AverageTemp_F\": 55.846340000000005, \"Region\": \"South\"}, {\"State\": \"Kentucky\", \"Decade\": 1990, \"AverageTemp_F\": 56.567045, \"Region\": \"South\"}, {\"State\": \"Kentucky\", \"Decade\": 2000, \"AverageTemp_F\": 56.888659999999994, \"Region\": \"South\"}, {\"State\": \"Kentucky\", \"Decade\": 2010, \"AverageTemp_F\": 57.99236, \"Region\": \"South\"}, {\"State\": \"Louisiana\", \"Decade\": 1750, \"AverageTemp_F\": 66.39714285714285, \"Region\": \"South\"}, {\"State\": \"Louisiana\", \"Decade\": 1760, \"AverageTemp_F\": 63.635939130434785, \"Region\": \"South\"}, {\"State\": \"Louisiana\", \"Decade\": 1770, \"AverageTemp_F\": 67.8101, \"Region\": \"South\"}, {\"State\": \"Louisiana\", \"Decade\": 1790, \"AverageTemp_F\": 66.841325, \"Region\": \"South\"}, {\"State\": \"Louisiana\", \"Decade\": 1800, \"AverageTemp_F\": 66.79862, \"Region\": \"South\"}, {\"State\": \"Louisiana\", \"Decade\": 1820, \"AverageTemp_F\": 66.192785, \"Region\": \"South\"}, {\"State\": \"Louisiana\", \"Decade\": 1830, \"AverageTemp_F\": 65.586125, \"Region\": \"South\"}, {\"State\": \"Louisiana\", \"Decade\": 1840, \"AverageTemp_F\": 66.026195, \"Region\": \"South\"}, {\"State\": \"Louisiana\", \"Decade\": 1850, \"AverageTemp_F\": 65.503175, \"Region\": \"South\"}, {\"State\": \"Louisiana\", \"Decade\": 1860, \"AverageTemp_F\": 65.93138, \"Region\": \"South\"}, {\"State\": \"Louisiana\", \"Decade\": 1870, \"AverageTemp_F\": 65.859755, \"Region\": \"South\"}, {\"State\": \"Louisiana\", \"Decade\": 1880, \"AverageTemp_F\": 66.00803, \"Region\": \"South\"}, {\"State\": \"Louisiana\", \"Decade\": 1890, \"AverageTemp_F\": 65.98052, \"Region\": \"South\"}, {\"State\": \"Louisiana\", \"Decade\": 1900, \"AverageTemp_F\": 65.96891, \"Region\": \"South\"}, {\"State\": \"Louisiana\", \"Decade\": 1910, \"AverageTemp_F\": 66.05309000000001, \"Region\": \"South\"}, {\"State\": \"Louisiana\", \"Decade\": 1920, \"AverageTemp_F\": 66.74744, \"Region\": \"South\"}, {\"State\": \"Louisiana\", \"Decade\": 1930, \"AverageTemp_F\": 67.099355, \"Region\": \"South\"}, {\"State\": \"Louisiana\", \"Decade\": 1940, \"AverageTemp_F\": 66.721115, \"Region\": \"South\"}, {\"State\": \"Louisiana\", \"Decade\": 1950, \"AverageTemp_F\": 67.114445, \"Region\": \"South\"}, {\"State\": \"Louisiana\", \"Decade\": 1960, \"AverageTemp_F\": 66.204815, \"Region\": \"South\"}, {\"State\": \"Louisiana\", \"Decade\": 1970, \"AverageTemp_F\": 66.388445, \"Region\": \"South\"}, {\"State\": \"Louisiana\", \"Decade\": 1980, \"AverageTemp_F\": 66.62651, \"Region\": \"South\"}, {\"State\": \"Louisiana\", \"Decade\": 1990, \"AverageTemp_F\": 67.360685, \"Region\": \"South\"}, {\"State\": \"Louisiana\", \"Decade\": 2000, \"AverageTemp_F\": 67.69128500000001, \"Region\": \"South\"}, {\"State\": \"Louisiana\", \"Decade\": 2010, \"AverageTemp_F\": 68.56436000000001, \"Region\": \"South\"}, {\"State\": \"Maine\", \"Decade\": 1740, \"AverageTemp_F\": 36.63029230769231, \"Region\": \"Northeast\"}, {\"State\": \"Maine\", \"Decade\": 1750, \"AverageTemp_F\": 38.39378, \"Region\": \"Northeast\"}, {\"State\": \"Maine\", \"Decade\": 1760, \"AverageTemp_F\": 38.80159454545455, \"Region\": \"Northeast\"}, {\"State\": \"Maine\", \"Decade\": 1770, \"AverageTemp_F\": 39.044029126213594, \"Region\": \"Northeast\"}, {\"State\": \"Maine\", \"Decade\": 1780, \"AverageTemp_F\": 39.16898333333334, \"Region\": \"Northeast\"}, {\"State\": \"Maine\", \"Decade\": 1790, \"AverageTemp_F\": 39.551675, \"Region\": \"Northeast\"}, {\"State\": \"Maine\", \"Decade\": 1800, \"AverageTemp_F\": 40.091285, \"Region\": \"Northeast\"}, {\"State\": \"Maine\", \"Decade\": 1810, \"AverageTemp_F\": 38.03657, \"Region\": \"Northeast\"}, {\"State\": \"Maine\", \"Decade\": 1820, \"AverageTemp_F\": 39.520505, \"Region\": \"Northeast\"}, {\"State\": \"Maine\", \"Decade\": 1830, \"AverageTemp_F\": 38.39963, \"Region\": \"Northeast\"}, {\"State\": \"Maine\", \"Decade\": 1840, \"AverageTemp_F\": 38.798855, \"Region\": \"Northeast\"}, {\"State\": \"Maine\", \"Decade\": 1850, \"AverageTemp_F\": 38.653220000000005, \"Region\": \"Northeast\"}, {\"State\": \"Maine\", \"Decade\": 1860, \"AverageTemp_F\": 38.963854999999995, \"Region\": \"Northeast\"}, {\"State\": \"Maine\", \"Decade\": 1870, \"AverageTemp_F\": 39.098929999999996, \"Region\": \"Northeast\"}, {\"State\": \"Maine\", \"Decade\": 1880, \"AverageTemp_F\": 39.208729999999996, \"Region\": \"Northeast\"}, {\"State\": \"Maine\", \"Decade\": 1890, \"AverageTemp_F\": 39.884975000000004, \"Region\": \"Northeast\"}, {\"State\": \"Maine\", \"Decade\": 1900, \"AverageTemp_F\": 39.69263, \"Region\": \"Northeast\"}, {\"State\": \"Maine\", \"Decade\": 1910, \"AverageTemp_F\": 39.88127, \"Region\": \"Northeast\"}, {\"State\": \"Maine\", \"Decade\": 1920, \"AverageTemp_F\": 39.87755, \"Region\": \"Northeast\"}, {\"State\": \"Maine\", \"Decade\": 1930, \"AverageTemp_F\": 40.794515000000004, \"Region\": \"Northeast\"}, {\"State\": \"Maine\", \"Decade\": 1940, \"AverageTemp_F\": 40.86749, \"Region\": \"Northeast\"}, {\"State\": \"Maine\", \"Decade\": 1950, \"AverageTemp_F\": 41.321509999999996, \"Region\": \"Northeast\"}, {\"State\": \"Maine\", \"Decade\": 1960, \"AverageTemp_F\": 40.578125, \"Region\": \"Northeast\"}, {\"State\": \"Maine\", \"Decade\": 1970, \"AverageTemp_F\": 40.64759, \"Region\": \"Northeast\"}, {\"State\": \"Maine\", \"Decade\": 1980, \"AverageTemp_F\": 40.86755, \"Region\": \"Northeast\"}, {\"State\": \"Maine\", \"Decade\": 1990, \"AverageTemp_F\": 41.660765, \"Region\": \"Northeast\"}, {\"State\": \"Maine\", \"Decade\": 2000, \"AverageTemp_F\": 41.899175, \"Region\": \"Northeast\"}, {\"State\": \"Maine\", \"Decade\": 2010, \"AverageTemp_F\": 44.40764, \"Region\": \"Northeast\"}, {\"State\": \"Maryland\", \"Decade\": 1740, \"AverageTemp_F\": 50.7764923076923, \"Region\": \"South\"}, {\"State\": \"Maryland\", \"Decade\": 1750, \"AverageTemp_F\": 52.581146, \"Region\": \"South\"}, {\"State\": \"Maryland\", \"Decade\": 1760, \"AverageTemp_F\": 52.85992181818182, \"Region\": \"South\"}, {\"State\": \"Maryland\", \"Decade\": 1770, \"AverageTemp_F\": 53.261704854368936, \"Region\": \"South\"}, {\"State\": \"Maryland\", \"Decade\": 1780, \"AverageTemp_F\": 53.13655, \"Region\": \"South\"}, {\"State\": \"Maryland\", \"Decade\": 1790, \"AverageTemp_F\": 53.61353, \"Region\": \"South\"}, {\"State\": \"Maryland\", \"Decade\": 1800, \"AverageTemp_F\": 54.095749999999995, \"Region\": \"South\"}, {\"State\": \"Maryland\", \"Decade\": 1810, \"AverageTemp_F\": 52.057204999999996, \"Region\": \"South\"}, {\"State\": \"Maryland\", \"Decade\": 1820, \"AverageTemp_F\": 54.00566, \"Region\": \"South\"}, {\"State\": \"Maryland\", \"Decade\": 1830, \"AverageTemp_F\": 53.23025, \"Region\": \"South\"}, {\"State\": \"Maryland\", \"Decade\": 1840, \"AverageTemp_F\": 53.518625, \"Region\": \"South\"}, {\"State\": \"Maryland\", \"Decade\": 1850, \"AverageTemp_F\": 53.428790000000006, \"Region\": \"South\"}, {\"State\": \"Maryland\", \"Decade\": 1860, \"AverageTemp_F\": 52.981265, \"Region\": \"South\"}, {\"State\": \"Maryland\", \"Decade\": 1870, \"AverageTemp_F\": 53.37617, \"Region\": \"South\"}, {\"State\": \"Maryland\", \"Decade\": 1880, \"AverageTemp_F\": 53.440039999999996, \"Region\": \"South\"}, {\"State\": \"Maryland\", \"Decade\": 1890, \"AverageTemp_F\": 53.831765000000004, \"Region\": \"South\"}, {\"State\": \"Maryland\", \"Decade\": 1900, \"AverageTemp_F\": 53.369735, \"Region\": \"South\"}, {\"State\": \"Maryland\", \"Decade\": 1910, \"AverageTemp_F\": 53.775005, \"Region\": \"South\"}, {\"State\": \"Maryland\", \"Decade\": 1920, \"AverageTemp_F\": 54.024364999999996, \"Region\": \"South\"}, {\"State\": \"Maryland\", \"Decade\": 1930, \"AverageTemp_F\": 54.862745000000004, \"Region\": \"South\"}, {\"State\": \"Maryland\", \"Decade\": 1940, \"AverageTemp_F\": 54.594395, \"Region\": \"South\"}, {\"State\": \"Maryland\", \"Decade\": 1950, \"AverageTemp_F\": 54.892759999999996, \"Region\": \"South\"}, {\"State\": \"Maryland\", \"Decade\": 1960, \"AverageTemp_F\": 53.78051000000001, \"Region\": \"South\"}, {\"State\": \"Maryland\", \"Decade\": 1970, \"AverageTemp_F\": 54.465154999999996, \"Region\": \"South\"}, {\"State\": \"Maryland\", \"Decade\": 1980, \"AverageTemp_F\": 54.594425, \"Region\": \"South\"}, {\"State\": \"Maryland\", \"Decade\": 1990, \"AverageTemp_F\": 55.471610000000005, \"Region\": \"South\"}, {\"State\": \"Maryland\", \"Decade\": 2000, \"AverageTemp_F\": 55.509365, \"Region\": \"South\"}, {\"State\": \"Maryland\", \"Decade\": 2010, \"AverageTemp_F\": 56.990480000000005, \"Region\": \"South\"}, {\"State\": \"Massachusetts\", \"Decade\": 1740, \"AverageTemp_F\": 42.62484615384616, \"Region\": \"Northeast\"}, {\"State\": \"Massachusetts\", \"Decade\": 1750, \"AverageTemp_F\": 44.364218, \"Region\": \"Northeast\"}, {\"State\": \"Massachusetts\", \"Decade\": 1760, \"AverageTemp_F\": 44.81012545454546, \"Region\": \"Northeast\"}, {\"State\": \"Massachusetts\", \"Decade\": 1770, \"AverageTemp_F\": 45.0460854368932, \"Region\": \"Northeast\"}, {\"State\": \"Massachusetts\", \"Decade\": 1780, \"AverageTemp_F\": 44.965183333333336, \"Region\": \"Northeast\"}, {\"State\": \"Massachusetts\", \"Decade\": 1790, \"AverageTemp_F\": 45.315259999999995, \"Region\": \"Northeast\"}, {\"State\": \"Massachusetts\", \"Decade\": 1800, \"AverageTemp_F\": 46.032484999999994, \"Region\": \"Northeast\"}, {\"State\": \"Massachusetts\", \"Decade\": 1810, \"AverageTemp_F\": 43.94222, \"Region\": \"Northeast\"}, {\"State\": \"Massachusetts\", \"Decade\": 1820, \"AverageTemp_F\": 45.471244999999996, \"Region\": \"Northeast\"}, {\"State\": \"Massachusetts\", \"Decade\": 1830, \"AverageTemp_F\": 44.28959, \"Region\": \"Northeast\"}, {\"State\": \"Massachusetts\", \"Decade\": 1840, \"AverageTemp_F\": 44.884474999999995, \"Region\": \"Northeast\"}, {\"State\": \"Massachusetts\", \"Decade\": 1850, \"AverageTemp_F\": 44.541799999999995, \"Region\": \"Northeast\"}, {\"State\": \"Massachusetts\", \"Decade\": 1860, \"AverageTemp_F\": 44.771225, \"Region\": \"Northeast\"}, {\"State\": \"Massachusetts\", \"Decade\": 1870, \"AverageTemp_F\": 44.79575, \"Region\": \"Northeast\"}, {\"State\": \"Massachusetts\", \"Decade\": 1880, \"AverageTemp_F\": 44.957855, \"Region\": \"Northeast\"}, {\"State\": \"Massachusetts\", \"Decade\": 1890, \"AverageTemp_F\": 45.845315, \"Region\": \"Northeast\"}, {\"State\": \"Massachusetts\", \"Decade\": 1900, \"AverageTemp_F\": 45.48968, \"Region\": \"Northeast\"}, {\"State\": \"Massachusetts\", \"Decade\": 1910, \"AverageTemp_F\": 45.819785, \"Region\": \"Northeast\"}, {\"State\": \"Massachusetts\", \"Decade\": 1920, \"AverageTemp_F\": 45.978125, \"Region\": \"Northeast\"}, {\"State\": \"Massachusetts\", \"Decade\": 1930, \"AverageTemp_F\": 46.802569999999996, \"Region\": \"Northeast\"}, {\"State\": \"Massachusetts\", \"Decade\": 1940, \"AverageTemp_F\": 46.731725, \"Region\": \"Northeast\"}, {\"State\": \"Massachusetts\", \"Decade\": 1950, \"AverageTemp_F\": 47.24267, \"Region\": \"Northeast\"}, {\"State\": \"Massachusetts\", \"Decade\": 1960, \"AverageTemp_F\": 46.1987, \"Region\": \"Northeast\"}, {\"State\": \"Massachusetts\", \"Decade\": 1970, \"AverageTemp_F\": 46.6577, \"Region\": \"Northeast\"}, {\"State\": \"Massachusetts\", \"Decade\": 1980, \"AverageTemp_F\": 46.74584, \"Region\": \"Northeast\"}, {\"State\": \"Massachusetts\", \"Decade\": 1990, \"AverageTemp_F\": 47.657825, \"Region\": \"Northeast\"}, {\"State\": \"Massachusetts\", \"Decade\": 2000, \"AverageTemp_F\": 47.76845, \"Region\": \"Northeast\"}, {\"State\": \"Massachusetts\", \"Decade\": 2010, \"AverageTemp_F\": 49.97924, \"Region\": \"Northeast\"}, {\"State\": \"Michigan\", \"Decade\": 1740, \"AverageTemp_F\": 40.477169230769235, \"Region\": \"Midwest\"}, {\"State\": \"Michigan\", \"Decade\": 1750, \"AverageTemp_F\": 42.42612200000001, \"Region\": \"Midwest\"}, {\"State\": \"Michigan\", \"Decade\": 1760, \"AverageTemp_F\": 42.64094545454545, \"Region\": \"Midwest\"}, {\"State\": \"Michigan\", \"Decade\": 1770, \"AverageTemp_F\": 43.597476923076925, \"Region\": \"Midwest\"}, {\"State\": \"Michigan\", \"Decade\": 1780, \"AverageTemp_F\": 43.62978448275862, \"Region\": \"Midwest\"}, {\"State\": \"Michigan\", \"Decade\": 1790, \"AverageTemp_F\": 43.698875, \"Region\": \"Midwest\"}, {\"State\": \"Michigan\", \"Decade\": 1800, \"AverageTemp_F\": 43.99142, \"Region\": \"Midwest\"}, {\"State\": \"Michigan\", \"Decade\": 1810, \"AverageTemp_F\": 41.965145, \"Region\": \"Midwest\"}, {\"State\": \"Michigan\", \"Decade\": 1820, \"AverageTemp_F\": 43.54085, \"Region\": \"Midwest\"}, {\"State\": \"Michigan\", \"Decade\": 1830, \"AverageTemp_F\": 43.360879999999995, \"Region\": \"Midwest\"}, {\"State\": \"Michigan\", \"Decade\": 1840, \"AverageTemp_F\": 43.549775, \"Region\": \"Midwest\"}, {\"State\": \"Michigan\", \"Decade\": 1850, \"AverageTemp_F\": 43.27682, \"Region\": \"Midwest\"}, {\"State\": \"Michigan\", \"Decade\": 1860, \"AverageTemp_F\": 42.51962, \"Region\": \"Midwest\"}, {\"State\": \"Michigan\", \"Decade\": 1870, \"AverageTemp_F\": 43.265585, \"Region\": \"Midwest\"}, {\"State\": \"Michigan\", \"Decade\": 1880, \"AverageTemp_F\": 42.56219, \"Region\": \"Midwest\"}, {\"State\": \"Michigan\", \"Decade\": 1890, \"AverageTemp_F\": 43.604119999999995, \"Region\": \"Midwest\"}, {\"State\": \"Michigan\", \"Decade\": 1900, \"AverageTemp_F\": 43.523195, \"Region\": \"Midwest\"}, {\"State\": \"Michigan\", \"Decade\": 1910, \"AverageTemp_F\": 43.54898, \"Region\": \"Midwest\"}, {\"State\": \"Michigan\", \"Decade\": 1920, \"AverageTemp_F\": 43.759415, \"Region\": \"Midwest\"}, {\"State\": \"Michigan\", \"Decade\": 1930, \"AverageTemp_F\": 44.974534999999996, \"Region\": \"Midwest\"}, {\"State\": \"Michigan\", \"Decade\": 1940, \"AverageTemp_F\": 44.793845000000005, \"Region\": \"Midwest\"}, {\"State\": \"Michigan\", \"Decade\": 1950, \"AverageTemp_F\": 44.695325000000004, \"Region\": \"Midwest\"}, {\"State\": \"Michigan\", \"Decade\": 1960, \"AverageTemp_F\": 44.237854999999996, \"Region\": \"Midwest\"}, {\"State\": \"Michigan\", \"Decade\": 1970, \"AverageTemp_F\": 44.16746, \"Region\": \"Midwest\"}, {\"State\": \"Michigan\", \"Decade\": 1980, \"AverageTemp_F\": 44.84111, \"Region\": \"Midwest\"}, {\"State\": \"Michigan\", \"Decade\": 1990, \"AverageTemp_F\": 45.381965, \"Region\": \"Midwest\"}, {\"State\": \"Michigan\", \"Decade\": 2000, \"AverageTemp_F\": 45.862145000000005, \"Region\": \"Midwest\"}, {\"State\": \"Michigan\", \"Decade\": 2010, \"AverageTemp_F\": 47.547439999999995, \"Region\": \"Midwest\"}, {\"State\": \"Minnesota\", \"Decade\": 1740, \"AverageTemp_F\": 36.45555384615385, \"Region\": \"Midwest\"}, {\"State\": \"Minnesota\", \"Decade\": 1750, \"AverageTemp_F\": 38.467382, \"Region\": \"Midwest\"}, {\"State\": \"Minnesota\", \"Decade\": 1760, \"AverageTemp_F\": 38.65474727272728, \"Region\": \"Midwest\"}, {\"State\": \"Minnesota\", \"Decade\": 1770, \"AverageTemp_F\": 39.73123076923077, \"Region\": \"Midwest\"}, {\"State\": \"Minnesota\", \"Decade\": 1780, \"AverageTemp_F\": 40.11370172413793, \"Region\": \"Midwest\"}, {\"State\": \"Minnesota\", \"Decade\": 1790, \"AverageTemp_F\": 40.142615, \"Region\": \"Midwest\"}, {\"State\": \"Minnesota\", \"Decade\": 1800, \"AverageTemp_F\": 40.204955000000005, \"Region\": \"Midwest\"}, {\"State\": \"Minnesota\", \"Decade\": 1810, \"AverageTemp_F\": 38.21579, \"Region\": \"Midwest\"}, {\"State\": \"Minnesota\", \"Decade\": 1820, \"AverageTemp_F\": 39.490204999999996, \"Region\": \"Midwest\"}, {\"State\": \"Minnesota\", \"Decade\": 1830, \"AverageTemp_F\": 39.733399999999996, \"Region\": \"Midwest\"}, {\"State\": \"Minnesota\", \"Decade\": 1840, \"AverageTemp_F\": 39.488764999999994, \"Region\": \"Midwest\"}, {\"State\": \"Minnesota\", \"Decade\": 1850, \"AverageTemp_F\": 39.436085000000006, \"Region\": \"Midwest\"}, {\"State\": \"Minnesota\", \"Decade\": 1860, \"AverageTemp_F\": 38.264210000000006, \"Region\": \"Midwest\"}, {\"State\": \"Minnesota\", \"Decade\": 1870, \"AverageTemp_F\": 39.38297, \"Region\": \"Midwest\"}, {\"State\": \"Minnesota\", \"Decade\": 1880, \"AverageTemp_F\": 38.342, \"Region\": \"Midwest\"}, {\"State\": \"Minnesota\", \"Decade\": 1890, \"AverageTemp_F\": 39.48791000000001, \"Region\": \"Midwest\"}, {\"State\": \"Minnesota\", \"Decade\": 1900, \"AverageTemp_F\": 39.956735, \"Region\": \"Midwest\"}, {\"State\": \"Minnesota\", \"Decade\": 1910, \"AverageTemp_F\": 39.94046, \"Region\": \"Midwest\"}, {\"State\": \"Minnesota\", \"Decade\": 1920, \"AverageTemp_F\": 40.4141, \"Region\": \"Midwest\"}, {\"State\": \"Minnesota\", \"Decade\": 1930, \"AverageTemp_F\": 41.45537, \"Region\": \"Midwest\"}, {\"State\": \"Minnesota\", \"Decade\": 1940, \"AverageTemp_F\": 41.212415, \"Region\": \"Midwest\"}, {\"State\": \"Minnesota\", \"Decade\": 1950, \"AverageTemp_F\": 40.636235000000006, \"Region\": \"Midwest\"}, {\"State\": \"Minnesota\", \"Decade\": 1960, \"AverageTemp_F\": 40.66988, \"Region\": \"Midwest\"}, {\"State\": \"Minnesota\", \"Decade\": 1970, \"AverageTemp_F\": 40.481435000000005, \"Region\": \"Midwest\"}, {\"State\": \"Minnesota\", \"Decade\": 1980, \"AverageTemp_F\": 41.78435, \"Region\": \"Midwest\"}, {\"State\": \"Minnesota\", \"Decade\": 1990, \"AverageTemp_F\": 41.826260000000005, \"Region\": \"Midwest\"}, {\"State\": \"Minnesota\", \"Decade\": 2000, \"AverageTemp_F\": 42.351890000000004, \"Region\": \"Midwest\"}, {\"State\": \"Minnesota\", \"Decade\": 2010, \"AverageTemp_F\": 43.9066, \"Region\": \"Midwest\"}, {\"State\": \"Mississippi\", \"Decade\": 1750, \"AverageTemp_F\": 63.849628571428575, \"Region\": \"South\"}, {\"State\": \"Mississippi\", \"Decade\": 1760, \"AverageTemp_F\": 60.9116, \"Region\": \"South\"}, {\"State\": \"Mississippi\", \"Decade\": 1770, \"AverageTemp_F\": 62.532252500000006, \"Region\": \"South\"}, {\"State\": \"Mississippi\", \"Decade\": 1780, \"AverageTemp_F\": 63.058083333333336, \"Region\": \"South\"}, {\"State\": \"Mississippi\", \"Decade\": 1790, \"AverageTemp_F\": 63.28324464285714, \"Region\": \"South\"}, {\"State\": \"Mississippi\", \"Decade\": 1800, \"AverageTemp_F\": 63.635705, \"Region\": \"South\"}, {\"State\": \"Mississippi\", \"Decade\": 1810, \"AverageTemp_F\": 61.673300000000005, \"Region\": \"South\"}, {\"State\": \"Mississippi\", \"Decade\": 1820, \"AverageTemp_F\": 63.61349, \"Region\": \"South\"}, {\"State\": \"Mississippi\", \"Decade\": 1830, \"AverageTemp_F\": 63.173195, \"Region\": \"South\"}, {\"State\": \"Mississippi\", \"Decade\": 1840, \"AverageTemp_F\": 63.40859, \"Region\": \"South\"}, {\"State\": \"Mississippi\", \"Decade\": 1850, \"AverageTemp_F\": 62.925605000000004, \"Region\": \"South\"}, {\"State\": \"Mississippi\", \"Decade\": 1860, \"AverageTemp_F\": 63.12263, \"Region\": \"South\"}, {\"State\": \"Mississippi\", \"Decade\": 1870, \"AverageTemp_F\": 63.144575, \"Region\": \"South\"}, {\"State\": \"Mississippi\", \"Decade\": 1880, \"AverageTemp_F\": 63.368135, \"Region\": \"South\"}, {\"State\": \"Mississippi\", \"Decade\": 1890, \"AverageTemp_F\": 63.332705000000004, \"Region\": \"South\"}, {\"State\": \"Mississippi\", \"Decade\": 1900, \"AverageTemp_F\": 63.27638, \"Region\": \"South\"}, {\"State\": \"Mississippi\", \"Decade\": 1910, \"AverageTemp_F\": 63.45605, \"Region\": \"South\"}, {\"State\": \"Mississippi\", \"Decade\": 1920, \"AverageTemp_F\": 64.08737, \"Region\": \"South\"}, {\"State\": \"Mississippi\", \"Decade\": 1930, \"AverageTemp_F\": 64.47346999999999, \"Region\": \"South\"}, {\"State\": \"Mississippi\", \"Decade\": 1940, \"AverageTemp_F\": 64.014335, \"Region\": \"South\"}, {\"State\": \"Mississippi\", \"Decade\": 1950, \"AverageTemp_F\": 64.39733, \"Region\": \"South\"}, {\"State\": \"Mississippi\", \"Decade\": 1960, \"AverageTemp_F\": 63.385954999999996, \"Region\": \"South\"}, {\"State\": \"Mississippi\", \"Decade\": 1970, \"AverageTemp_F\": 63.712835000000005, \"Region\": \"South\"}, {\"State\": \"Mississippi\", \"Decade\": 1980, \"AverageTemp_F\": 63.972065, \"Region\": \"South\"}, {\"State\": \"Mississippi\", \"Decade\": 1990, \"AverageTemp_F\": 64.739075, \"Region\": \"South\"}, {\"State\": \"Mississippi\", \"Decade\": 2000, \"AverageTemp_F\": 65.01911, \"Region\": \"South\"}, {\"State\": \"Mississippi\", \"Decade\": 2010, \"AverageTemp_F\": 65.84792, \"Region\": \"South\"}, {\"State\": \"Missouri\", \"Decade\": 1740, \"AverageTemp_F\": 50.927276923076924, \"Region\": \"Midwest\"}, {\"State\": \"Missouri\", \"Decade\": 1750, \"AverageTemp_F\": 52.858526000000005, \"Region\": \"Midwest\"}, {\"State\": \"Missouri\", \"Decade\": 1760, \"AverageTemp_F\": 52.97216, \"Region\": \"Midwest\"}, {\"State\": \"Missouri\", \"Decade\": 1770, \"AverageTemp_F\": 53.38001553398058, \"Region\": \"Midwest\"}, {\"State\": \"Missouri\", \"Decade\": 1780, \"AverageTemp_F\": 53.699283333333334, \"Region\": \"Midwest\"}, {\"State\": \"Missouri\", \"Decade\": 1790, \"AverageTemp_F\": 54.237425, \"Region\": \"Midwest\"}, {\"State\": \"Missouri\", \"Decade\": 1800, \"AverageTemp_F\": 54.30086000000001, \"Region\": \"Midwest\"}, {\"State\": \"Missouri\", \"Decade\": 1810, \"AverageTemp_F\": 52.32542, \"Region\": \"Midwest\"}, {\"State\": \"Missouri\", \"Decade\": 1820, \"AverageTemp_F\": 54.00653, \"Region\": \"Midwest\"}, {\"State\": \"Missouri\", \"Decade\": 1830, \"AverageTemp_F\": 53.75027, \"Region\": \"Midwest\"}, {\"State\": \"Missouri\", \"Decade\": 1840, \"AverageTemp_F\": 53.607245, \"Region\": \"Midwest\"}, {\"State\": \"Missouri\", \"Decade\": 1850, \"AverageTemp_F\": 53.435945, \"Region\": \"Midwest\"}, {\"State\": \"Missouri\", \"Decade\": 1860, \"AverageTemp_F\": 53.510315, \"Region\": \"Midwest\"}, {\"State\": \"Missouri\", \"Decade\": 1870, \"AverageTemp_F\": 53.649080000000005, \"Region\": \"Midwest\"}, {\"State\": \"Missouri\", \"Decade\": 1880, \"AverageTemp_F\": 53.39021, \"Region\": \"Midwest\"}, {\"State\": \"Missouri\", \"Decade\": 1890, \"AverageTemp_F\": 53.822825, \"Region\": \"Midwest\"}, {\"State\": \"Missouri\", \"Decade\": 1900, \"AverageTemp_F\": 53.885345, \"Region\": \"Midwest\"}, {\"State\": \"Missouri\", \"Decade\": 1910, \"AverageTemp_F\": 54.171079999999996, \"Region\": \"Midwest\"}, {\"State\": \"Missouri\", \"Decade\": 1920, \"AverageTemp_F\": 54.545134999999995, \"Region\": \"Midwest\"}, {\"State\": \"Missouri\", \"Decade\": 1930, \"AverageTemp_F\": 55.782424999999996, \"Region\": \"Midwest\"}, {\"State\": \"Missouri\", \"Decade\": 1940, \"AverageTemp_F\": 54.81017, \"Region\": \"Midwest\"}, {\"State\": \"Missouri\", \"Decade\": 1950, \"AverageTemp_F\": 55.09775, \"Region\": \"Midwest\"}, {\"State\": \"Missouri\", \"Decade\": 1960, \"AverageTemp_F\": 54.35732, \"Region\": \"Midwest\"}, {\"State\": \"Missouri\", \"Decade\": 1970, \"AverageTemp_F\": 54.48128, \"Region\": \"Midwest\"}, {\"State\": \"Missouri\", \"Decade\": 1980, \"AverageTemp_F\": 54.98444, \"Region\": \"Midwest\"}, {\"State\": \"Missouri\", \"Decade\": 1990, \"AverageTemp_F\": 55.46936, \"Region\": \"Midwest\"}, {\"State\": \"Missouri\", \"Decade\": 2000, \"AverageTemp_F\": 55.870595, \"Region\": \"Midwest\"}, {\"State\": \"Missouri\", \"Decade\": 2010, \"AverageTemp_F\": 57.27224, \"Region\": \"Midwest\"}, {\"State\": \"Montana\", \"Decade\": 1760, \"AverageTemp_F\": 41.5808, \"Region\": \"West\"}, {\"State\": \"Montana\", \"Decade\": 1770, \"AverageTemp_F\": 39.73527868852459, \"Region\": \"West\"}, {\"State\": \"Montana\", \"Decade\": 1780, \"AverageTemp_F\": 41.96138947368421, \"Region\": \"West\"}, {\"State\": \"Montana\", \"Decade\": 1790, \"AverageTemp_F\": 42.82783076923077, \"Region\": \"West\"}, {\"State\": \"Montana\", \"Decade\": 1810, \"AverageTemp_F\": 37.38615945945946, \"Region\": \"West\"}, {\"State\": \"Montana\", \"Decade\": 1820, \"AverageTemp_F\": 40.355959999999996, \"Region\": \"West\"}, {\"State\": \"Montana\", \"Decade\": 1830, \"AverageTemp_F\": 40.17839, \"Region\": \"West\"}, {\"State\": \"Montana\", \"Decade\": 1840, \"AverageTemp_F\": 39.999065, \"Region\": \"West\"}, {\"State\": \"Montana\", \"Decade\": 1850, \"AverageTemp_F\": 40.533590000000004, \"Region\": \"West\"}, {\"State\": \"Montana\", \"Decade\": 1860, \"AverageTemp_F\": 40.429445, \"Region\": \"West\"}, {\"State\": \"Montana\", \"Decade\": 1870, \"AverageTemp_F\": 40.854545, \"Region\": \"West\"}, {\"State\": \"Montana\", \"Decade\": 1880, \"AverageTemp_F\": 40.168429999999994, \"Region\": \"West\"}, {\"State\": \"Montana\", \"Decade\": 1890, \"AverageTemp_F\": 39.97529, \"Region\": \"West\"}, {\"State\": \"Montana\", \"Decade\": 1900, \"AverageTemp_F\": 40.944515, \"Region\": \"West\"}, {\"State\": \"Montana\", \"Decade\": 1910, \"AverageTemp_F\": 40.330310000000004, \"Region\": \"West\"}, {\"State\": \"Montana\", \"Decade\": 1920, \"AverageTemp_F\": 40.920139999999996, \"Region\": \"West\"}, {\"State\": \"Montana\", \"Decade\": 1930, \"AverageTemp_F\": 42.271655, \"Region\": \"West\"}, {\"State\": \"Montana\", \"Decade\": 1940, \"AverageTemp_F\": 41.59442, \"Region\": \"West\"}, {\"State\": \"Montana\", \"Decade\": 1950, \"AverageTemp_F\": 41.006885000000004, \"Region\": \"West\"}, {\"State\": \"Montana\", \"Decade\": 1960, \"AverageTemp_F\": 41.586815, \"Region\": \"West\"}, {\"State\": \"Montana\", \"Decade\": 1970, \"AverageTemp_F\": 41.167355, \"Region\": \"West\"}, {\"State\": \"Montana\", \"Decade\": 1980, \"AverageTemp_F\": 42.302569999999996, \"Region\": \"West\"}, {\"State\": \"Montana\", \"Decade\": 1990, \"AverageTemp_F\": 42.46462999999999, \"Region\": \"West\"}, {\"State\": \"Montana\", \"Decade\": 2000, \"AverageTemp_F\": 42.895970000000005, \"Region\": \"West\"}, {\"State\": \"Montana\", \"Decade\": 2010, \"AverageTemp_F\": 43.60108, \"Region\": \"West\"}, {\"State\": \"Nebraska\", \"Decade\": 1760, \"AverageTemp_F\": 48.6584, \"Region\": \"Midwest\"}, {\"State\": \"Nebraska\", \"Decade\": 1770, \"AverageTemp_F\": 46.92400655737705, \"Region\": \"Midwest\"}, {\"State\": \"Nebraska\", \"Decade\": 1780, \"AverageTemp_F\": 49.13836842105263, \"Region\": \"Midwest\"}, {\"State\": \"Nebraska\", \"Decade\": 1790, \"AverageTemp_F\": 50.075738461538464, \"Region\": \"Midwest\"}, {\"State\": \"Nebraska\", \"Decade\": 1810, \"AverageTemp_F\": 44.45201081081081, \"Region\": \"Midwest\"}, {\"State\": \"Nebraska\", \"Decade\": 1820, \"AverageTemp_F\": 47.692384999999994, \"Region\": \"Midwest\"}, {\"State\": \"Nebraska\", \"Decade\": 1830, \"AverageTemp_F\": 47.56631, \"Region\": \"Midwest\"}, {\"State\": \"Nebraska\", \"Decade\": 1840, \"AverageTemp_F\": 47.397169999999996, \"Region\": \"Midwest\"}, {\"State\": \"Nebraska\", \"Decade\": 1850, \"AverageTemp_F\": 47.59577, \"Region\": \"Midwest\"}, {\"State\": \"Nebraska\", \"Decade\": 1860, \"AverageTemp_F\": 47.34281, \"Region\": \"Midwest\"}, {\"State\": \"Nebraska\", \"Decade\": 1870, \"AverageTemp_F\": 47.43743, \"Region\": \"Midwest\"}, {\"State\": \"Nebraska\", \"Decade\": 1880, \"AverageTemp_F\": 47.06102, \"Region\": \"Midwest\"}, {\"State\": \"Nebraska\", \"Decade\": 1890, \"AverageTemp_F\": 47.56751, \"Region\": \"Midwest\"}, {\"State\": \"Nebraska\", \"Decade\": 1900, \"AverageTemp_F\": 47.96411, \"Region\": \"Midwest\"}, {\"State\": \"Nebraska\", \"Decade\": 1910, \"AverageTemp_F\": 47.85194, \"Region\": \"Midwest\"}, {\"State\": \"Nebraska\", \"Decade\": 1920, \"AverageTemp_F\": 48.42485, \"Region\": \"Midwest\"}, {\"State\": \"Nebraska\", \"Decade\": 1930, \"AverageTemp_F\": 50.00096, \"Region\": \"Midwest\"}, {\"State\": \"Nebraska\", \"Decade\": 1940, \"AverageTemp_F\": 48.98030000000001, \"Region\": \"Midwest\"}, {\"State\": \"Nebraska\", \"Decade\": 1950, \"AverageTemp_F\": 48.824735000000004, \"Region\": \"Midwest\"}, {\"State\": \"Nebraska\", \"Decade\": 1960, \"AverageTemp_F\": 48.59873, \"Region\": \"Midwest\"}, {\"State\": \"Nebraska\", \"Decade\": 1970, \"AverageTemp_F\": 48.578645, \"Region\": \"Midwest\"}, {\"State\": \"Nebraska\", \"Decade\": 1980, \"AverageTemp_F\": 49.299200000000006, \"Region\": \"Midwest\"}, {\"State\": \"Nebraska\", \"Decade\": 1990, \"AverageTemp_F\": 49.44398, \"Region\": \"Midwest\"}, {\"State\": \"Nebraska\", \"Decade\": 2000, \"AverageTemp_F\": 50.190605, \"Region\": \"Midwest\"}, {\"State\": \"Nebraska\", \"Decade\": 2010, \"AverageTemp_F\": 51.31048, \"Region\": \"Midwest\"}, {\"State\": \"Nevada\", \"Decade\": 1820, \"AverageTemp_F\": 49.2845, \"Region\": \"West\"}, {\"State\": \"Nevada\", \"Decade\": 1830, \"AverageTemp_F\": 47.99575294117647, \"Region\": \"West\"}, {\"State\": \"Nevada\", \"Decade\": 1840, \"AverageTemp_F\": 48.94037669902912, \"Region\": \"West\"}, {\"State\": \"Nevada\", \"Decade\": 1850, \"AverageTemp_F\": 49.256240000000005, \"Region\": \"West\"}, {\"State\": \"Nevada\", \"Decade\": 1860, \"AverageTemp_F\": 50.00585, \"Region\": \"West\"}, {\"State\": \"Nevada\", \"Decade\": 1870, \"AverageTemp_F\": 49.95341, \"Region\": \"West\"}, {\"State\": \"Nevada\", \"Decade\": 1880, \"AverageTemp_F\": 49.530274999999996, \"Region\": \"West\"}, {\"State\": \"Nevada\", \"Decade\": 1890, \"AverageTemp_F\": 48.90053, \"Region\": \"West\"}, {\"State\": \"Nevada\", \"Decade\": 1900, \"AverageTemp_F\": 49.504445000000004, \"Region\": \"West\"}, {\"State\": \"Nevada\", \"Decade\": 1910, \"AverageTemp_F\": 48.928985, \"Region\": \"West\"}, {\"State\": \"Nevada\", \"Decade\": 1920, \"AverageTemp_F\": 49.419965000000005, \"Region\": \"West\"}, {\"State\": \"Nevada\", \"Decade\": 1930, \"AverageTemp_F\": 49.94318, \"Region\": \"West\"}, {\"State\": \"Nevada\", \"Decade\": 1940, \"AverageTemp_F\": 49.471145, \"Region\": \"West\"}, {\"State\": \"Nevada\", \"Decade\": 1950, \"AverageTemp_F\": 49.953335, \"Region\": \"West\"}, {\"State\": \"Nevada\", \"Decade\": 1960, \"AverageTemp_F\": 49.74641, \"Region\": \"West\"}, {\"State\": \"Nevada\", \"Decade\": 1970, \"AverageTemp_F\": 49.594355, \"Region\": \"West\"}, {\"State\": \"Nevada\", \"Decade\": 1980, \"AverageTemp_F\": 50.11514, \"Region\": \"West\"}, {\"State\": \"Nevada\", \"Decade\": 1990, \"AverageTemp_F\": 50.404745000000005, \"Region\": \"West\"}, {\"State\": \"Nevada\", \"Decade\": 2000, \"AverageTemp_F\": 51.08912, \"Region\": \"West\"}, {\"State\": \"Nevada\", \"Decade\": 2010, \"AverageTemp_F\": 51.4872, \"Region\": \"West\"}, {\"State\": \"New Hampshire\", \"Decade\": 1740, \"AverageTemp_F\": 38.91393846153846, \"Region\": \"Northeast\"}, {\"State\": \"New Hampshire\", \"Decade\": 1750, \"AverageTemp_F\": 40.66232, \"Region\": \"Northeast\"}, {\"State\": \"New Hampshire\", \"Decade\": 1760, \"AverageTemp_F\": 41.108278181818186, \"Region\": \"Northeast\"}, {\"State\": \"New Hampshire\", \"Decade\": 1770, \"AverageTemp_F\": 41.33245825242718, \"Region\": \"Northeast\"}, {\"State\": \"New Hampshire\", \"Decade\": 1780, \"AverageTemp_F\": 41.372350000000004, \"Region\": \"Northeast\"}, {\"State\": \"New Hampshire\", \"Decade\": 1790, \"AverageTemp_F\": 41.73056, \"Region\": \"Northeast\"}, {\"State\": \"New Hampshire\", \"Decade\": 1800, \"AverageTemp_F\": 42.399575, \"Region\": \"Northeast\"}, {\"State\": \"New Hampshire\", \"Decade\": 1810, \"AverageTemp_F\": 40.318414999999995, \"Region\": \"Northeast\"}, {\"State\": \"New Hampshire\", \"Decade\": 1820, \"AverageTemp_F\": 41.83304, \"Region\": \"Northeast\"}, {\"State\": \"New Hampshire\", \"Decade\": 1830, \"AverageTemp_F\": 40.637674999999994, \"Region\": \"Northeast\"}, {\"State\": \"New Hampshire\", \"Decade\": 1840, \"AverageTemp_F\": 41.16167, \"Region\": \"Northeast\"}, {\"State\": \"New Hampshire\", \"Decade\": 1850, \"AverageTemp_F\": 40.85405, \"Region\": \"Northeast\"}, {\"State\": \"New Hampshire\", \"Decade\": 1860, \"AverageTemp_F\": 41.16962, \"Region\": \"Northeast\"}, {\"State\": \"New Hampshire\", \"Decade\": 1870, \"AverageTemp_F\": 41.24628500000001, \"Region\": \"Northeast\"}, {\"State\": \"New Hampshire\", \"Decade\": 1880, \"AverageTemp_F\": 41.389145, \"Region\": \"Northeast\"}, {\"State\": \"New Hampshire\", \"Decade\": 1890, \"AverageTemp_F\": 42.21725, \"Region\": \"Northeast\"}, {\"State\": \"New Hampshire\", \"Decade\": 1900, \"AverageTemp_F\": 41.8625, \"Region\": \"Northeast\"}, {\"State\": \"New Hampshire\", \"Decade\": 1910, \"AverageTemp_F\": 42.198139999999995, \"Region\": \"Northeast\"}, {\"State\": \"New Hampshire\", \"Decade\": 1920, \"AverageTemp_F\": 42.336800000000004, \"Region\": \"Northeast\"}, {\"State\": \"New Hampshire\", \"Decade\": 1930, \"AverageTemp_F\": 43.11572, \"Region\": \"Northeast\"}, {\"State\": \"New Hampshire\", \"Decade\": 1940, \"AverageTemp_F\": 43.151089999999996, \"Region\": \"Northeast\"}, {\"State\": \"New Hampshire\", \"Decade\": 1950, \"AverageTemp_F\": 43.633745, \"Region\": \"Northeast\"}, {\"State\": \"New Hampshire\", \"Decade\": 1960, \"AverageTemp_F\": 42.686795, \"Region\": \"Northeast\"}, {\"State\": \"New Hampshire\", \"Decade\": 1970, \"AverageTemp_F\": 42.97937, \"Region\": \"Northeast\"}, {\"State\": \"New Hampshire\", \"Decade\": 1980, \"AverageTemp_F\": 43.189625, \"Region\": \"Northeast\"}, {\"State\": \"New Hampshire\", \"Decade\": 1990, \"AverageTemp_F\": 44.065655, \"Region\": \"Northeast\"}, {\"State\": \"New Hampshire\", \"Decade\": 2000, \"AverageTemp_F\": 44.16197, \"Region\": \"Northeast\"}, {\"State\": \"New Hampshire\", \"Decade\": 2010, \"AverageTemp_F\": 46.590520000000005, \"Region\": \"Northeast\"}, {\"State\": \"New Jersey\", \"Decade\": 1740, \"AverageTemp_F\": 48.007261538461535, \"Region\": \"Northeast\"}, {\"State\": \"New Jersey\", \"Decade\": 1750, \"AverageTemp_F\": 49.80686, \"Region\": \"Northeast\"}, {\"State\": \"New Jersey\", \"Decade\": 1760, \"AverageTemp_F\": 50.14915454545455, \"Region\": \"Northeast\"}, {\"State\": \"New Jersey\", \"Decade\": 1770, \"AverageTemp_F\": 50.508141747572814, \"Region\": \"Northeast\"}, {\"State\": \"New Jersey\", \"Decade\": 1780, \"AverageTemp_F\": 50.36236666666667, \"Region\": \"Northeast\"}, {\"State\": \"New Jersey\", \"Decade\": 1790, \"AverageTemp_F\": 50.791955, \"Region\": \"Northeast\"}, {\"State\": \"New Jersey\", \"Decade\": 1800, \"AverageTemp_F\": 51.422525, \"Region\": \"Northeast\"}, {\"State\": \"New Jersey\", \"Decade\": 1810, \"AverageTemp_F\": 49.345865, \"Region\": \"Northeast\"}, {\"State\": \"New Jersey\", \"Decade\": 1820, \"AverageTemp_F\": 51.06893, \"Region\": \"Northeast\"}, {\"State\": \"New Jersey\", \"Decade\": 1830, \"AverageTemp_F\": 50.132195, \"Region\": \"Northeast\"}, {\"State\": \"New Jersey\", \"Decade\": 1840, \"AverageTemp_F\": 50.59418, \"Region\": \"Northeast\"}, {\"State\": \"New Jersey\", \"Decade\": 1850, \"AverageTemp_F\": 50.4131, \"Region\": \"Northeast\"}, {\"State\": \"New Jersey\", \"Decade\": 1860, \"AverageTemp_F\": 50.22242000000001, \"Region\": \"Northeast\"}, {\"State\": \"New Jersey\", \"Decade\": 1870, \"AverageTemp_F\": 50.572955, \"Region\": \"Northeast\"}, {\"State\": \"New Jersey\", \"Decade\": 1880, \"AverageTemp_F\": 50.526305, \"Region\": \"Northeast\"}, {\"State\": \"New Jersey\", \"Decade\": 1890, \"AverageTemp_F\": 51.147484999999996, \"Region\": \"Northeast\"}, {\"State\": \"New Jersey\", \"Decade\": 1900, \"AverageTemp_F\": 50.7206, \"Region\": \"Northeast\"}, {\"State\": \"New Jersey\", \"Decade\": 1910, \"AverageTemp_F\": 51.11108, \"Region\": \"Northeast\"}, {\"State\": \"New Jersey\", \"Decade\": 1920, \"AverageTemp_F\": 51.29768, \"Region\": \"Northeast\"}, {\"State\": \"New Jersey\", \"Decade\": 1930, \"AverageTemp_F\": 52.179515, \"Region\": \"Northeast\"}, {\"State\": \"New Jersey\", \"Decade\": 1940, \"AverageTemp_F\": 51.942695, \"Region\": \"Northeast\"}, {\"State\": \"New Jersey\", \"Decade\": 1950, \"AverageTemp_F\": 52.379464999999996, \"Region\": \"Northeast\"}, {\"State\": \"New Jersey\", \"Decade\": 1960, \"AverageTemp_F\": 51.27638, \"Region\": \"Northeast\"}, {\"State\": \"New Jersey\", \"Decade\": 1970, \"AverageTemp_F\": 51.88157, \"Region\": \"Northeast\"}, {\"State\": \"New Jersey\", \"Decade\": 1980, \"AverageTemp_F\": 52.053725, \"Region\": \"Northeast\"}, {\"State\": \"New Jersey\", \"Decade\": 1990, \"AverageTemp_F\": 52.899575, \"Region\": \"Northeast\"}, {\"State\": \"New Jersey\", \"Decade\": 2000, \"AverageTemp_F\": 52.9982, \"Region\": \"Northeast\"}, {\"State\": \"New Jersey\", \"Decade\": 2010, \"AverageTemp_F\": 54.75184, \"Region\": \"Northeast\"}, {\"State\": \"New Mexico\", \"Decade\": 1820, \"AverageTemp_F\": 53.561324324324325, \"Region\": \"West\"}, {\"State\": \"New Mexico\", \"Decade\": 1830, \"AverageTemp_F\": 52.283957983193275, \"Region\": \"West\"}, {\"State\": \"New Mexico\", \"Decade\": 1840, \"AverageTemp_F\": 52.392545000000005, \"Region\": \"West\"}, {\"State\": \"New Mexico\", \"Decade\": 1850, \"AverageTemp_F\": 52.800515000000004, \"Region\": \"West\"}, {\"State\": \"New Mexico\", \"Decade\": 1860, \"AverageTemp_F\": 53.664575, \"Region\": \"West\"}, {\"State\": \"New Mexico\", \"Decade\": 1870, \"AverageTemp_F\": 53.30411, \"Region\": \"West\"}, {\"State\": \"New Mexico\", \"Decade\": 1880, \"AverageTemp_F\": 52.757765, \"Region\": \"West\"}, {\"State\": \"New Mexico\", \"Decade\": 1890, \"AverageTemp_F\": 52.751135, \"Region\": \"West\"}, {\"State\": \"New Mexico\", \"Decade\": 1900, \"AverageTemp_F\": 53.14994, \"Region\": \"West\"}, {\"State\": \"New Mexico\", \"Decade\": 1910, \"AverageTemp_F\": 52.81355, \"Region\": \"West\"}, {\"State\": \"New Mexico\", \"Decade\": 1920, \"AverageTemp_F\": 53.180075, \"Region\": \"West\"}, {\"State\": \"New Mexico\", \"Decade\": 1930, \"AverageTemp_F\": 53.582885000000005, \"Region\": \"West\"}, {\"State\": \"New Mexico\", \"Decade\": 1940, \"AverageTemp_F\": 53.317009999999996, \"Region\": \"West\"}, {\"State\": \"New Mexico\", \"Decade\": 1950, \"AverageTemp_F\": 54.024829999999994, \"Region\": \"West\"}, {\"State\": \"New Mexico\", \"Decade\": 1960, \"AverageTemp_F\": 53.31674, \"Region\": \"West\"}, {\"State\": \"New Mexico\", \"Decade\": 1970, \"AverageTemp_F\": 53.116025, \"Region\": \"West\"}, {\"State\": \"New Mexico\", \"Decade\": 1980, \"AverageTemp_F\": 53.702075, \"Region\": \"West\"}, {\"State\": \"New Mexico\", \"Decade\": 1990, \"AverageTemp_F\": 54.116075, \"Region\": \"West\"}, {\"State\": \"New Mexico\", \"Decade\": 2000, \"AverageTemp_F\": 54.802279999999996, \"Region\": \"West\"}, {\"State\": \"New Mexico\", \"Decade\": 2010, \"AverageTemp_F\": 55.696160000000006, \"Region\": \"West\"}, {\"State\": \"New York\", \"Decade\": 1740, \"AverageTemp_F\": 41.72858461538462, \"Region\": \"Northeast\"}, {\"State\": \"New York\", \"Decade\": 1750, \"AverageTemp_F\": 43.518938, \"Region\": \"Northeast\"}, {\"State\": \"New York\", \"Decade\": 1760, \"AverageTemp_F\": 43.901370909090915, \"Region\": \"Northeast\"}, {\"State\": \"New York\", \"Decade\": 1770, \"AverageTemp_F\": 44.19800582524272, \"Region\": \"Northeast\"}, {\"State\": \"New York\", \"Decade\": 1780, \"AverageTemp_F\": 44.19368333333333, \"Region\": \"Northeast\"}, {\"State\": \"New York\", \"Decade\": 1790, \"AverageTemp_F\": 44.588225, \"Region\": \"Northeast\"}, {\"State\": \"New York\", \"Decade\": 1800, \"AverageTemp_F\": 45.24284, \"Region\": \"Northeast\"}, {\"State\": \"New York\", \"Decade\": 1810, \"AverageTemp_F\": 43.150085, \"Region\": \"Northeast\"}, {\"State\": \"New York\", \"Decade\": 1820, \"AverageTemp_F\": 44.803085, \"Region\": \"Northeast\"}, {\"State\": \"New York\", \"Decade\": 1830, \"AverageTemp_F\": 43.774175, \"Region\": \"Northeast\"}, {\"State\": \"New York\", \"Decade\": 1840, \"AverageTemp_F\": 44.295935, \"Region\": \"Northeast\"}, {\"State\": \"New York\", \"Decade\": 1850, \"AverageTemp_F\": 43.978205, \"Region\": \"Northeast\"}, {\"State\": \"New York\", \"Decade\": 1860, \"AverageTemp_F\": 43.948175, \"Region\": \"Northeast\"}, {\"State\": \"New York\", \"Decade\": 1870, \"AverageTemp_F\": 44.28833, \"Region\": \"Northeast\"}, {\"State\": \"New York\", \"Decade\": 1880, \"AverageTemp_F\": 44.176294999999996, \"Region\": \"Northeast\"}, {\"State\": \"New York\", \"Decade\": 1890, \"AverageTemp_F\": 45.075455000000005, \"Region\": \"Northeast\"}, {\"State\": \"New York\", \"Decade\": 1900, \"AverageTemp_F\": 44.627885, \"Region\": \"Northeast\"}, {\"State\": \"New York\", \"Decade\": 1910, \"AverageTemp_F\": 44.927315, \"Region\": \"Northeast\"}, {\"State\": \"New York\", \"Decade\": 1920, \"AverageTemp_F\": 45.046265, \"Region\": \"Northeast\"}, {\"State\": \"New York\", \"Decade\": 1930, \"AverageTemp_F\": 45.996035, \"Region\": \"Northeast\"}, {\"State\": \"New York\", \"Decade\": 1940, \"AverageTemp_F\": 45.819365, \"Region\": \"Northeast\"}, {\"State\": \"New York\", \"Decade\": 1950, \"AverageTemp_F\": 46.29287, \"Region\": \"Northeast\"}, {\"State\": \"New York\", \"Decade\": 1960, \"AverageTemp_F\": 45.342800000000004, \"Region\": \"Northeast\"}, {\"State\": \"New York\", \"Decade\": 1970, \"AverageTemp_F\": 45.605884999999994, \"Region\": \"Northeast\"}, {\"State\": \"New York\", \"Decade\": 1980, \"AverageTemp_F\": 45.9653, \"Region\": \"Northeast\"}, {\"State\": \"New York\", \"Decade\": 1990, \"AverageTemp_F\": 46.760165, \"Region\": \"Northeast\"}, {\"State\": \"New York\", \"Decade\": 2000, \"AverageTemp_F\": 46.984085, \"Region\": \"Northeast\"}, {\"State\": \"New York\", \"Decade\": 2010, \"AverageTemp_F\": 49.03976, \"Region\": \"Northeast\"}, {\"State\": \"North Carolina\", \"Decade\": 1740, \"AverageTemp_F\": 55.766784615384616, \"Region\": \"South\"}, {\"State\": \"North Carolina\", \"Decade\": 1750, \"AverageTemp_F\": 57.46586, \"Region\": \"South\"}, {\"State\": \"North Carolina\", \"Decade\": 1760, \"AverageTemp_F\": 57.65008181818182, \"Region\": \"South\"}, {\"State\": \"North Carolina\", \"Decade\": 1770, \"AverageTemp_F\": 58.087382524271845, \"Region\": \"South\"}, {\"State\": \"North Carolina\", \"Decade\": 1780, \"AverageTemp_F\": 57.98296666666666, \"Region\": \"South\"}, {\"State\": \"North Carolina\", \"Decade\": 1790, \"AverageTemp_F\": 58.49309, \"Region\": \"South\"}, {\"State\": \"North Carolina\", \"Decade\": 1800, \"AverageTemp_F\": 58.794125, \"Region\": \"South\"}, {\"State\": \"North Carolina\", \"Decade\": 1810, \"AverageTemp_F\": 56.787725, \"Region\": \"South\"}, {\"State\": \"North Carolina\", \"Decade\": 1820, \"AverageTemp_F\": 58.91057, \"Region\": \"South\"}, {\"State\": \"North Carolina\", \"Decade\": 1830, \"AverageTemp_F\": 58.783805, \"Region\": \"South\"}, {\"State\": \"North Carolina\", \"Decade\": 1840, \"AverageTemp_F\": 58.470905, \"Region\": \"South\"}, {\"State\": \"North Carolina\", \"Decade\": 1850, \"AverageTemp_F\": 58.38518, \"Region\": \"South\"}, {\"State\": \"North Carolina\", \"Decade\": 1860, \"AverageTemp_F\": 58.200275000000005, \"Region\": \"South\"}, {\"State\": \"North Carolina\", \"Decade\": 1870, \"AverageTemp_F\": 58.149589999999996, \"Region\": \"South\"}, {\"State\": \"North Carolina\", \"Decade\": 1880, \"AverageTemp_F\": 58.263889999999996, \"Region\": \"South\"}, {\"State\": \"North Carolina\", \"Decade\": 1890, \"AverageTemp_F\": 58.415060000000004, \"Region\": \"South\"}, {\"State\": \"North Carolina\", \"Decade\": 1900, \"AverageTemp_F\": 58.04912, \"Region\": \"South\"}, {\"State\": \"North Carolina\", \"Decade\": 1910, \"AverageTemp_F\": 58.4435, \"Region\": \"South\"}, {\"State\": \"North Carolina\", \"Decade\": 1920, \"AverageTemp_F\": 58.908005, \"Region\": \"South\"}, {\"State\": \"North Carolina\", \"Decade\": 1930, \"AverageTemp_F\": 59.634155, \"Region\": \"South\"}, {\"State\": \"North Carolina\", \"Decade\": 1940, \"AverageTemp_F\": 59.261015, \"Region\": \"South\"}, {\"State\": \"North Carolina\", \"Decade\": 1950, \"AverageTemp_F\": 59.45993, \"Region\": \"South\"}, {\"State\": \"North Carolina\", \"Decade\": 1960, \"AverageTemp_F\": 58.15868, \"Region\": \"South\"}, {\"State\": \"North Carolina\", \"Decade\": 1970, \"AverageTemp_F\": 58.96295, \"Region\": \"South\"}, {\"State\": \"North Carolina\", \"Decade\": 1980, \"AverageTemp_F\": 58.974619999999994, \"Region\": \"South\"}, {\"State\": \"North Carolina\", \"Decade\": 1990, \"AverageTemp_F\": 59.943920000000006, \"Region\": \"South\"}, {\"State\": \"North Carolina\", \"Decade\": 2000, \"AverageTemp_F\": 60.122240000000005, \"Region\": \"South\"}, {\"State\": \"North Carolina\", \"Decade\": 2010, \"AverageTemp_F\": 60.8974, \"Region\": \"South\"}, {\"State\": \"North Dakota\", \"Decade\": 1760, \"AverageTemp_F\": 40.01795, \"Region\": \"Midwest\"}, {\"State\": \"North Dakota\", \"Decade\": 1770, \"AverageTemp_F\": 38.01256065573771, \"Region\": \"Midwest\"}, {\"State\": \"North Dakota\", \"Decade\": 1780, \"AverageTemp_F\": 40.53029473684211, \"Region\": \"Midwest\"}, {\"State\": \"North Dakota\", \"Decade\": 1790, \"AverageTemp_F\": 41.65409230769231, \"Region\": \"Midwest\"}, {\"State\": \"North Dakota\", \"Decade\": 1810, \"AverageTemp_F\": 35.43208918918919, \"Region\": \"Midwest\"}, {\"State\": \"North Dakota\", \"Decade\": 1820, \"AverageTemp_F\": 38.83034, \"Region\": \"Midwest\"}, {\"State\": \"North Dakota\", \"Decade\": 1830, \"AverageTemp_F\": 38.92235, \"Region\": \"Midwest\"}, {\"State\": \"North Dakota\", \"Decade\": 1840, \"AverageTemp_F\": 38.682874999999996, \"Region\": \"Midwest\"}, {\"State\": \"North Dakota\", \"Decade\": 1850, \"AverageTemp_F\": 38.881445, \"Region\": \"Midwest\"}, {\"State\": \"North Dakota\", \"Decade\": 1860, \"AverageTemp_F\": 38.07914, \"Region\": \"Midwest\"}, {\"State\": \"North Dakota\", \"Decade\": 1870, \"AverageTemp_F\": 38.80544, \"Region\": \"Midwest\"}, {\"State\": \"North Dakota\", \"Decade\": 1880, \"AverageTemp_F\": 37.870160000000006, \"Region\": \"Midwest\"}, {\"State\": \"North Dakota\", \"Decade\": 1890, \"AverageTemp_F\": 38.356415, \"Region\": \"Midwest\"}, {\"State\": \"North Dakota\", \"Decade\": 1900, \"AverageTemp_F\": 39.29003, \"Region\": \"Midwest\"}, {\"State\": \"North Dakota\", \"Decade\": 1910, \"AverageTemp_F\": 38.98037, \"Region\": \"Midwest\"}, {\"State\": \"North Dakota\", \"Decade\": 1920, \"AverageTemp_F\": 39.849320000000006, \"Region\": \"Midwest\"}, {\"State\": \"North Dakota\", \"Decade\": 1930, \"AverageTemp_F\": 40.990175, \"Region\": \"Midwest\"}, {\"State\": \"North Dakota\", \"Decade\": 1940, \"AverageTemp_F\": 40.403765, \"Region\": \"Midwest\"}, {\"State\": \"North Dakota\", \"Decade\": 1950, \"AverageTemp_F\": 39.798379999999995, \"Region\": \"Midwest\"}, {\"State\": \"North Dakota\", \"Decade\": 1960, \"AverageTemp_F\": 40.038005, \"Region\": \"Midwest\"}, {\"State\": \"North Dakota\", \"Decade\": 1970, \"AverageTemp_F\": 39.81566, \"Region\": \"Midwest\"}, {\"State\": \"North Dakota\", \"Decade\": 1980, \"AverageTemp_F\": 41.53616, \"Region\": \"Midwest\"}, {\"State\": \"North Dakota\", \"Decade\": 1990, \"AverageTemp_F\": 41.25539, \"Region\": \"Midwest\"}, {\"State\": \"North Dakota\", \"Decade\": 2000, \"AverageTemp_F\": 41.775695000000006, \"Region\": \"Midwest\"}, {\"State\": \"North Dakota\", \"Decade\": 2010, \"AverageTemp_F\": 42.886, \"Region\": \"Midwest\"}, {\"State\": \"Ohio\", \"Decade\": 1740, \"AverageTemp_F\": 47.403984615384616, \"Region\": \"Midwest\"}, {\"State\": \"Ohio\", \"Decade\": 1750, \"AverageTemp_F\": 49.259138, \"Region\": \"Midwest\"}, {\"State\": \"Ohio\", \"Decade\": 1760, \"AverageTemp_F\": 49.48703272727273, \"Region\": \"Midwest\"}, {\"State\": \"Ohio\", \"Decade\": 1770, \"AverageTemp_F\": 49.876656310679614, \"Region\": \"Midwest\"}, {\"State\": \"Ohio\", \"Decade\": 1780, \"AverageTemp_F\": 49.961466666666674, \"Region\": \"Midwest\"}, {\"State\": \"Ohio\", \"Decade\": 1790, \"AverageTemp_F\": 50.454185, \"Region\": \"Midwest\"}, {\"State\": \"Ohio\", \"Decade\": 1800, \"AverageTemp_F\": 50.8013, \"Region\": \"Midwest\"}, {\"State\": \"Ohio\", \"Decade\": 1810, \"AverageTemp_F\": 48.775999999999996, \"Region\": \"Midwest\"}, {\"State\": \"Ohio\", \"Decade\": 1820, \"AverageTemp_F\": 50.65661, \"Region\": \"Midwest\"}, {\"State\": \"Ohio\", \"Decade\": 1830, \"AverageTemp_F\": 50.403485, \"Region\": \"Midwest\"}, {\"State\": \"Ohio\", \"Decade\": 1840, \"AverageTemp_F\": 50.893175, \"Region\": \"Midwest\"}, {\"State\": \"Ohio\", \"Decade\": 1850, \"AverageTemp_F\": 50.501315, \"Region\": \"Midwest\"}, {\"State\": \"Ohio\", \"Decade\": 1860, \"AverageTemp_F\": 49.550255, \"Region\": \"Midwest\"}, {\"State\": \"Ohio\", \"Decade\": 1870, \"AverageTemp_F\": 50.157455, \"Region\": \"Midwest\"}, {\"State\": \"Ohio\", \"Decade\": 1880, \"AverageTemp_F\": 49.785470000000004, \"Region\": \"Midwest\"}, {\"State\": \"Ohio\", \"Decade\": 1890, \"AverageTemp_F\": 50.53943, \"Region\": \"Midwest\"}, {\"State\": \"Ohio\", \"Decade\": 1900, \"AverageTemp_F\": 50.067695, \"Region\": \"Midwest\"}, {\"State\": \"Ohio\", \"Decade\": 1910, \"AverageTemp_F\": 50.34791, \"Region\": \"Midwest\"}, {\"State\": \"Ohio\", \"Decade\": 1920, \"AverageTemp_F\": 50.663285, \"Region\": \"Midwest\"}, {\"State\": \"Ohio\", \"Decade\": 1930, \"AverageTemp_F\": 51.76976, \"Region\": \"Midwest\"}, {\"State\": \"Ohio\", \"Decade\": 1940, \"AverageTemp_F\": 51.265385, \"Region\": \"Midwest\"}, {\"State\": \"Ohio\", \"Decade\": 1950, \"AverageTemp_F\": 51.513815, \"Region\": \"Midwest\"}, {\"State\": \"Ohio\", \"Decade\": 1960, \"AverageTemp_F\": 50.50064, \"Region\": \"Midwest\"}, {\"State\": \"Ohio\", \"Decade\": 1970, \"AverageTemp_F\": 50.902055000000004, \"Region\": \"Midwest\"}, {\"State\": \"Ohio\", \"Decade\": 1980, \"AverageTemp_F\": 51.249469999999995, \"Region\": \"Midwest\"}, {\"State\": \"Ohio\", \"Decade\": 1990, \"AverageTemp_F\": 52.028164999999994, \"Region\": \"Midwest\"}, {\"State\": \"Ohio\", \"Decade\": 2000, \"AverageTemp_F\": 52.278935000000004, \"Region\": \"Midwest\"}, {\"State\": \"Ohio\", \"Decade\": 2010, \"AverageTemp_F\": 53.685039999999994, \"Region\": \"Midwest\"}, {\"State\": \"Oklahoma\", \"Decade\": 1770, \"AverageTemp_F\": 64.14422857142857, \"Region\": \"South\"}, {\"State\": \"Oklahoma\", \"Decade\": 1820, \"AverageTemp_F\": 59.20436, \"Region\": \"South\"}, {\"State\": \"Oklahoma\", \"Decade\": 1830, \"AverageTemp_F\": 58.721689999999995, \"Region\": \"South\"}, {\"State\": \"Oklahoma\", \"Decade\": 1840, \"AverageTemp_F\": 58.81952, \"Region\": \"South\"}, {\"State\": \"Oklahoma\", \"Decade\": 1850, \"AverageTemp_F\": 58.851695, \"Region\": \"South\"}, {\"State\": \"Oklahoma\", \"Decade\": 1860, \"AverageTemp_F\": 59.294315, \"Region\": \"South\"}, {\"State\": \"Oklahoma\", \"Decade\": 1870, \"AverageTemp_F\": 58.97732, \"Region\": \"South\"}, {\"State\": \"Oklahoma\", \"Decade\": 1880, \"AverageTemp_F\": 58.654895, \"Region\": \"South\"}, {\"State\": \"Oklahoma\", \"Decade\": 1890, \"AverageTemp_F\": 58.936835, \"Region\": \"South\"}, {\"State\": \"Oklahoma\", \"Decade\": 1900, \"AverageTemp_F\": 59.251504999999995, \"Region\": \"South\"}, {\"State\": \"Oklahoma\", \"Decade\": 1910, \"AverageTemp_F\": 59.334305, \"Region\": \"South\"}, {\"State\": \"Oklahoma\", \"Decade\": 1920, \"AverageTemp_F\": 59.817890000000006, \"Region\": \"South\"}, {\"State\": \"Oklahoma\", \"Decade\": 1930, \"AverageTemp_F\": 60.871325, \"Region\": \"South\"}, {\"State\": \"Oklahoma\", \"Decade\": 1940, \"AverageTemp_F\": 59.83424, \"Region\": \"South\"}, {\"State\": \"Oklahoma\", \"Decade\": 1950, \"AverageTemp_F\": 60.51209000000001, \"Region\": \"South\"}, {\"State\": \"Oklahoma\", \"Decade\": 1960, \"AverageTemp_F\": 59.8232, \"Region\": \"South\"}, {\"State\": \"Oklahoma\", \"Decade\": 1970, \"AverageTemp_F\": 59.69015, \"Region\": \"South\"}, {\"State\": \"Oklahoma\", \"Decade\": 1980, \"AverageTemp_F\": 60.044914999999996, \"Region\": \"South\"}, {\"State\": \"Oklahoma\", \"Decade\": 1990, \"AverageTemp_F\": 60.58634, \"Region\": \"South\"}, {\"State\": \"Oklahoma\", \"Decade\": 2000, \"AverageTemp_F\": 60.94025, \"Region\": \"South\"}, {\"State\": \"Oklahoma\", \"Decade\": 2010, \"AverageTemp_F\": 62.62552, \"Region\": \"South\"}, {\"State\": \"Oregon\", \"Decade\": 1820, \"AverageTemp_F\": 45.68351818181819, \"Region\": \"West\"}, {\"State\": \"Oregon\", \"Decade\": 1830, \"AverageTemp_F\": 44.71227252747253, \"Region\": \"West\"}, {\"State\": \"Oregon\", \"Decade\": 1840, \"AverageTemp_F\": 45.70852307692307, \"Region\": \"West\"}, {\"State\": \"Oregon\", \"Decade\": 1850, \"AverageTemp_F\": 46.264055, \"Region\": \"West\"}, {\"State\": \"Oregon\", \"Decade\": 1860, \"AverageTemp_F\": 46.659935000000004, \"Region\": \"West\"}, {\"State\": \"Oregon\", \"Decade\": 1870, \"AverageTemp_F\": 46.852070000000005, \"Region\": \"West\"}, {\"State\": \"Oregon\", \"Decade\": 1880, \"AverageTemp_F\": 46.430749999999996, \"Region\": \"West\"}, {\"State\": \"Oregon\", \"Decade\": 1890, \"AverageTemp_F\": 45.903965, \"Region\": \"West\"}, {\"State\": \"Oregon\", \"Decade\": 1900, \"AverageTemp_F\": 46.662545, \"Region\": \"West\"}, {\"State\": \"Oregon\", \"Decade\": 1910, \"AverageTemp_F\": 46.118225, \"Region\": \"West\"}, {\"State\": \"Oregon\", \"Decade\": 1920, \"AverageTemp_F\": 46.608185000000006, \"Region\": \"West\"}, {\"State\": \"Oregon\", \"Decade\": 1930, \"AverageTemp_F\": 47.167024999999995, \"Region\": \"West\"}, {\"State\": \"Oregon\", \"Decade\": 1940, \"AverageTemp_F\": 46.930730000000004, \"Region\": \"West\"}, {\"State\": \"Oregon\", \"Decade\": 1950, \"AverageTemp_F\": 46.79696, \"Region\": \"West\"}, {\"State\": \"Oregon\", \"Decade\": 1960, \"AverageTemp_F\": 47.13023, \"Region\": \"West\"}, {\"State\": \"Oregon\", \"Decade\": 1970, \"AverageTemp_F\": 46.84295, \"Region\": \"West\"}, {\"State\": \"Oregon\", \"Decade\": 1980, \"AverageTemp_F\": 47.06243, \"Region\": \"West\"}, {\"State\": \"Oregon\", \"Decade\": 1990, \"AverageTemp_F\": 47.75042, \"Region\": \"West\"}, {\"State\": \"Oregon\", \"Decade\": 2000, \"AverageTemp_F\": 47.9816, \"Region\": \"West\"}, {\"State\": \"Oregon\", \"Decade\": 2010, \"AverageTemp_F\": 48.202360000000006, \"Region\": \"West\"}, {\"State\": \"Pennsylvania\", \"Decade\": 1740, \"AverageTemp_F\": 45.27264615384615, \"Region\": \"Northeast\"}, {\"State\": \"Pennsylvania\", \"Decade\": 1750, \"AverageTemp_F\": 47.057144, \"Region\": \"Northeast\"}, {\"State\": \"Pennsylvania\", \"Decade\": 1760, \"AverageTemp_F\": 47.37057636363636, \"Region\": \"Northeast\"}, {\"State\": \"Pennsylvania\", \"Decade\": 1770, \"AverageTemp_F\": 47.73208737864078, \"Region\": \"Northeast\"}, {\"State\": \"Pennsylvania\", \"Decade\": 1780, \"AverageTemp_F\": 47.68611666666666, \"Region\": \"Northeast\"}, {\"State\": \"Pennsylvania\", \"Decade\": 1790, \"AverageTemp_F\": 48.13847, \"Region\": \"Northeast\"}, {\"State\": \"Pennsylvania\", \"Decade\": 1800, \"AverageTemp_F\": 48.671479999999995, \"Region\": \"Northeast\"}, {\"State\": \"Pennsylvania\", \"Decade\": 1810, \"AverageTemp_F\": 46.61186, \"Region\": \"Northeast\"}, {\"State\": \"Pennsylvania\", \"Decade\": 1820, \"AverageTemp_F\": 48.4352, \"Region\": \"Northeast\"}, {\"State\": \"Pennsylvania\", \"Decade\": 1830, \"AverageTemp_F\": 47.660525, \"Region\": \"Northeast\"}, {\"State\": \"Pennsylvania\", \"Decade\": 1840, \"AverageTemp_F\": 48.108140000000006, \"Region\": \"Northeast\"}, {\"State\": \"Pennsylvania\", \"Decade\": 1850, \"AverageTemp_F\": 47.878295, \"Region\": \"Northeast\"}, {\"State\": \"Pennsylvania\", \"Decade\": 1860, \"AverageTemp_F\": 47.43629, \"Region\": \"Northeast\"}, {\"State\": \"Pennsylvania\", \"Decade\": 1870, \"AverageTemp_F\": 47.874095000000004, \"Region\": \"Northeast\"}, {\"State\": \"Pennsylvania\", \"Decade\": 1880, \"AverageTemp_F\": 47.788265, \"Region\": \"Northeast\"}, {\"State\": \"Pennsylvania\", \"Decade\": 1890, \"AverageTemp_F\": 48.43034, \"Region\": \"Northeast\"}, {\"State\": \"Pennsylvania\", \"Decade\": 1900, \"AverageTemp_F\": 48.001189999999994, \"Region\": \"Northeast\"}, {\"State\": \"Pennsylvania\", \"Decade\": 1910, \"AverageTemp_F\": 48.341375, \"Region\": \"Northeast\"}, {\"State\": \"Pennsylvania\", \"Decade\": 1920, \"AverageTemp_F\": 48.472895, \"Region\": \"Northeast\"}, {\"State\": \"Pennsylvania\", \"Decade\": 1930, \"AverageTemp_F\": 49.46819, \"Region\": \"Northeast\"}, {\"State\": \"Pennsylvania\", \"Decade\": 1940, \"AverageTemp_F\": 49.194215, \"Region\": \"Northeast\"}, {\"State\": \"Pennsylvania\", \"Decade\": 1950, \"AverageTemp_F\": 49.51262, \"Region\": \"Northeast\"}, {\"State\": \"Pennsylvania\", \"Decade\": 1960, \"AverageTemp_F\": 48.489754999999995, \"Region\": \"Northeast\"}, {\"State\": \"Pennsylvania\", \"Decade\": 1970, \"AverageTemp_F\": 48.98885, \"Region\": \"Northeast\"}, {\"State\": \"Pennsylvania\", \"Decade\": 1980, \"AverageTemp_F\": 49.25951, \"Region\": \"Northeast\"}, {\"State\": \"Pennsylvania\", \"Decade\": 1990, \"AverageTemp_F\": 50.062760000000004, \"Region\": \"Northeast\"}, {\"State\": \"Pennsylvania\", \"Decade\": 2000, \"AverageTemp_F\": 50.23289, \"Region\": \"Northeast\"}, {\"State\": \"Pennsylvania\", \"Decade\": 2010, \"AverageTemp_F\": 51.89472, \"Region\": \"Northeast\"}, {\"State\": \"Rhode Island\", \"Decade\": 1740, \"AverageTemp_F\": 45.08046153846154, \"Region\": \"Northeast\"}, {\"State\": \"Rhode Island\", \"Decade\": 1750, \"AverageTemp_F\": 46.859035999999996, \"Region\": \"Northeast\"}, {\"State\": \"Rhode Island\", \"Decade\": 1760, \"AverageTemp_F\": 47.26923636363637, \"Region\": \"Northeast\"}, {\"State\": \"Rhode Island\", \"Decade\": 1770, \"AverageTemp_F\": 47.55271650485437, \"Region\": \"Northeast\"}, {\"State\": \"Rhode Island\", \"Decade\": 1780, \"AverageTemp_F\": 47.36955, \"Region\": \"Northeast\"}, {\"State\": \"Rhode Island\", \"Decade\": 1790, \"AverageTemp_F\": 47.724934999999995, \"Region\": \"Northeast\"}, {\"State\": \"Rhode Island\", \"Decade\": 1800, \"AverageTemp_F\": 48.471635, \"Region\": \"Northeast\"}, {\"State\": \"Rhode Island\", \"Decade\": 1810, \"AverageTemp_F\": 46.367435, \"Region\": \"Northeast\"}, {\"State\": \"Rhode Island\", \"Decade\": 1820, \"AverageTemp_F\": 47.905625, \"Region\": \"Northeast\"}, {\"State\": \"Rhode Island\", \"Decade\": 1830, \"AverageTemp_F\": 46.799060000000004, \"Region\": \"Northeast\"}, {\"State\": \"Rhode Island\", \"Decade\": 1840, \"AverageTemp_F\": 47.401849999999996, \"Region\": \"Northeast\"}, {\"State\": \"Rhode Island\", \"Decade\": 1850, \"AverageTemp_F\": 47.067905, \"Region\": \"Northeast\"}, {\"State\": \"Rhode Island\", \"Decade\": 1860, \"AverageTemp_F\": 47.23001, \"Region\": \"Northeast\"}, {\"State\": \"Rhode Island\", \"Decade\": 1870, \"AverageTemp_F\": 47.298215, \"Region\": \"Northeast\"}, {\"State\": \"Rhode Island\", \"Decade\": 1880, \"AverageTemp_F\": 47.396555000000006, \"Region\": \"Northeast\"}, {\"State\": \"Rhode Island\", \"Decade\": 1890, \"AverageTemp_F\": 48.234665, \"Region\": \"Northeast\"}, {\"State\": \"Rhode Island\", \"Decade\": 1900, \"AverageTemp_F\": 47.85626, \"Region\": \"Northeast\"}, {\"State\": \"Rhode Island\", \"Decade\": 1910, \"AverageTemp_F\": 48.223415, \"Region\": \"Northeast\"}, {\"State\": \"Rhode Island\", \"Decade\": 1920, \"AverageTemp_F\": 48.40886, \"Region\": \"Northeast\"}, {\"State\": \"Rhode Island\", \"Decade\": 1930, \"AverageTemp_F\": 49.22174, \"Region\": \"Northeast\"}, {\"State\": \"Rhode Island\", \"Decade\": 1940, \"AverageTemp_F\": 49.088105000000006, \"Region\": \"Northeast\"}, {\"State\": \"Rhode Island\", \"Decade\": 1950, \"AverageTemp_F\": 49.604915, \"Region\": \"Northeast\"}, {\"State\": \"Rhode Island\", \"Decade\": 1960, \"AverageTemp_F\": 48.53693, \"Region\": \"Northeast\"}, {\"State\": \"Rhode Island\", \"Decade\": 1970, \"AverageTemp_F\": 49.081865, \"Region\": \"Northeast\"}, {\"State\": \"Rhode Island\", \"Decade\": 1980, \"AverageTemp_F\": 49.155245, \"Region\": \"Northeast\"}, {\"State\": \"Rhode Island\", \"Decade\": 1990, \"AverageTemp_F\": 50.020955, \"Region\": \"Northeast\"}, {\"State\": \"Rhode Island\", \"Decade\": 2000, \"AverageTemp_F\": 50.157664999999994, \"Region\": \"Northeast\"}, {\"State\": \"Rhode Island\", \"Decade\": 2010, \"AverageTemp_F\": 52.19788, \"Region\": \"Northeast\"}, {\"State\": \"South Carolina\", \"Decade\": 1740, \"AverageTemp_F\": 59.93489230769231, \"Region\": \"South\"}, {\"State\": \"South Carolina\", \"Decade\": 1750, \"AverageTemp_F\": 61.573946, \"Region\": \"South\"}, {\"State\": \"South Carolina\", \"Decade\": 1760, \"AverageTemp_F\": 61.71615090909091, \"Region\": \"South\"}, {\"State\": \"South Carolina\", \"Decade\": 1770, \"AverageTemp_F\": 62.172840776699026, \"Region\": \"South\"}, {\"State\": \"South Carolina\", \"Decade\": 1780, \"AverageTemp_F\": 62.08155, \"Region\": \"South\"}, {\"State\": \"South Carolina\", \"Decade\": 1790, \"AverageTemp_F\": 62.605805000000004, \"Region\": \"South\"}, {\"State\": \"South Carolina\", \"Decade\": 1800, \"AverageTemp_F\": 62.825285, \"Region\": \"South\"}, {\"State\": \"South Carolina\", \"Decade\": 1810, \"AverageTemp_F\": 60.83318, \"Region\": \"South\"}, {\"State\": \"South Carolina\", \"Decade\": 1820, \"AverageTemp_F\": 63.027845, \"Region\": \"South\"}, {\"State\": \"South Carolina\", \"Decade\": 1830, \"AverageTemp_F\": 63.13415, \"Region\": \"South\"}, {\"State\": \"South Carolina\", \"Decade\": 1840, \"AverageTemp_F\": 62.404115000000004, \"Region\": \"South\"}, {\"State\": \"South Carolina\", \"Decade\": 1850, \"AverageTemp_F\": 62.474255, \"Region\": \"South\"}, {\"State\": \"South Carolina\", \"Decade\": 1860, \"AverageTemp_F\": 62.564255, \"Region\": \"South\"}, {\"State\": \"South Carolina\", \"Decade\": 1870, \"AverageTemp_F\": 62.24042, \"Region\": \"South\"}, {\"State\": \"South Carolina\", \"Decade\": 1880, \"AverageTemp_F\": 62.374895, \"Region\": \"South\"}, {\"State\": \"South Carolina\", \"Decade\": 1890, \"AverageTemp_F\": 62.445365, \"Region\": \"South\"}, {\"State\": \"South Carolina\", \"Decade\": 1900, \"AverageTemp_F\": 62.027945, \"Region\": \"South\"}, {\"State\": \"South Carolina\", \"Decade\": 1910, \"AverageTemp_F\": 62.55941, \"Region\": \"South\"}, {\"State\": \"South Carolina\", \"Decade\": 1920, \"AverageTemp_F\": 63.03986, \"Region\": \"South\"}, {\"State\": \"South Carolina\", \"Decade\": 1930, \"AverageTemp_F\": 63.600080000000005, \"Region\": \"South\"}, {\"State\": \"South Carolina\", \"Decade\": 1940, \"AverageTemp_F\": 63.17729, \"Region\": \"South\"}, {\"State\": \"South Carolina\", \"Decade\": 1950, \"AverageTemp_F\": 63.400115, \"Region\": \"South\"}, {\"State\": \"South Carolina\", \"Decade\": 1960, \"AverageTemp_F\": 62.126375, \"Region\": \"South\"}, {\"State\": \"South Carolina\", \"Decade\": 1970, \"AverageTemp_F\": 62.9669, \"Region\": \"South\"}, {\"State\": \"South Carolina\", \"Decade\": 1980, \"AverageTemp_F\": 63.04679, \"Region\": \"South\"}, {\"State\": \"South Carolina\", \"Decade\": 1990, \"AverageTemp_F\": 63.90284, \"Region\": \"South\"}, {\"State\": \"South Carolina\", \"Decade\": 2000, \"AverageTemp_F\": 64.01615, \"Region\": \"South\"}, {\"State\": \"South Carolina\", \"Decade\": 2010, \"AverageTemp_F\": 64.78664, \"Region\": \"South\"}, {\"State\": \"South Dakota\", \"Decade\": 1760, \"AverageTemp_F\": 44.97125, \"Region\": \"Midwest\"}, {\"State\": \"South Dakota\", \"Decade\": 1770, \"AverageTemp_F\": 43.10307868852459, \"Region\": \"Midwest\"}, {\"State\": \"South Dakota\", \"Decade\": 1780, \"AverageTemp_F\": 45.42752631578948, \"Region\": \"Midwest\"}, {\"State\": \"South Dakota\", \"Decade\": 1790, \"AverageTemp_F\": 46.47255384615384, \"Region\": \"Midwest\"}, {\"State\": \"South Dakota\", \"Decade\": 1810, \"AverageTemp_F\": 40.57678108108108, \"Region\": \"Midwest\"}, {\"State\": \"South Dakota\", \"Decade\": 1820, \"AverageTemp_F\": 43.88294, \"Region\": \"Midwest\"}, {\"State\": \"South Dakota\", \"Decade\": 1830, \"AverageTemp_F\": 43.904585, \"Region\": \"Midwest\"}, {\"State\": \"South Dakota\", \"Decade\": 1840, \"AverageTemp_F\": 43.70375, \"Region\": \"Midwest\"}, {\"State\": \"South Dakota\", \"Decade\": 1850, \"AverageTemp_F\": 43.88117, \"Region\": \"Midwest\"}, {\"State\": \"South Dakota\", \"Decade\": 1860, \"AverageTemp_F\": 43.262179999999994, \"Region\": \"Midwest\"}, {\"State\": \"South Dakota\", \"Decade\": 1870, \"AverageTemp_F\": 43.669250000000005, \"Region\": \"Midwest\"}, {\"State\": \"South Dakota\", \"Decade\": 1880, \"AverageTemp_F\": 43.02707, \"Region\": \"Midwest\"}, {\"State\": \"South Dakota\", \"Decade\": 1890, \"AverageTemp_F\": 43.607015000000004, \"Region\": \"Midwest\"}, {\"State\": \"South Dakota\", \"Decade\": 1900, \"AverageTemp_F\": 44.35427, \"Region\": \"Midwest\"}, {\"State\": \"South Dakota\", \"Decade\": 1910, \"AverageTemp_F\": 44.057480000000005, \"Region\": \"Midwest\"}, {\"State\": \"South Dakota\", \"Decade\": 1920, \"AverageTemp_F\": 44.729645, \"Region\": \"Midwest\"}, {\"State\": \"South Dakota\", \"Decade\": 1930, \"AverageTemp_F\": 46.216519999999996, \"Region\": \"Midwest\"}, {\"State\": \"South Dakota\", \"Decade\": 1940, \"AverageTemp_F\": 45.373055, \"Region\": \"Midwest\"}, {\"State\": \"South Dakota\", \"Decade\": 1950, \"AverageTemp_F\": 44.91104, \"Region\": \"Midwest\"}, {\"State\": \"South Dakota\", \"Decade\": 1960, \"AverageTemp_F\": 45.033905000000004, \"Region\": \"Midwest\"}, {\"State\": \"South Dakota\", \"Decade\": 1970, \"AverageTemp_F\": 44.871845, \"Region\": \"Midwest\"}, {\"State\": \"South Dakota\", \"Decade\": 1980, \"AverageTemp_F\": 46.09058, \"Region\": \"Midwest\"}, {\"State\": \"South Dakota\", \"Decade\": 1990, \"AverageTemp_F\": 45.919954999999995, \"Region\": \"Midwest\"}, {\"State\": \"South Dakota\", \"Decade\": 2000, \"AverageTemp_F\": 46.69325, \"Region\": \"Midwest\"}, {\"State\": \"South Dakota\", \"Decade\": 2010, \"AverageTemp_F\": 47.544920000000005, \"Region\": \"Midwest\"}, {\"State\": \"Tennessee\", \"Decade\": 1740, \"AverageTemp_F\": 54.344646153846156, \"Region\": \"South\"}, {\"State\": \"Tennessee\", \"Decade\": 1750, \"AverageTemp_F\": 56.137082, \"Region\": \"South\"}, {\"State\": \"Tennessee\", \"Decade\": 1760, \"AverageTemp_F\": 56.26635636363637, \"Region\": \"South\"}, {\"State\": \"Tennessee\", \"Decade\": 1770, \"AverageTemp_F\": 56.69890097087379, \"Region\": \"South\"}, {\"State\": \"Tennessee\", \"Decade\": 1780, \"AverageTemp_F\": 56.772083333333335, \"Region\": \"South\"}, {\"State\": \"Tennessee\", \"Decade\": 1790, \"AverageTemp_F\": 57.302839999999996, \"Region\": \"South\"}, {\"State\": \"Tennessee\", \"Decade\": 1800, \"AverageTemp_F\": 57.46568, \"Region\": \"South\"}, {\"State\": \"Tennessee\", \"Decade\": 1810, \"AverageTemp_F\": 55.47848, \"Region\": \"South\"}, {\"State\": \"Tennessee\", \"Decade\": 1820, \"AverageTemp_F\": 57.47972, \"Region\": \"South\"}, {\"State\": \"Tennessee\", \"Decade\": 1830, \"AverageTemp_F\": 57.322025000000004, \"Region\": \"South\"}, {\"State\": \"Tennessee\", \"Decade\": 1840, \"AverageTemp_F\": 57.34079, \"Region\": \"South\"}, {\"State\": \"Tennessee\", \"Decade\": 1850, \"AverageTemp_F\": 57.005615, \"Region\": \"South\"}, {\"State\": \"Tennessee\", \"Decade\": 1860, \"AverageTemp_F\": 56.696524999999994, \"Region\": \"South\"}, {\"State\": \"Tennessee\", \"Decade\": 1870, \"AverageTemp_F\": 56.924765, \"Region\": \"South\"}, {\"State\": \"Tennessee\", \"Decade\": 1880, \"AverageTemp_F\": 56.962565000000005, \"Region\": \"South\"}, {\"State\": \"Tennessee\", \"Decade\": 1890, \"AverageTemp_F\": 57.00653, \"Region\": \"South\"}, {\"State\": \"Tennessee\", \"Decade\": 1900, \"AverageTemp_F\": 56.916365000000006, \"Region\": \"South\"}, {\"State\": \"Tennessee\", \"Decade\": 1910, \"AverageTemp_F\": 57.254645, \"Region\": \"South\"}, {\"State\": \"Tennessee\", \"Decade\": 1920, \"AverageTemp_F\": 57.75671, \"Region\": \"South\"}, {\"State\": \"Tennessee\", \"Decade\": 1930, \"AverageTemp_F\": 58.391600000000004, \"Region\": \"South\"}, {\"State\": \"Tennessee\", \"Decade\": 1940, \"AverageTemp_F\": 57.811564999999995, \"Region\": \"South\"}, {\"State\": \"Tennessee\", \"Decade\": 1950, \"AverageTemp_F\": 58.209575, \"Region\": \"South\"}, {\"State\": \"Tennessee\", \"Decade\": 1960, \"AverageTemp_F\": 57.01877, \"Region\": \"South\"}, {\"State\": \"Tennessee\", \"Decade\": 1970, \"AverageTemp_F\": 57.44813, \"Region\": \"South\"}, {\"State\": \"Tennessee\", \"Decade\": 1980, \"AverageTemp_F\": 57.81101, \"Region\": \"South\"}, {\"State\": \"Tennessee\", \"Decade\": 1990, \"AverageTemp_F\": 58.522805, \"Region\": \"South\"}, {\"State\": \"Tennessee\", \"Decade\": 2000, \"AverageTemp_F\": 58.80629, \"Region\": \"South\"}, {\"State\": \"Tennessee\", \"Decade\": 2010, \"AverageTemp_F\": 59.777879999999996, \"Region\": \"South\"}, {\"State\": \"Texas\", \"Decade\": 1820, \"AverageTemp_F\": 64.15856, \"Region\": \"South\"}, {\"State\": \"Texas\", \"Decade\": 1830, \"AverageTemp_F\": 63.497780000000006, \"Region\": \"South\"}, {\"State\": \"Texas\", \"Decade\": 1840, \"AverageTemp_F\": 63.86879, \"Region\": \"South\"}, {\"State\": \"Texas\", \"Decade\": 1850, \"AverageTemp_F\": 63.84809, \"Region\": \"South\"}, {\"State\": \"Texas\", \"Decade\": 1860, \"AverageTemp_F\": 64.54121, \"Region\": \"South\"}, {\"State\": \"Texas\", \"Decade\": 1870, \"AverageTemp_F\": 64.31846, \"Region\": \"South\"}, {\"State\": \"Texas\", \"Decade\": 1880, \"AverageTemp_F\": 63.818645, \"Region\": \"South\"}, {\"State\": \"Texas\", \"Decade\": 1890, \"AverageTemp_F\": 64.052615, \"Region\": \"South\"}, {\"State\": \"Texas\", \"Decade\": 1900, \"AverageTemp_F\": 64.312985, \"Region\": \"South\"}, {\"State\": \"Texas\", \"Decade\": 1910, \"AverageTemp_F\": 64.270775, \"Region\": \"South\"}, {\"State\": \"Texas\", \"Decade\": 1920, \"AverageTemp_F\": 64.804025, \"Region\": \"South\"}, {\"State\": \"Texas\", \"Decade\": 1930, \"AverageTemp_F\": 65.265005, \"Region\": \"South\"}, {\"State\": \"Texas\", \"Decade\": 1940, \"AverageTemp_F\": 64.681715, \"Region\": \"South\"}, {\"State\": \"Texas\", \"Decade\": 1950, \"AverageTemp_F\": 65.467355, \"Region\": \"South\"}, {\"State\": \"Texas\", \"Decade\": 1960, \"AverageTemp_F\": 64.691855, \"Region\": \"South\"}, {\"State\": \"Texas\", \"Decade\": 1970, \"AverageTemp_F\": 64.37651, \"Region\": \"South\"}, {\"State\": \"Texas\", \"Decade\": 1980, \"AverageTemp_F\": 64.850735, \"Region\": \"South\"}, {\"State\": \"Texas\", \"Decade\": 1990, \"AverageTemp_F\": 65.54135000000001, \"Region\": \"South\"}, {\"State\": \"Texas\", \"Decade\": 2000, \"AverageTemp_F\": 65.900165, \"Region\": \"South\"}, {\"State\": \"Texas\", \"Decade\": 2010, \"AverageTemp_F\": 67.26176, \"Region\": \"South\"}, {\"State\": \"Utah\", \"Decade\": 1820, \"AverageTemp_F\": 48.78333333333334, \"Region\": \"West\"}, {\"State\": \"Utah\", \"Decade\": 1830, \"AverageTemp_F\": 45.40420439560439, \"Region\": \"West\"}, {\"State\": \"Utah\", \"Decade\": 1840, \"AverageTemp_F\": 46.21163, \"Region\": \"West\"}, {\"State\": \"Utah\", \"Decade\": 1850, \"AverageTemp_F\": 46.831055, \"Region\": \"West\"}, {\"State\": \"Utah\", \"Decade\": 1860, \"AverageTemp_F\": 47.505395, \"Region\": \"West\"}, {\"State\": \"Utah\", \"Decade\": 1870, \"AverageTemp_F\": 47.622094999999995, \"Region\": \"West\"}, {\"State\": \"Utah\", \"Decade\": 1880, \"AverageTemp_F\": 47.088935, \"Region\": \"West\"}, {\"State\": \"Utah\", \"Decade\": 1890, \"AverageTemp_F\": 46.5542, \"Region\": \"West\"}, {\"State\": \"Utah\", \"Decade\": 1900, \"AverageTemp_F\": 47.039750000000005, \"Region\": \"West\"}, {\"State\": \"Utah\", \"Decade\": 1910, \"AverageTemp_F\": 46.548485, \"Region\": \"West\"}, {\"State\": \"Utah\", \"Decade\": 1920, \"AverageTemp_F\": 46.92941, \"Region\": \"West\"}, {\"State\": \"Utah\", \"Decade\": 1930, \"AverageTemp_F\": 47.65475, \"Region\": \"West\"}, {\"State\": \"Utah\", \"Decade\": 1940, \"AverageTemp_F\": 47.302955, \"Region\": \"West\"}, {\"State\": \"Utah\", \"Decade\": 1950, \"AverageTemp_F\": 47.659909999999996, \"Region\": \"West\"}, {\"State\": \"Utah\", \"Decade\": 1960, \"AverageTemp_F\": 47.298064999999994, \"Region\": \"West\"}, {\"State\": \"Utah\", \"Decade\": 1970, \"AverageTemp_F\": 47.061965, \"Region\": \"West\"}, {\"State\": \"Utah\", \"Decade\": 1980, \"AverageTemp_F\": 47.68043, \"Region\": \"West\"}, {\"State\": \"Utah\", \"Decade\": 1990, \"AverageTemp_F\": 48.045665, \"Region\": \"West\"}, {\"State\": \"Utah\", \"Decade\": 2000, \"AverageTemp_F\": 48.776435, \"Region\": \"West\"}, {\"State\": \"Utah\", \"Decade\": 2010, \"AverageTemp_F\": 49.14948, \"Region\": \"West\"}, {\"State\": \"Vermont\", \"Decade\": 1740, \"AverageTemp_F\": 38.51461538461538, \"Region\": \"Northeast\"}, {\"State\": \"Vermont\", \"Decade\": 1750, \"AverageTemp_F\": 40.26263, \"Region\": \"Northeast\"}, {\"State\": \"Vermont\", \"Decade\": 1760, \"AverageTemp_F\": 40.70061090909091, \"Region\": \"Northeast\"}, {\"State\": \"Vermont\", \"Decade\": 1770, \"AverageTemp_F\": 40.933871844660196, \"Region\": \"Northeast\"}, {\"State\": \"Vermont\", \"Decade\": 1780, \"AverageTemp_F\": 40.98961666666667, \"Region\": \"Northeast\"}, {\"State\": \"Vermont\", \"Decade\": 1790, \"AverageTemp_F\": 41.353849999999994, \"Region\": \"Northeast\"}, {\"State\": \"Vermont\", \"Decade\": 1800, \"AverageTemp_F\": 42.01847, \"Region\": \"Northeast\"}, {\"State\": \"Vermont\", \"Decade\": 1810, \"AverageTemp_F\": 39.93391999999999, \"Region\": \"Northeast\"}, {\"State\": \"Vermont\", \"Decade\": 1820, \"AverageTemp_F\": 41.4683, \"Region\": \"Northeast\"}, {\"State\": \"Vermont\", \"Decade\": 1830, \"AverageTemp_F\": 40.291354999999996, \"Region\": \"Northeast\"}, {\"State\": \"Vermont\", \"Decade\": 1840, \"AverageTemp_F\": 40.793375, \"Region\": \"Northeast\"}, {\"State\": \"Vermont\", \"Decade\": 1850, \"AverageTemp_F\": 40.47059, \"Region\": \"Northeast\"}, {\"State\": \"Vermont\", \"Decade\": 1860, \"AverageTemp_F\": 40.77653, \"Region\": \"Northeast\"}, {\"State\": \"Vermont\", \"Decade\": 1870, \"AverageTemp_F\": 40.923455, \"Region\": \"Northeast\"}, {\"State\": \"Vermont\", \"Decade\": 1880, \"AverageTemp_F\": 40.9973, \"Region\": \"Northeast\"}, {\"State\": \"Vermont\", \"Decade\": 1890, \"AverageTemp_F\": 41.879389999999994, \"Region\": \"Northeast\"}, {\"State\": \"Vermont\", \"Decade\": 1900, \"AverageTemp_F\": 41.45252, \"Region\": \"Northeast\"}, {\"State\": \"Vermont\", \"Decade\": 1910, \"AverageTemp_F\": 41.780615, \"Region\": \"Northeast\"}, {\"State\": \"Vermont\", \"Decade\": 1920, \"AverageTemp_F\": 41.920745000000004, \"Region\": \"Northeast\"}, {\"State\": \"Vermont\", \"Decade\": 1930, \"AverageTemp_F\": 42.73454, \"Region\": \"Northeast\"}, {\"State\": \"Vermont\", \"Decade\": 1940, \"AverageTemp_F\": 42.73418, \"Region\": \"Northeast\"}, {\"State\": \"Vermont\", \"Decade\": 1950, \"AverageTemp_F\": 43.226015, \"Region\": \"Northeast\"}, {\"State\": \"Vermont\", \"Decade\": 1960, \"AverageTemp_F\": 42.328445, \"Region\": \"Northeast\"}, {\"State\": \"Vermont\", \"Decade\": 1970, \"AverageTemp_F\": 42.513095, \"Region\": \"Northeast\"}, {\"State\": \"Vermont\", \"Decade\": 1980, \"AverageTemp_F\": 42.81821, \"Region\": \"Northeast\"}, {\"State\": \"Vermont\", \"Decade\": 1990, \"AverageTemp_F\": 43.667885, \"Region\": \"Northeast\"}, {\"State\": \"Vermont\", \"Decade\": 2000, \"AverageTemp_F\": 43.810624999999995, \"Region\": \"Northeast\"}, {\"State\": \"Vermont\", \"Decade\": 2010, \"AverageTemp_F\": 46.22264, \"Region\": \"Northeast\"}, {\"State\": \"Virginia\", \"Decade\": 1740, \"AverageTemp_F\": 52.083015384615386, \"Region\": \"South\"}, {\"State\": \"Virginia\", \"Decade\": 1750, \"AverageTemp_F\": 53.832074000000006, \"Region\": \"South\"}, {\"State\": \"Virginia\", \"Decade\": 1760, \"AverageTemp_F\": 54.063990909090904, \"Region\": \"South\"}, {\"State\": \"Virginia\", \"Decade\": 1770, \"AverageTemp_F\": 54.474782524271845, \"Region\": \"South\"}, {\"State\": \"Virginia\", \"Decade\": 1780, \"AverageTemp_F\": 54.388299999999994, \"Region\": \"South\"}, {\"State\": \"Virginia\", \"Decade\": 1790, \"AverageTemp_F\": 54.885215, \"Region\": \"South\"}, {\"State\": \"Virginia\", \"Decade\": 1800, \"AverageTemp_F\": 55.266065000000005, \"Region\": \"South\"}, {\"State\": \"Virginia\", \"Decade\": 1810, \"AverageTemp_F\": 53.245025000000005, \"Region\": \"South\"}, {\"State\": \"Virginia\", \"Decade\": 1820, \"AverageTemp_F\": 55.296995, \"Region\": \"South\"}, {\"State\": \"Virginia\", \"Decade\": 1830, \"AverageTemp_F\": 54.894125, \"Region\": \"South\"}, {\"State\": \"Virginia\", \"Decade\": 1840, \"AverageTemp_F\": 54.984095, \"Region\": \"South\"}, {\"State\": \"Virginia\", \"Decade\": 1850, \"AverageTemp_F\": 54.822725, \"Region\": \"South\"}, {\"State\": \"Virginia\", \"Decade\": 1860, \"AverageTemp_F\": 54.328415, \"Region\": \"South\"}, {\"State\": \"Virginia\", \"Decade\": 1870, \"AverageTemp_F\": 54.566405, \"Region\": \"South\"}, {\"State\": \"Virginia\", \"Decade\": 1880, \"AverageTemp_F\": 54.690335, \"Region\": \"South\"}, {\"State\": \"Virginia\", \"Decade\": 1890, \"AverageTemp_F\": 54.966485, \"Region\": \"South\"}, {\"State\": \"Virginia\", \"Decade\": 1900, \"AverageTemp_F\": 54.549274999999994, \"Region\": \"South\"}, {\"State\": \"Virginia\", \"Decade\": 1910, \"AverageTemp_F\": 54.87359, \"Region\": \"South\"}, {\"State\": \"Virginia\", \"Decade\": 1920, \"AverageTemp_F\": 55.254635, \"Region\": \"South\"}, {\"State\": \"Virginia\", \"Decade\": 1930, \"AverageTemp_F\": 56.105735, \"Region\": \"South\"}, {\"State\": \"Virginia\", \"Decade\": 1940, \"AverageTemp_F\": 55.782109999999996, \"Region\": \"South\"}, {\"State\": \"Virginia\", \"Decade\": 1950, \"AverageTemp_F\": 56.02397, \"Region\": \"South\"}, {\"State\": \"Virginia\", \"Decade\": 1960, \"AverageTemp_F\": 54.749975, \"Region\": \"South\"}, {\"State\": \"Virginia\", \"Decade\": 1970, \"AverageTemp_F\": 55.45805, \"Region\": \"South\"}, {\"State\": \"Virginia\", \"Decade\": 1980, \"AverageTemp_F\": 55.53434, \"Region\": \"South\"}, {\"State\": \"Virginia\", \"Decade\": 1990, \"AverageTemp_F\": 56.493680000000005, \"Region\": \"South\"}, {\"State\": \"Virginia\", \"Decade\": 2000, \"AverageTemp_F\": 56.624405, \"Region\": \"South\"}, {\"State\": \"Virginia\", \"Decade\": 2010, \"AverageTemp_F\": 57.71028, \"Region\": \"South\"}, {\"State\": \"Washington\", \"Decade\": 1820, \"AverageTemp_F\": 44.662918181818185, \"Region\": \"West\"}, {\"State\": \"Washington\", \"Decade\": 1830, \"AverageTemp_F\": 43.83270549450549, \"Region\": \"West\"}, {\"State\": \"Washington\", \"Decade\": 1840, \"AverageTemp_F\": 44.67518461538461, \"Region\": \"West\"}, {\"State\": \"Washington\", \"Decade\": 1850, \"AverageTemp_F\": 45.276305, \"Region\": \"West\"}, {\"State\": \"Washington\", \"Decade\": 1860, \"AverageTemp_F\": 45.44042, \"Region\": \"West\"}, {\"State\": \"Washington\", \"Decade\": 1870, \"AverageTemp_F\": 45.703565000000005, \"Region\": \"West\"}, {\"State\": \"Washington\", \"Decade\": 1880, \"AverageTemp_F\": 45.18095, \"Region\": \"West\"}, {\"State\": \"Washington\", \"Decade\": 1890, \"AverageTemp_F\": 45.10313, \"Region\": \"West\"}, {\"State\": \"Washington\", \"Decade\": 1900, \"AverageTemp_F\": 45.64049, \"Region\": \"West\"}, {\"State\": \"Washington\", \"Decade\": 1910, \"AverageTemp_F\": 45.218825, \"Region\": \"West\"}, {\"State\": \"Washington\", \"Decade\": 1920, \"AverageTemp_F\": 45.78239, \"Region\": \"West\"}, {\"State\": \"Washington\", \"Decade\": 1930, \"AverageTemp_F\": 46.270205000000004, \"Region\": \"West\"}, {\"State\": \"Washington\", \"Decade\": 1940, \"AverageTemp_F\": 46.24067, \"Region\": \"West\"}, {\"State\": \"Washington\", \"Decade\": 1950, \"AverageTemp_F\": 45.661100000000005, \"Region\": \"West\"}, {\"State\": \"Washington\", \"Decade\": 1960, \"AverageTemp_F\": 46.254815, \"Region\": \"West\"}, {\"State\": \"Washington\", \"Decade\": 1970, \"AverageTemp_F\": 45.82181, \"Region\": \"West\"}, {\"State\": \"Washington\", \"Decade\": 1980, \"AverageTemp_F\": 46.272755, \"Region\": \"West\"}, {\"State\": \"Washington\", \"Decade\": 1990, \"AverageTemp_F\": 47.079950000000004, \"Region\": \"West\"}, {\"State\": \"Washington\", \"Decade\": 2000, \"AverageTemp_F\": 47.08757, \"Region\": \"West\"}, {\"State\": \"Washington\", \"Decade\": 2010, \"AverageTemp_F\": 47.584759999999996, \"Region\": \"West\"}, {\"State\": \"West Virginia\", \"Decade\": 1740, \"AverageTemp_F\": 48.69416923076923, \"Region\": \"South\"}, {\"State\": \"West Virginia\", \"Decade\": 1750, \"AverageTemp_F\": 50.459197999999994, \"Region\": \"South\"}, {\"State\": \"West Virginia\", \"Decade\": 1760, \"AverageTemp_F\": 50.69604363636364, \"Region\": \"South\"}, {\"State\": \"West Virginia\", \"Decade\": 1770, \"AverageTemp_F\": 51.09364854368932, \"Region\": \"South\"}, {\"State\": \"West Virginia\", \"Decade\": 1780, \"AverageTemp_F\": 51.061, \"Region\": \"South\"}, {\"State\": \"West Virginia\", \"Decade\": 1790, \"AverageTemp_F\": 51.556145, \"Region\": \"South\"}, {\"State\": \"West Virginia\", \"Decade\": 1800, \"AverageTemp_F\": 51.931115, \"Region\": \"South\"}, {\"State\": \"West Virginia\", \"Decade\": 1810, \"AverageTemp_F\": 49.906835, \"Region\": \"South\"}, {\"State\": \"West Virginia\", \"Decade\": 1820, \"AverageTemp_F\": 51.911404999999995, \"Region\": \"South\"}, {\"State\": \"West Virginia\", \"Decade\": 1830, \"AverageTemp_F\": 51.562955, \"Region\": \"South\"}, {\"State\": \"West Virginia\", \"Decade\": 1840, \"AverageTemp_F\": 51.891845, \"Region\": \"South\"}, {\"State\": \"West Virginia\", \"Decade\": 1850, \"AverageTemp_F\": 51.62249, \"Region\": \"South\"}, {\"State\": \"West Virginia\", \"Decade\": 1860, \"AverageTemp_F\": 50.806940000000004, \"Region\": \"South\"}, {\"State\": \"West Virginia\", \"Decade\": 1870, \"AverageTemp_F\": 51.21293, \"Region\": \"South\"}, {\"State\": \"West Virginia\", \"Decade\": 1880, \"AverageTemp_F\": 51.20411, \"Region\": \"South\"}, {\"State\": \"West Virginia\", \"Decade\": 1890, \"AverageTemp_F\": 51.676804999999995, \"Region\": \"South\"}, {\"State\": \"West Virginia\", \"Decade\": 1900, \"AverageTemp_F\": 51.22037, \"Region\": \"South\"}, {\"State\": \"West Virginia\", \"Decade\": 1910, \"AverageTemp_F\": 51.515855, \"Region\": \"South\"}, {\"State\": \"West Virginia\", \"Decade\": 1920, \"AverageTemp_F\": 51.828545, \"Region\": \"South\"}, {\"State\": \"West Virginia\", \"Decade\": 1930, \"AverageTemp_F\": 52.79807, \"Region\": \"South\"}, {\"State\": \"West Virginia\", \"Decade\": 1940, \"AverageTemp_F\": 52.437005, \"Region\": \"South\"}, {\"State\": \"West Virginia\", \"Decade\": 1950, \"AverageTemp_F\": 52.66997, \"Region\": \"South\"}, {\"State\": \"West Virginia\", \"Decade\": 1960, \"AverageTemp_F\": 51.448355, \"Region\": \"South\"}, {\"State\": \"West Virginia\", \"Decade\": 1970, \"AverageTemp_F\": 52.080155, \"Region\": \"South\"}, {\"State\": \"West Virginia\", \"Decade\": 1980, \"AverageTemp_F\": 52.270595, \"Region\": \"South\"}, {\"State\": \"West Virginia\", \"Decade\": 1990, \"AverageTemp_F\": 53.12384, \"Region\": \"South\"}, {\"State\": \"West Virginia\", \"Decade\": 2000, \"AverageTemp_F\": 53.335294999999995, \"Region\": \"South\"}, {\"State\": \"West Virginia\", \"Decade\": 2010, \"AverageTemp_F\": 54.464760000000005, \"Region\": \"South\"}, {\"State\": \"Wisconsin\", \"Decade\": 1740, \"AverageTemp_F\": 39.283353846153844, \"Region\": \"Midwest\"}, {\"State\": \"Wisconsin\", \"Decade\": 1750, \"AverageTemp_F\": 41.218033999999996, \"Region\": \"Midwest\"}, {\"State\": \"Wisconsin\", \"Decade\": 1760, \"AverageTemp_F\": 41.41697818181818, \"Region\": \"Midwest\"}, {\"State\": \"Wisconsin\", \"Decade\": 1770, \"AverageTemp_F\": 42.44406153846154, \"Region\": \"Midwest\"}, {\"State\": \"Wisconsin\", \"Decade\": 1780, \"AverageTemp_F\": 42.65756724137931, \"Region\": \"Midwest\"}, {\"State\": \"Wisconsin\", \"Decade\": 1790, \"AverageTemp_F\": 42.7055, \"Region\": \"Midwest\"}, {\"State\": \"Wisconsin\", \"Decade\": 1800, \"AverageTemp_F\": 42.870905, \"Region\": \"Midwest\"}, {\"State\": \"Wisconsin\", \"Decade\": 1810, \"AverageTemp_F\": 40.866260000000004, \"Region\": \"Midwest\"}, {\"State\": \"Wisconsin\", \"Decade\": 1820, \"AverageTemp_F\": 42.286925000000004, \"Region\": \"Midwest\"}, {\"State\": \"Wisconsin\", \"Decade\": 1830, \"AverageTemp_F\": 42.40811, \"Region\": \"Midwest\"}, {\"State\": \"Wisconsin\", \"Decade\": 1840, \"AverageTemp_F\": 42.314045, \"Region\": \"Midwest\"}, {\"State\": \"Wisconsin\", \"Decade\": 1850, \"AverageTemp_F\": 42.173585, \"Region\": \"Midwest\"}, {\"State\": \"Wisconsin\", \"Decade\": 1860, \"AverageTemp_F\": 41.132015, \"Region\": \"Midwest\"}, {\"State\": \"Wisconsin\", \"Decade\": 1870, \"AverageTemp_F\": 42.113944999999994, \"Region\": \"Midwest\"}, {\"State\": \"Wisconsin\", \"Decade\": 1880, \"AverageTemp_F\": 41.328995, \"Region\": \"Midwest\"}, {\"State\": \"Wisconsin\", \"Decade\": 1890, \"AverageTemp_F\": 42.393080000000005, \"Region\": \"Midwest\"}, {\"State\": \"Wisconsin\", \"Decade\": 1900, \"AverageTemp_F\": 42.539165000000004, \"Region\": \"Midwest\"}, {\"State\": \"Wisconsin\", \"Decade\": 1910, \"AverageTemp_F\": 42.54356, \"Region\": \"Midwest\"}, {\"State\": \"Wisconsin\", \"Decade\": 1920, \"AverageTemp_F\": 42.815270000000005, \"Region\": \"Midwest\"}, {\"State\": \"Wisconsin\", \"Decade\": 1930, \"AverageTemp_F\": 44.13551, \"Region\": \"Midwest\"}, {\"State\": \"Wisconsin\", \"Decade\": 1940, \"AverageTemp_F\": 43.810055000000006, \"Region\": \"Midwest\"}, {\"State\": \"Wisconsin\", \"Decade\": 1950, \"AverageTemp_F\": 43.317485000000005, \"Region\": \"Midwest\"}, {\"State\": \"Wisconsin\", \"Decade\": 1960, \"AverageTemp_F\": 43.221395, \"Region\": \"Midwest\"}, {\"State\": \"Wisconsin\", \"Decade\": 1970, \"AverageTemp_F\": 43.05425, \"Region\": \"Midwest\"}, {\"State\": \"Wisconsin\", \"Decade\": 1980, \"AverageTemp_F\": 44.01734, \"Region\": \"Midwest\"}, {\"State\": \"Wisconsin\", \"Decade\": 1990, \"AverageTemp_F\": 44.32271, \"Region\": \"Midwest\"}, {\"State\": \"Wisconsin\", \"Decade\": 2000, \"AverageTemp_F\": 44.804089999999995, \"Region\": \"Midwest\"}, {\"State\": \"Wisconsin\", \"Decade\": 2010, \"AverageTemp_F\": 46.44012000000001, \"Region\": \"Midwest\"}, {\"State\": \"Wyoming\", \"Decade\": 1770, \"AverageTemp_F\": 45.48873714285715, \"Region\": \"West\"}, {\"State\": \"Wyoming\", \"Decade\": 1780, \"AverageTemp_F\": 41.85964210526316, \"Region\": \"West\"}, {\"State\": \"Wyoming\", \"Decade\": 1790, \"AverageTemp_F\": 42.78656923076923, \"Region\": \"West\"}, {\"State\": \"Wyoming\", \"Decade\": 1810, \"AverageTemp_F\": 36.7466, \"Region\": \"West\"}, {\"State\": \"Wyoming\", \"Decade\": 1820, \"AverageTemp_F\": 40.414835000000004, \"Region\": \"West\"}, {\"State\": \"Wyoming\", \"Decade\": 1830, \"AverageTemp_F\": 40.353225210084034, \"Region\": \"West\"}, {\"State\": \"Wyoming\", \"Decade\": 1840, \"AverageTemp_F\": 40.104155, \"Region\": \"West\"}, {\"State\": \"Wyoming\", \"Decade\": 1850, \"AverageTemp_F\": 40.58099, \"Region\": \"West\"}, {\"State\": \"Wyoming\", \"Decade\": 1860, \"AverageTemp_F\": 40.763389999999994, \"Region\": \"West\"}, {\"State\": \"Wyoming\", \"Decade\": 1870, \"AverageTemp_F\": 41.036989999999996, \"Region\": \"West\"}, {\"State\": \"Wyoming\", \"Decade\": 1880, \"AverageTemp_F\": 40.65101, \"Region\": \"West\"}, {\"State\": \"Wyoming\", \"Decade\": 1890, \"AverageTemp_F\": 40.163869999999996, \"Region\": \"West\"}, {\"State\": \"Wyoming\", \"Decade\": 1900, \"AverageTemp_F\": 41.016275, \"Region\": \"West\"}, {\"State\": \"Wyoming\", \"Decade\": 1910, \"AverageTemp_F\": 40.398215, \"Region\": \"West\"}, {\"State\": \"Wyoming\", \"Decade\": 1920, \"AverageTemp_F\": 40.740379999999995, \"Region\": \"West\"}, {\"State\": \"Wyoming\", \"Decade\": 1930, \"AverageTemp_F\": 42.08723, \"Region\": \"West\"}, {\"State\": \"Wyoming\", \"Decade\": 1940, \"AverageTemp_F\": 41.426765, \"Region\": \"West\"}, {\"State\": \"Wyoming\", \"Decade\": 1950, \"AverageTemp_F\": 41.532695, \"Region\": \"West\"}, {\"State\": \"Wyoming\", \"Decade\": 1960, \"AverageTemp_F\": 41.540555000000005, \"Region\": \"West\"}, {\"State\": \"Wyoming\", \"Decade\": 1970, \"AverageTemp_F\": 41.074715, \"Region\": \"West\"}, {\"State\": \"Wyoming\", \"Decade\": 1980, \"AverageTemp_F\": 41.886275, \"Region\": \"West\"}, {\"State\": \"Wyoming\", \"Decade\": 1990, \"AverageTemp_F\": 42.104479999999995, \"Region\": \"West\"}, {\"State\": \"Wyoming\", \"Decade\": 2000, \"AverageTemp_F\": 42.750964999999994, \"Region\": \"West\"}, {\"State\": \"Wyoming\", \"Decade\": 2010, \"AverageTemp_F\": 43.71472, \"Region\": \"West\"}], \"empty\": [{}], \"data-5d91d05715aaca8b783514a8c832507c\": [{\"Decade\": 1810}]}}, {\"mode\": \"vega-lite\"});\n",
       "</script>"
      ],
      "text/plain": [
       "alt.LayerChart(...)"
      ]
     },
     "execution_count": 13,
     "metadata": {},
     "output_type": "execute_result"
    }
   ],
   "source": [
    "state_map = alt.Chart(states).mark_line(point = True).encode(\n",
    "    x = 'Decade:O',\n",
    "    y = alt.Y('mean(AverageTemp_F):Q', scale = alt.Scale(domain = [35, 65])),\n",
    "    color = 'Region:N'\n",
    ").properties(\n",
    "    title = 'Average Temperature in the United States by Decade (1760s - 2010s)'\n",
    ")\n",
    "\n",
    "national_mean = alt.Chart(states).mark_line(color = 'black', strokeWidth=3).encode(\n",
    "    x = 'Decade:O',\n",
    "    y = alt.Y('mean(AverageTemp_F):Q', scale = alt.Scale(domain = [35, 65]))\n",
    ")\n",
    "\n",
    "national_temp = alt.Chart({'values':[{}]}).mark_text(\n",
    "    text=[\"<- National Mean Temperature\"],\n",
    "    fontSize=10,\n",
    "    align='right',\n",
    "    baseline='middle'\n",
    ").encode(\n",
    "    x=alt.value(680),\n",
    "    y=alt.value(120),\n",
    ")\n",
    "\n",
    "dotted_line = alt.Chart(pd.DataFrame({'Decade': [1810]})).mark_rule(strokeDash=[3, 3], color='red').encode(\n",
    "    x='Decade:O'\n",
    ")\n",
    "\n",
    "cold_friday = alt.Chart({'values':[{}]}).mark_text(\n",
    "    text = ['<- The Cold Winter', 'of 1810'],\n",
    "    fontSize = 10,\n",
    "    align = 'left',\n",
    "    baseline = 'middle'\n",
    ").encode(\n",
    "    x = alt.value(160),\n",
    "    y = alt.value(20)\n",
    ")\n",
    "\n",
    "state_map + national_mean + national_temp + dotted_line + cold_friday"
   ]
  },
  {
   "cell_type": "markdown",
   "metadata": {},
   "source": [
    "Now that we have a graph of the average temperature in the United States, we can see how each region of the United States compares to each other. The Northeast, West, and Midwest were generally below the national mean temperature, and the South was generally above the national mean temperature, which makes sense since the South is lower in latitude. Overall, it is pretty evident that there is an overall increase in temperature from the 1700s to the 2000s, which is evidence that global warming is slowly, but surely, happening. For each region, the differences in temperature for each decade are very nominal, usually being about a degree in Fahrenheit or less. \n",
    "\n",
    "There is a noticeable dip in average temperature in the 1810s. According to Historic Ipswich, January 19, 1810, was known as the \"Cold Friday of 1810\" because of the freezing, stark temperatures it brought. In 24 hours, temperatures fell as much as 55 degrees. Henry David Thoreau, an American naturalist and essayist, wrote\n",
    "> “Began snowing yesterday afternoon–& it is still snowing this forenoon–Mother remembers the Cold Friday–very well–She lived in the house where I was born–The people in the kitchen Jack Garrison–Ester–& a Hardy girl drew up close to the fire–but the dishes which the Hardy girl was washing froze as fast as she washed them close to the fire. They managed to keep warm in the parlor by their great fires.”\n",
    "\n",
    "Historic Ipswich also describes journals and court records that told of the dreary and frightening weather during this time: people freezing to death, building structures blown apart, trees broken down, and ships wrecked. Shockingly, several journals claimed the temperature in Boston, Massachusetts, dropped more than 100 degrees in less than 24 hours; it dropped from about 67 to -33 degrees Fahrenheit.\n",
    "\n",
    "source: https://historicipswich.net/2023/01/25/the-cold-friday-of-1810-new-england-historical-society/\n",
    "\n",
    "Unsurprisingly, the sudden drop in temperature led to physical and emotional burdens, caused by the struggle to survive in temperatures people were unaccustomed to and coping with death, especially since less doctors were available in the past. Adults, especially, had to navigate this challenge and continue to be an inspiration for their children despite never dealing with changes in temperature this extreme before."
   ]
  },
  {
   "cell_type": "markdown",
   "metadata": {},
   "source": [
    "### Temperature Trends in Canada"
   ]
  },
  {
   "cell_type": "markdown",
   "metadata": {},
   "source": [
    "We saw that Canada had a dip in temperature while the United States generally increased, which is very intriguing, considering Canada and the United States are bordering countries."
   ]
  },
  {
   "cell_type": "code",
   "execution_count": 14,
   "metadata": {},
   "outputs": [
    {
     "data": {
      "text/html": [
       "<div>\n",
       "<style scoped>\n",
       "    .dataframe tbody tr th:only-of-type {\n",
       "        vertical-align: middle;\n",
       "    }\n",
       "\n",
       "    .dataframe tbody tr th {\n",
       "        vertical-align: top;\n",
       "    }\n",
       "\n",
       "    .dataframe thead th {\n",
       "        text-align: right;\n",
       "    }\n",
       "</style>\n",
       "<table border=\"1\" class=\"dataframe\">\n",
       "  <thead>\n",
       "    <tr style=\"text-align: right;\">\n",
       "      <th></th>\n",
       "      <th>dt</th>\n",
       "      <th>AverageTemp_C</th>\n",
       "      <th>AverageTemperatureUncertainty</th>\n",
       "      <th>Country</th>\n",
       "      <th>AverageTemp_F</th>\n",
       "    </tr>\n",
       "  </thead>\n",
       "  <tbody>\n",
       "    <tr>\n",
       "      <th>97255</th>\n",
       "      <td>1768-09-01</td>\n",
       "      <td>5.257</td>\n",
       "      <td>3.107</td>\n",
       "      <td>Canada</td>\n",
       "      <td>41.4626</td>\n",
       "    </tr>\n",
       "    <tr>\n",
       "      <th>97256</th>\n",
       "      <td>1768-10-01</td>\n",
       "      <td>-3.393</td>\n",
       "      <td>2.981</td>\n",
       "      <td>Canada</td>\n",
       "      <td>25.8926</td>\n",
       "    </tr>\n",
       "    <tr>\n",
       "      <th>97257</th>\n",
       "      <td>1768-11-01</td>\n",
       "      <td>-12.829</td>\n",
       "      <td>3.967</td>\n",
       "      <td>Canada</td>\n",
       "      <td>8.9078</td>\n",
       "    </tr>\n",
       "    <tr>\n",
       "      <th>97258</th>\n",
       "      <td>1768-12-01</td>\n",
       "      <td>-20.582</td>\n",
       "      <td>4.622</td>\n",
       "      <td>Canada</td>\n",
       "      <td>-5.0476</td>\n",
       "    </tr>\n",
       "    <tr>\n",
       "      <th>97259</th>\n",
       "      <td>1769-01-01</td>\n",
       "      <td>-24.756</td>\n",
       "      <td>4.722</td>\n",
       "      <td>Canada</td>\n",
       "      <td>-12.5608</td>\n",
       "    </tr>\n",
       "  </tbody>\n",
       "</table>\n",
       "</div>"
      ],
      "text/plain": [
       "               dt  AverageTemp_C  AverageTemperatureUncertainty Country  \\\n",
       "97255  1768-09-01          5.257                          3.107  Canada   \n",
       "97256  1768-10-01         -3.393                          2.981  Canada   \n",
       "97257  1768-11-01        -12.829                          3.967  Canada   \n",
       "97258  1768-12-01        -20.582                          4.622  Canada   \n",
       "97259  1769-01-01        -24.756                          4.722  Canada   \n",
       "\n",
       "       AverageTemp_F  \n",
       "97255        41.4626  \n",
       "97256        25.8926  \n",
       "97257         8.9078  \n",
       "97258        -5.0476  \n",
       "97259       -12.5608  "
      ]
     },
     "execution_count": 14,
     "metadata": {},
     "output_type": "execute_result"
    }
   ],
   "source": [
    "canada_only = global_land_temps[global_land_temps['Country'] == 'Canada']\n",
    "canada_only.head()"
   ]
  },
  {
   "cell_type": "markdown",
   "metadata": {},
   "source": [
    "# Scratch-- delete later"
   ]
  },
  {
   "cell_type": "code",
   "execution_count": 15,
   "metadata": {},
   "outputs": [],
   "source": [
    "date = pd.to_datetime('2013-01-01')"
   ]
  },
  {
   "cell_type": "code",
   "execution_count": 16,
   "metadata": {},
   "outputs": [
    {
     "data": {
      "text/plain": [
       "-6.939400000000006"
      ]
     },
     "execution_count": 16,
     "metadata": {},
     "output_type": "execute_result"
    }
   ],
   "source": [
    "(global_land_temps[(global_land_temps['Country'] == 'Canada') & (global_land_temps['dt'] == '2013-01-01')]['AverageTemp_F'].iloc[0])"
   ]
  },
  {
   "cell_type": "code",
   "execution_count": 17,
   "metadata": {},
   "outputs": [
    {
     "data": {
      "text/plain": [
       "-6.005200000000002"
      ]
     },
     "execution_count": 17,
     "metadata": {},
     "output_type": "execute_result"
    }
   ],
   "source": [
    "global_land_temps[(global_land_temps['Country'] == 'Canada') & (global_land_temps['dt'] == '1919-01-01')]['AverageTemp_F'].iloc[0]"
   ]
  },
  {
   "cell_type": "code",
   "execution_count": 18,
   "metadata": {},
   "outputs": [
    {
     "data": {
      "text/plain": [
       "-0.9342000000000041"
      ]
     },
     "execution_count": 18,
     "metadata": {},
     "output_type": "execute_result"
    }
   ],
   "source": [
    "-6.939400000000006 - (-6.005200000000002) / 100 * 100"
   ]
  },
  {
   "cell_type": "markdown",
   "metadata": {},
   "source": [
    "# End scratch"
   ]
  },
  {
   "cell_type": "code",
   "execution_count": 19,
   "metadata": {},
   "outputs": [
    {
     "name": "stderr",
     "output_type": "stream",
     "text": [
      "/var/folders/7t/qp5nbn7s1wq8lmyvmpkcc0180000gn/T/ipykernel_92306/1917305763.py:2: SettingWithCopyWarning:\n",
      "\n",
      "\n",
      "A value is trying to be set on a copy of a slice from a DataFrame.\n",
      "Try using .loc[row_indexer,col_indexer] = value instead\n",
      "\n",
      "See the caveats in the documentation: https://pandas.pydata.org/pandas-docs/stable/user_guide/indexing.html#returning-a-view-versus-a-copy\n",
      "\n",
      "/var/folders/7t/qp5nbn7s1wq8lmyvmpkcc0180000gn/T/ipykernel_92306/1917305763.py:3: SettingWithCopyWarning:\n",
      "\n",
      "\n",
      "A value is trying to be set on a copy of a slice from a DataFrame.\n",
      "Try using .loc[row_indexer,col_indexer] = value instead\n",
      "\n",
      "See the caveats in the documentation: https://pandas.pydata.org/pandas-docs/stable/user_guide/indexing.html#returning-a-view-versus-a-copy\n",
      "\n"
     ]
    },
    {
     "data": {
      "text/html": [
       "<div>\n",
       "<style scoped>\n",
       "    .dataframe tbody tr th:only-of-type {\n",
       "        vertical-align: middle;\n",
       "    }\n",
       "\n",
       "    .dataframe tbody tr th {\n",
       "        vertical-align: top;\n",
       "    }\n",
       "\n",
       "    .dataframe thead th {\n",
       "        text-align: right;\n",
       "    }\n",
       "</style>\n",
       "<table border=\"1\" class=\"dataframe\">\n",
       "  <thead>\n",
       "    <tr style=\"text-align: right;\">\n",
       "      <th></th>\n",
       "      <th>Decade</th>\n",
       "      <th>AverageTemp_F</th>\n",
       "      <th>country</th>\n",
       "    </tr>\n",
       "  </thead>\n",
       "  <tbody>\n",
       "    <tr>\n",
       "      <th>0</th>\n",
       "      <td>1760</td>\n",
       "      <td>23.154500</td>\n",
       "      <td>Canada</td>\n",
       "    </tr>\n",
       "    <tr>\n",
       "      <th>1</th>\n",
       "      <td>1770</td>\n",
       "      <td>21.120534</td>\n",
       "      <td>Canada</td>\n",
       "    </tr>\n",
       "    <tr>\n",
       "      <th>2</th>\n",
       "      <td>1780</td>\n",
       "      <td>23.249347</td>\n",
       "      <td>Canada</td>\n",
       "    </tr>\n",
       "    <tr>\n",
       "      <th>3</th>\n",
       "      <td>1790</td>\n",
       "      <td>24.942477</td>\n",
       "      <td>Canada</td>\n",
       "    </tr>\n",
       "    <tr>\n",
       "      <th>4</th>\n",
       "      <td>1810</td>\n",
       "      <td>18.376603</td>\n",
       "      <td>Canada</td>\n",
       "    </tr>\n",
       "    <tr>\n",
       "      <th>5</th>\n",
       "      <td>1820</td>\n",
       "      <td>22.117790</td>\n",
       "      <td>Canada</td>\n",
       "    </tr>\n",
       "    <tr>\n",
       "      <th>6</th>\n",
       "      <td>1830</td>\n",
       "      <td>21.678665</td>\n",
       "      <td>Canada</td>\n",
       "    </tr>\n",
       "    <tr>\n",
       "      <th>7</th>\n",
       "      <td>1840</td>\n",
       "      <td>21.685220</td>\n",
       "      <td>Canada</td>\n",
       "    </tr>\n",
       "    <tr>\n",
       "      <th>8</th>\n",
       "      <td>1850</td>\n",
       "      <td>21.939935</td>\n",
       "      <td>Canada</td>\n",
       "    </tr>\n",
       "    <tr>\n",
       "      <th>9</th>\n",
       "      <td>1860</td>\n",
       "      <td>21.712610</td>\n",
       "      <td>Canada</td>\n",
       "    </tr>\n",
       "    <tr>\n",
       "      <th>10</th>\n",
       "      <td>1870</td>\n",
       "      <td>22.404200</td>\n",
       "      <td>Canada</td>\n",
       "    </tr>\n",
       "    <tr>\n",
       "      <th>11</th>\n",
       "      <td>1880</td>\n",
       "      <td>21.144995</td>\n",
       "      <td>Canada</td>\n",
       "    </tr>\n",
       "    <tr>\n",
       "      <th>12</th>\n",
       "      <td>1890</td>\n",
       "      <td>21.469880</td>\n",
       "      <td>Canada</td>\n",
       "    </tr>\n",
       "    <tr>\n",
       "      <th>13</th>\n",
       "      <td>1900</td>\n",
       "      <td>22.222805</td>\n",
       "      <td>Canada</td>\n",
       "    </tr>\n",
       "    <tr>\n",
       "      <th>14</th>\n",
       "      <td>1910</td>\n",
       "      <td>22.147805</td>\n",
       "      <td>Canada</td>\n",
       "    </tr>\n",
       "    <tr>\n",
       "      <th>15</th>\n",
       "      <td>1920</td>\n",
       "      <td>22.843235</td>\n",
       "      <td>Canada</td>\n",
       "    </tr>\n",
       "    <tr>\n",
       "      <th>16</th>\n",
       "      <td>1930</td>\n",
       "      <td>23.085545</td>\n",
       "      <td>Canada</td>\n",
       "    </tr>\n",
       "    <tr>\n",
       "      <th>17</th>\n",
       "      <td>1940</td>\n",
       "      <td>23.824790</td>\n",
       "      <td>Canada</td>\n",
       "    </tr>\n",
       "    <tr>\n",
       "      <th>18</th>\n",
       "      <td>1950</td>\n",
       "      <td>23.166410</td>\n",
       "      <td>Canada</td>\n",
       "    </tr>\n",
       "    <tr>\n",
       "      <th>19</th>\n",
       "      <td>1960</td>\n",
       "      <td>23.088905</td>\n",
       "      <td>Canada</td>\n",
       "    </tr>\n",
       "    <tr>\n",
       "      <th>20</th>\n",
       "      <td>1970</td>\n",
       "      <td>22.913720</td>\n",
       "      <td>Canada</td>\n",
       "    </tr>\n",
       "    <tr>\n",
       "      <th>21</th>\n",
       "      <td>1980</td>\n",
       "      <td>23.930195</td>\n",
       "      <td>Canada</td>\n",
       "    </tr>\n",
       "    <tr>\n",
       "      <th>22</th>\n",
       "      <td>1990</td>\n",
       "      <td>24.360815</td>\n",
       "      <td>Canada</td>\n",
       "    </tr>\n",
       "    <tr>\n",
       "      <th>23</th>\n",
       "      <td>2000</td>\n",
       "      <td>25.064315</td>\n",
       "      <td>Canada</td>\n",
       "    </tr>\n",
       "    <tr>\n",
       "      <th>24</th>\n",
       "      <td>2010</td>\n",
       "      <td>27.270880</td>\n",
       "      <td>Canada</td>\n",
       "    </tr>\n",
       "  </tbody>\n",
       "</table>\n",
       "</div>"
      ],
      "text/plain": [
       "    Decade  AverageTemp_F country\n",
       "0     1760      23.154500  Canada\n",
       "1     1770      21.120534  Canada\n",
       "2     1780      23.249347  Canada\n",
       "3     1790      24.942477  Canada\n",
       "4     1810      18.376603  Canada\n",
       "5     1820      22.117790  Canada\n",
       "6     1830      21.678665  Canada\n",
       "7     1840      21.685220  Canada\n",
       "8     1850      21.939935  Canada\n",
       "9     1860      21.712610  Canada\n",
       "10    1870      22.404200  Canada\n",
       "11    1880      21.144995  Canada\n",
       "12    1890      21.469880  Canada\n",
       "13    1900      22.222805  Canada\n",
       "14    1910      22.147805  Canada\n",
       "15    1920      22.843235  Canada\n",
       "16    1930      23.085545  Canada\n",
       "17    1940      23.824790  Canada\n",
       "18    1950      23.166410  Canada\n",
       "19    1960      23.088905  Canada\n",
       "20    1970      22.913720  Canada\n",
       "21    1980      23.930195  Canada\n",
       "22    1990      24.360815  Canada\n",
       "23    2000      25.064315  Canada\n",
       "24    2010      27.270880  Canada"
      ]
     },
     "execution_count": 19,
     "metadata": {},
     "output_type": "execute_result"
    }
   ],
   "source": [
    "# Change to datetime and group by decade.\n",
    "canada_only['dt'] = pd.to_datetime(canada_only['dt'])\n",
    "canada_only['Decade'] = (canada_only['dt'].dt.year // 10) * 10\n",
    "canada_only = pd.DataFrame(canada_only[['AverageTemp_F', 'Decade']].groupby(['Decade'])['AverageTemp_F'].mean()).reset_index()\n",
    "canada_only['country'] = 'Canada'\n",
    "canada_only"
   ]
  },
  {
   "cell_type": "code",
   "execution_count": 20,
   "metadata": {},
   "outputs": [
    {
     "data": {
      "text/html": [
       "\n",
       "<style>\n",
       "  #altair-viz-a85af59420c740678a7cd8be2c4fb0e9.vega-embed {\n",
       "    width: 100%;\n",
       "    display: flex;\n",
       "  }\n",
       "\n",
       "  #altair-viz-a85af59420c740678a7cd8be2c4fb0e9.vega-embed details,\n",
       "  #altair-viz-a85af59420c740678a7cd8be2c4fb0e9.vega-embed details summary {\n",
       "    position: relative;\n",
       "  }\n",
       "</style>\n",
       "<div id=\"altair-viz-a85af59420c740678a7cd8be2c4fb0e9\"></div>\n",
       "<script type=\"text/javascript\">\n",
       "  var VEGA_DEBUG = (typeof VEGA_DEBUG == \"undefined\") ? {} : VEGA_DEBUG;\n",
       "  (function(spec, embedOpt){\n",
       "    let outputDiv = document.currentScript.previousElementSibling;\n",
       "    if (outputDiv.id !== \"altair-viz-a85af59420c740678a7cd8be2c4fb0e9\") {\n",
       "      outputDiv = document.getElementById(\"altair-viz-a85af59420c740678a7cd8be2c4fb0e9\");\n",
       "    }\n",
       "    const paths = {\n",
       "      \"vega\": \"https://cdn.jsdelivr.net/npm/vega@5?noext\",\n",
       "      \"vega-lib\": \"https://cdn.jsdelivr.net/npm/vega-lib?noext\",\n",
       "      \"vega-lite\": \"https://cdn.jsdelivr.net/npm/vega-lite@5.16.3?noext\",\n",
       "      \"vega-embed\": \"https://cdn.jsdelivr.net/npm/vega-embed@6?noext\",\n",
       "    };\n",
       "\n",
       "    function maybeLoadScript(lib, version) {\n",
       "      var key = `${lib.replace(\"-\", \"\")}_version`;\n",
       "      return (VEGA_DEBUG[key] == version) ?\n",
       "        Promise.resolve(paths[lib]) :\n",
       "        new Promise(function(resolve, reject) {\n",
       "          var s = document.createElement('script');\n",
       "          document.getElementsByTagName(\"head\")[0].appendChild(s);\n",
       "          s.async = true;\n",
       "          s.onload = () => {\n",
       "            VEGA_DEBUG[key] = version;\n",
       "            return resolve(paths[lib]);\n",
       "          };\n",
       "          s.onerror = () => reject(`Error loading script: ${paths[lib]}`);\n",
       "          s.src = paths[lib];\n",
       "        });\n",
       "    }\n",
       "\n",
       "    function showError(err) {\n",
       "      outputDiv.innerHTML = `<div class=\"error\" style=\"color:red;\">${err}</div>`;\n",
       "      throw err;\n",
       "    }\n",
       "\n",
       "    function displayChart(vegaEmbed) {\n",
       "      vegaEmbed(outputDiv, spec, embedOpt)\n",
       "        .catch(err => showError(`Javascript Error: ${err.message}<br>This usually means there's a typo in your chart specification. See the javascript console for the full traceback.`));\n",
       "    }\n",
       "\n",
       "    if(typeof define === \"function\" && define.amd) {\n",
       "      requirejs.config({paths});\n",
       "      require([\"vega-embed\"], displayChart, err => showError(`Error loading script: ${err.message}`));\n",
       "    } else {\n",
       "      maybeLoadScript(\"vega\", \"5\")\n",
       "        .then(() => maybeLoadScript(\"vega-lite\", \"5.16.3\"))\n",
       "        .then(() => maybeLoadScript(\"vega-embed\", \"6\"))\n",
       "        .catch(showError)\n",
       "        .then(() => displayChart(vegaEmbed));\n",
       "    }\n",
       "  })({\"config\": {\"view\": {\"continuousWidth\": 300, \"continuousHeight\": 300}}, \"layer\": [{\"data\": {\"name\": \"data-5ae71c218d24570b431803f65325c81e\"}, \"mark\": {\"type\": \"line\", \"point\": true}, \"encoding\": {\"color\": {\"field\": \"country\", \"type\": \"nominal\"}, \"x\": {\"field\": \"Decade\", \"type\": \"ordinal\"}, \"y\": {\"field\": \"AverageTemp_F\", \"scale\": {\"domain\": [15, 30]}, \"type\": \"quantitative\"}}, \"title\": \"Average Temperature in Canada vs. the United States by Decade (1760s - 2010s)\"}, {\"data\": {\"name\": \"data-826922140cfb08b2e1f3e2d8061f99f1\"}, \"mark\": {\"type\": \"line\", \"point\": true}, \"encoding\": {\"color\": {\"field\": \"country\", \"type\": \"nominal\"}, \"x\": {\"field\": \"Decade\", \"type\": \"ordinal\"}, \"y\": {\"field\": \"AverageTemp_F\", \"scale\": {\"domain\": [40, 55]}, \"type\": \"quantitative\"}}, \"title\": \"Average Temperature in the United States by Decade (1760s - 2010s)\"}], \"$schema\": \"https://vega.github.io/schema/vega-lite/v5.16.3.json\", \"datasets\": {\"data-5ae71c218d24570b431803f65325c81e\": [{\"Decade\": 1760, \"AverageTemp_F\": 23.1545, \"country\": \"Canada\"}, {\"Decade\": 1770, \"AverageTemp_F\": 21.120534426229508, \"country\": \"Canada\"}, {\"Decade\": 1780, \"AverageTemp_F\": 23.249347368421052, \"country\": \"Canada\"}, {\"Decade\": 1790, \"AverageTemp_F\": 24.942476923076924, \"country\": \"Canada\"}, {\"Decade\": 1810, \"AverageTemp_F\": 18.3766027027027, \"country\": \"Canada\"}, {\"Decade\": 1820, \"AverageTemp_F\": 22.11779, \"country\": \"Canada\"}, {\"Decade\": 1830, \"AverageTemp_F\": 21.678665000000002, \"country\": \"Canada\"}, {\"Decade\": 1840, \"AverageTemp_F\": 21.68522, \"country\": \"Canada\"}, {\"Decade\": 1850, \"AverageTemp_F\": 21.939935, \"country\": \"Canada\"}, {\"Decade\": 1860, \"AverageTemp_F\": 21.712609999999998, \"country\": \"Canada\"}, {\"Decade\": 1870, \"AverageTemp_F\": 22.4042, \"country\": \"Canada\"}, {\"Decade\": 1880, \"AverageTemp_F\": 21.144994999999998, \"country\": \"Canada\"}, {\"Decade\": 1890, \"AverageTemp_F\": 21.46988, \"country\": \"Canada\"}, {\"Decade\": 1900, \"AverageTemp_F\": 22.222805, \"country\": \"Canada\"}, {\"Decade\": 1910, \"AverageTemp_F\": 22.147805, \"country\": \"Canada\"}, {\"Decade\": 1920, \"AverageTemp_F\": 22.843235, \"country\": \"Canada\"}, {\"Decade\": 1930, \"AverageTemp_F\": 23.085545000000003, \"country\": \"Canada\"}, {\"Decade\": 1940, \"AverageTemp_F\": 23.82479, \"country\": \"Canada\"}, {\"Decade\": 1950, \"AverageTemp_F\": 23.16641, \"country\": \"Canada\"}, {\"Decade\": 1960, \"AverageTemp_F\": 23.088905, \"country\": \"Canada\"}, {\"Decade\": 1970, \"AverageTemp_F\": 22.91372, \"country\": \"Canada\"}, {\"Decade\": 1980, \"AverageTemp_F\": 23.930195, \"country\": \"Canada\"}, {\"Decade\": 1990, \"AverageTemp_F\": 24.360815000000002, \"country\": \"Canada\"}, {\"Decade\": 2000, \"AverageTemp_F\": 25.064315, \"country\": \"Canada\"}, {\"Decade\": 2010, \"AverageTemp_F\": 27.27088, \"country\": \"Canada\"}], \"data-826922140cfb08b2e1f3e2d8061f99f1\": [{\"Decade\": 1760, \"AverageTemp_F\": 47.87945, \"country\": \"United States\"}, {\"Decade\": 1770, \"AverageTemp_F\": 44.93307659574468, \"country\": \"United States\"}, {\"Decade\": 1780, \"AverageTemp_F\": 44.805854545454544, \"country\": \"United States\"}, {\"Decade\": 1790, \"AverageTemp_F\": 49.13572307692308, \"country\": \"United States\"}, {\"Decade\": 1810, \"AverageTemp_F\": 43.95207297297297, \"country\": \"United States\"}, {\"Decade\": 1820, \"AverageTemp_F\": 47.165585, \"country\": \"United States\"}, {\"Decade\": 1830, \"AverageTemp_F\": 46.75697, \"country\": \"United States\"}, {\"Decade\": 1840, \"AverageTemp_F\": 46.800305, \"country\": \"United States\"}, {\"Decade\": 1850, \"AverageTemp_F\": 47.001695000000005, \"country\": \"United States\"}, {\"Decade\": 1860, \"AverageTemp_F\": 47.143474999999995, \"country\": \"United States\"}, {\"Decade\": 1870, \"AverageTemp_F\": 47.248475, \"country\": \"United States\"}, {\"Decade\": 1880, \"AverageTemp_F\": 46.846175, \"country\": \"United States\"}, {\"Decade\": 1890, \"AverageTemp_F\": 46.956289999999996, \"country\": \"United States\"}, {\"Decade\": 1900, \"AverageTemp_F\": 47.206805, \"country\": \"United States\"}, {\"Decade\": 1910, \"AverageTemp_F\": 47.228449999999995, \"country\": \"United States\"}, {\"Decade\": 1920, \"AverageTemp_F\": 47.75945, \"country\": \"United States\"}, {\"Decade\": 1930, \"AverageTemp_F\": 48.356585, \"country\": \"United States\"}, {\"Decade\": 1940, \"AverageTemp_F\": 48.063365, \"country\": \"United States\"}, {\"Decade\": 1950, \"AverageTemp_F\": 48.04382, \"country\": \"United States\"}, {\"Decade\": 1960, \"AverageTemp_F\": 47.69945, \"country\": \"United States\"}, {\"Decade\": 1970, \"AverageTemp_F\": 47.654464999999995, \"country\": \"United States\"}, {\"Decade\": 1980, \"AverageTemp_F\": 48.387755, \"country\": \"United States\"}, {\"Decade\": 1990, \"AverageTemp_F\": 48.771605, \"country\": \"United States\"}, {\"Decade\": 2000, \"AverageTemp_F\": 49.364105, \"country\": \"United States\"}, {\"Decade\": 2010, \"AverageTemp_F\": 50.13892, \"country\": \"United States\"}]}}, {\"mode\": \"vega-lite\"});\n",
       "</script>"
      ],
      "text/plain": [
       "alt.LayerChart(...)"
      ]
     },
     "execution_count": 20,
     "metadata": {},
     "output_type": "execute_result"
    }
   ],
   "source": [
    "canada_only_graph = alt.Chart(canada_only).mark_line(point = True).encode(\n",
    "    x = 'Decade:O',\n",
    "    y = alt.Y('AverageTemp_F:Q', scale = alt.Scale(domain = [15, 30])),\n",
    "    \n",
    "    color = 'country'\n",
    "    \n",
    ").properties(\n",
    "    title = 'Average Temperature in Canada vs. the United States by Decade (1760s - 2010s)'\n",
    ")\n",
    "\n",
    "chart = (canada_only_graph + us_only_graph)\n",
    "chart"
   ]
  },
  {
   "cell_type": "markdown",
   "metadata": {},
   "source": [
    "Contrary to what the world map revealed earlier, the United States and Canada both experienced similar trends in temperature over time. As you can see, the lines seem are generally parally, experiencing upward trends in temperature from 1780 - 1790, and then a sudden dip in the year 1810. Afterwards, the temperature is in both countries is overall stable but rises slowly as decades past. More recent decades have temperatures rising exponentially quicker than longer ago, which is more evident in Canada."
   ]
  },
  {
   "cell_type": "markdown",
   "metadata": {},
   "source": [
    "### Correlation Analysis"
   ]
  },
  {
   "cell_type": "markdown",
   "metadata": {},
   "source": [
    "#### Is there a correlation between average temperature and air quality metrics (e.g., PM2.5 levels, AQI)?"
   ]
  },
  {
   "cell_type": "code",
   "execution_count": 21,
   "metadata": {},
   "outputs": [
    {
     "name": "stdout",
     "output_type": "stream",
     "text": [
      "SubdivisionHierarchy(code='NL-AW', country_code='NL', name='Aruba', parent_code=None, type='Country')\n",
      "SubdivisionHierarchy(code='BZ-BZ', country_code='BZ', name='Belize', parent_code=None, type='District')\n",
      "SubdivisionHierarchy(code='US-GA', country_code='US', name='Georgia', parent_code=None, type='State')\n",
      "SubdivisionHierarchy(code='GT-GU', country_code='GT', name='Guatemala', parent_code=None, type='Department')\n",
      "SubdivisionHierarchy(code='BE-WLX', country_code='BE', name='Luxembourg', parent='WAL', parent_code='BE-WAL', type='Province')\n",
      "SubdivisionHierarchy(code='LU-LU', country_code='LU', name='Luxembourg', parent_code=None, type='Canton')\n",
      "SubdivisionHierarchy(code='GN-ML', country_code='GN', name='Mali', parent='L', parent_code='GN-L', type='Prefecture')\n",
      "SubdivisionHierarchy(code='MX-MEX', country_code='MX', name='México', parent_code=None, type='State')\n",
      "SubdivisionHierarchy(code='NG-NI', country_code='NG', name='Niger', parent_code=None, type='State')\n",
      "SubdivisionHierarchy(code='PA-8', country_code='PA', name='Panamá', parent_code=None, type='Province')\n"
     ]
    },
    {
     "data": {
      "text/html": [
       "<div>\n",
       "<style scoped>\n",
       "    .dataframe tbody tr th:only-of-type {\n",
       "        vertical-align: middle;\n",
       "    }\n",
       "\n",
       "    .dataframe tbody tr th {\n",
       "        vertical-align: top;\n",
       "    }\n",
       "\n",
       "    .dataframe thead th {\n",
       "        text-align: right;\n",
       "    }\n",
       "</style>\n",
       "<table border=\"1\" class=\"dataframe\">\n",
       "  <thead>\n",
       "    <tr style=\"text-align: right;\">\n",
       "      <th></th>\n",
       "      <th>Country</th>\n",
       "      <th>AQI Value</th>\n",
       "      <th>CO AQI Value</th>\n",
       "      <th>Ozone AQI Value</th>\n",
       "      <th>NO2 AQI Value</th>\n",
       "      <th>PM2.5 AQI Value</th>\n",
       "      <th>country_code</th>\n",
       "    </tr>\n",
       "  </thead>\n",
       "  <tbody>\n",
       "    <tr>\n",
       "      <th>0</th>\n",
       "      <td>Afghanistan</td>\n",
       "      <td>95.959184</td>\n",
       "      <td>0.591837</td>\n",
       "      <td>40.183673</td>\n",
       "      <td>0.020408</td>\n",
       "      <td>95.918367</td>\n",
       "      <td>AFG</td>\n",
       "    </tr>\n",
       "    <tr>\n",
       "      <th>1</th>\n",
       "      <td>Albania</td>\n",
       "      <td>68.250000</td>\n",
       "      <td>1.000000</td>\n",
       "      <td>42.062500</td>\n",
       "      <td>0.718750</td>\n",
       "      <td>68.093750</td>\n",
       "      <td>ALB</td>\n",
       "    </tr>\n",
       "    <tr>\n",
       "      <th>2</th>\n",
       "      <td>Algeria</td>\n",
       "      <td>88.166667</td>\n",
       "      <td>1.916667</td>\n",
       "      <td>47.166667</td>\n",
       "      <td>9.333333</td>\n",
       "      <td>80.250000</td>\n",
       "      <td>DZA</td>\n",
       "    </tr>\n",
       "    <tr>\n",
       "      <th>3</th>\n",
       "      <td>Andorra</td>\n",
       "      <td>29.333333</td>\n",
       "      <td>0.666667</td>\n",
       "      <td>29.333333</td>\n",
       "      <td>0.000000</td>\n",
       "      <td>22.000000</td>\n",
       "      <td>AND</td>\n",
       "    </tr>\n",
       "    <tr>\n",
       "      <th>4</th>\n",
       "      <td>Angola</td>\n",
       "      <td>83.925926</td>\n",
       "      <td>3.148148</td>\n",
       "      <td>22.703704</td>\n",
       "      <td>1.888889</td>\n",
       "      <td>81.925926</td>\n",
       "      <td>AGO</td>\n",
       "    </tr>\n",
       "  </tbody>\n",
       "</table>\n",
       "</div>"
      ],
      "text/plain": [
       "       Country  AQI Value  CO AQI Value  Ozone AQI Value  NO2 AQI Value  \\\n",
       "0  Afghanistan  95.959184      0.591837        40.183673       0.020408   \n",
       "1      Albania  68.250000      1.000000        42.062500       0.718750   \n",
       "2      Algeria  88.166667      1.916667        47.166667       9.333333   \n",
       "3      Andorra  29.333333      0.666667        29.333333       0.000000   \n",
       "4       Angola  83.925926      3.148148        22.703704       1.888889   \n",
       "\n",
       "   PM2.5 AQI Value country_code  \n",
       "0        95.918367          AFG  \n",
       "1        68.093750          ALB  \n",
       "2        80.250000          DZA  \n",
       "3        22.000000          AND  \n",
       "4        81.925926          AGO  "
      ]
     },
     "execution_count": 21,
     "metadata": {},
     "output_type": "execute_result"
    }
   ],
   "source": [
    "# Let's look at another dataset about air pollution. We are interested in the mean AQI value for CO, Ozone, NO2, and PM2.5.\n",
    "air_pollution = pd.read_csv('global_air_pollution_dataset.csv').drop(columns=['City'])\n",
    "air_pollution = air_pollution.groupby('Country')[['AQI Value', 'CO AQI Value', 'Ozone AQI Value', 'NO2 AQI Value', 'PM2.5 AQI Value']].mean().reset_index()\n",
    "\n",
    "# Add country iso alpha-3 to make our data easier to deal with\n",
    "def get_country_code(country_name):\n",
    "    try:\n",
    "        country = pycountry.countries.search_fuzzy(country_name)\n",
    "        if country:\n",
    "            return country[0].alpha_3\n",
    "        else:\n",
    "            return \"Unknown\"\n",
    "    except:\n",
    "        return \"Unknown\"\n",
    "    \n",
    "air_pollution['country_code'] = air_pollution['Country'].apply(get_country_code)\n",
    "\n",
    "# Manually add iso alpha-3 codes\n",
    "air_pollution.loc[air_pollution['Country'] == 'Bolivia (Plurinational State of)', 'country_code'] = 'BOL'\n",
    "air_pollution.loc[air_pollution['Country'] == 'Democratic Republic of the Congo', 'country_code'] = 'COD'\n",
    "air_pollution.loc[air_pollution['Country'] == 'Iran (Islamic Republic of)', 'country_code'] = 'IRN'\n",
    "air_pollution.loc[air_pollution['Country'] == 'Turkey', 'country_code'] = 'TUR'\n",
    "air_pollution.loc[air_pollution['Country'] == 'Venezuela (Bolivarian Republic of)', 'country_code'] = 'VEN'\n",
    "air_pollution.head()"
   ]
  },
  {
   "cell_type": "code",
   "execution_count": 22,
   "metadata": {},
   "outputs": [
    {
     "name": "stdout",
     "output_type": "stream",
     "text": [
      "SubdivisionHierarchy(code='US-AS', country_code='US', name='American Samoa', parent_code=None, type='Outlying area')\n",
      "SubdivisionHierarchy(code='NL-AW', country_code='NL', name='Aruba', parent_code=None, type='Country')\n",
      "SubdivisionHierarchy(code='UM-81', country_code='UM', name='Baker Island', parent_code=None, type='Islands, groups of islands')\n",
      "SubdivisionHierarchy(code='BZ-BZ', country_code='BZ', name='Belize', parent_code=None, type='District')\n",
      "SubdivisionHierarchy(code='NL-CW', country_code='NL', name='Curaçao', parent_code=None, type='Country')\n",
      "SubdivisionHierarchy(code='DJ-DJ', country_code='DJ', name='Djibouti', parent_code=None, type='City')\n",
      "SubdivisionHierarchy(code='US-GA', country_code='US', name='Georgia', parent_code=None, type='State')\n",
      "SubdivisionHierarchy(code='FR-971', country_code='FR', name='Guadeloupe', parent='GP', parent_code='FR-GP', type='Overseas department')\n",
      "SubdivisionHierarchy(code='FR-GP', country_code='FR', name='Guadeloupe', parent_code=None, type='Overseas region')\n",
      "SubdivisionHierarchy(code='US-GU', country_code='US', name='Guam', parent_code=None, type='Outlying area')\n",
      "SubdivisionHierarchy(code='GT-GU', country_code='GT', name='Guatemala', parent_code=None, type='Department')\n",
      "SubdivisionHierarchy(code='UM-89', country_code='UM', name='Kingman Reef', parent_code=None, type='Islands, groups of islands')\n",
      "SubdivisionHierarchy(code='BE-WLX', country_code='BE', name='Luxembourg', parent='WAL', parent_code='BE-WAL', type='Province')\n",
      "SubdivisionHierarchy(code='LU-LU', country_code='LU', name='Luxembourg', parent_code=None, type='Canton')\n",
      "SubdivisionHierarchy(code='GN-ML', country_code='GN', name='Mali', parent='L', parent_code='GN-L', type='Prefecture')\n",
      "SubdivisionHierarchy(code='FR-972', country_code='FR', name='Martinique', parent='MQ', parent_code='FR-MQ', type='Overseas department')\n",
      "SubdivisionHierarchy(code='FR-MQ', country_code='FR', name='Martinique', parent_code=None, type='Overseas region')\n",
      "SubdivisionHierarchy(code='FR-976', country_code='FR', name='Mayotte', parent='YT', parent_code='FR-YT', type='Overseas department')\n",
      "SubdivisionHierarchy(code='FR-YT', country_code='FR', name='Mayotte', parent_code=None, type='Overseas region')\n",
      "SubdivisionHierarchy(code='MX-MEX', country_code='MX', name='México', parent_code=None, type='State')\n",
      "SubdivisionHierarchy(code='NG-NI', country_code='NG', name='Niger', parent_code=None, type='State')\n",
      "SubdivisionHierarchy(code='US-MP', country_code='US', name='Northern Mariana Islands', parent_code=None, type='Outlying area')\n",
      "SubdivisionHierarchy(code='UM-95', country_code='UM', name='Palmyra Atoll', parent_code=None, type='Islands, groups of islands')\n",
      "SubdivisionHierarchy(code='PA-8', country_code='PA', name='Panamá', parent_code=None, type='Province')\n",
      "SubdivisionHierarchy(code='US-PR', country_code='US', name='Puerto Rico', parent_code=None, type='Outlying area')\n",
      "SubdivisionHierarchy(code='NL-SX', country_code='NL', name='Sint Maarten', parent_code=None, type='Country')\n",
      "SubdivisionHierarchy(code='FI-01', country_code='FI', name='Åland', parent_code=None, type='Region')\n"
     ]
    },
    {
     "data": {
      "text/html": [
       "<div>\n",
       "<style scoped>\n",
       "    .dataframe tbody tr th:only-of-type {\n",
       "        vertical-align: middle;\n",
       "    }\n",
       "\n",
       "    .dataframe tbody tr th {\n",
       "        vertical-align: top;\n",
       "    }\n",
       "\n",
       "    .dataframe thead th {\n",
       "        text-align: right;\n",
       "    }\n",
       "</style>\n",
       "<table border=\"1\" class=\"dataframe\">\n",
       "  <thead>\n",
       "    <tr style=\"text-align: right;\">\n",
       "      <th></th>\n",
       "      <th>Country</th>\n",
       "      <th>AverageTemp_F</th>\n",
       "      <th>country_code</th>\n",
       "    </tr>\n",
       "  </thead>\n",
       "  <tbody>\n",
       "    <tr>\n",
       "      <th>0</th>\n",
       "      <td>Afghanistan</td>\n",
       "      <td>59.908509</td>\n",
       "      <td>AFG</td>\n",
       "    </tr>\n",
       "    <tr>\n",
       "      <th>1</th>\n",
       "      <td>Africa</td>\n",
       "      <td>77.060914</td>\n",
       "      <td>ZAF</td>\n",
       "    </tr>\n",
       "    <tr>\n",
       "      <th>2</th>\n",
       "      <td>Albania</td>\n",
       "      <td>57.027936</td>\n",
       "      <td>ALB</td>\n",
       "    </tr>\n",
       "    <tr>\n",
       "      <th>3</th>\n",
       "      <td>Algeria</td>\n",
       "      <td>76.212418</td>\n",
       "      <td>DZA</td>\n",
       "    </tr>\n",
       "    <tr>\n",
       "      <th>4</th>\n",
       "      <td>American Samoa</td>\n",
       "      <td>81.095409</td>\n",
       "      <td>ASM</td>\n",
       "    </tr>\n",
       "  </tbody>\n",
       "</table>\n",
       "</div>"
      ],
      "text/plain": [
       "          Country  AverageTemp_F country_code\n",
       "0     Afghanistan      59.908509          AFG\n",
       "1          Africa      77.060914          ZAF\n",
       "2         Albania      57.027936          ALB\n",
       "3         Algeria      76.212418          DZA\n",
       "4  American Samoa      81.095409          ASM"
      ]
     },
     "execution_count": 22,
     "metadata": {},
     "output_type": "execute_result"
    }
   ],
   "source": [
    "# To compare datasets, let's just look at the mean temperature for the most recent decade (2010s)\n",
    "global_land_temps['dt'] = pd.to_datetime(global_land_temps['dt'])\n",
    "global_land_temps['Decade'] = (global_land_temps['dt'].dt.year // 10) * 10\n",
    "global_land = global_land_temps.drop(columns = ['dt', 'AverageTemp_C'])\n",
    "global_land_recent = pd.DataFrame(global_land[global_land['Decade'] == 2010].groupby('Country')['AverageTemp_F'].mean()).reset_index()\n",
    "\n",
    "\n",
    "# Add country three-digit codes to make our data easier to deal with\n",
    "global_land_recent['country_code'] = global_land_recent['Country'].apply(get_country_code)\n",
    "global_land_recent[global_land_recent['country_code'] == 'Unknown']\n",
    "\n",
    "# Not everything is a country! Notice we have continents included here too; we will drop them. \n",
    "# Drop continents\n",
    "to_drop = ['Asia', 'Europe', 'North America', 'Oceania', 'South America']\n",
    "# Drop countries that end with (Europe); these are redundant. Also drop areas with disagreement about whether it is a country (for the sake of this project)\n",
    "to_drop.extend(['Denmark (Europe)', 'France (Europe)', 'Gaza Strip', 'Macau',\n",
    "       'Netherlands (Europe)', 'United Kingdom (Europe)'])\n",
    "global_land_dropped = global_land_recent[~global_land_recent['Country'].isin(to_drop)]\n",
    "\n",
    "# Manually change the country code for countries with a country code marked as \"Unknown\"\n",
    "global_land_dropped.loc[global_land_dropped['Country'] == 'Bonaire, Saint Eustatius And Saba', 'country_code'] = 'BES'\n",
    "global_land_dropped.loc[global_land_dropped['Country'] == 'Burma', 'country_code'] = 'MMR' # also known as Myanmar\n",
    "global_land_dropped.loc[global_land_dropped['Country'] == 'Cape Verde', 'country_code'] = 'CPV' # also known as Cabo Verde\n",
    "global_land_dropped.loc[global_land_dropped['Country'] == 'Congo (Democratic Republic Of The)', 'country_code'] = 'COD'\n",
    "global_land_dropped.loc[global_land_dropped['Country'] == 'Falkland Islands (Islas Malvinas)', 'country_code'] = 'FLK'\n",
    "global_land_dropped.loc[global_land_dropped['Country'] == 'French Southern And Antarctic Lands', 'country_code'] = 'ATF'\n",
    "global_land_dropped.loc[global_land_dropped['Country'] == 'Guinea Bissau', 'country_code'] = 'GNB'\n",
    "global_land_dropped.loc[global_land_dropped['Country'] == 'Palestina', 'country_code'] = 'PSE'\n",
    "global_land_dropped.loc[global_land_dropped['Country'] == 'Swaziland', 'country_code'] = 'SWZ' # also known as Eswatini\n",
    "global_land_dropped.loc[global_land_dropped['Country'] == 'Timor Leste', 'country_code'] = 'TLS'\n",
    "global_land_dropped.loc[global_land_dropped['Country'] == 'Turkey', 'country_code'] = 'TUR'\n",
    "global_land_dropped.loc[global_land_dropped['Country'] == 'Turks And Caicas Islands', 'country_code'] = 'TCA'\n",
    "global_land_dropped.head()\n",
    "\n"
   ]
  },
  {
   "cell_type": "code",
   "execution_count": 23,
   "metadata": {},
   "outputs": [
    {
     "data": {
      "text/html": [
       "<div>\n",
       "<style scoped>\n",
       "    .dataframe tbody tr th:only-of-type {\n",
       "        vertical-align: middle;\n",
       "    }\n",
       "\n",
       "    .dataframe tbody tr th {\n",
       "        vertical-align: top;\n",
       "    }\n",
       "\n",
       "    .dataframe thead th {\n",
       "        text-align: right;\n",
       "    }\n",
       "</style>\n",
       "<table border=\"1\" class=\"dataframe\">\n",
       "  <thead>\n",
       "    <tr style=\"text-align: right;\">\n",
       "      <th></th>\n",
       "      <th>AQI Value</th>\n",
       "      <th>CO AQI Value</th>\n",
       "      <th>Ozone AQI Value</th>\n",
       "      <th>NO2 AQI Value</th>\n",
       "      <th>PM2.5 AQI Value</th>\n",
       "      <th>AverageTemp_F</th>\n",
       "    </tr>\n",
       "    <tr>\n",
       "      <th>Country</th>\n",
       "      <th></th>\n",
       "      <th></th>\n",
       "      <th></th>\n",
       "      <th></th>\n",
       "      <th></th>\n",
       "      <th></th>\n",
       "    </tr>\n",
       "  </thead>\n",
       "  <tbody>\n",
       "    <tr>\n",
       "      <th>Afghanistan</th>\n",
       "      <td>95.959184</td>\n",
       "      <td>0.591837</td>\n",
       "      <td>40.183673</td>\n",
       "      <td>0.020408</td>\n",
       "      <td>95.918367</td>\n",
       "      <td>59.908509</td>\n",
       "    </tr>\n",
       "    <tr>\n",
       "      <th>Albania</th>\n",
       "      <td>68.250000</td>\n",
       "      <td>1.000000</td>\n",
       "      <td>42.062500</td>\n",
       "      <td>0.718750</td>\n",
       "      <td>68.093750</td>\n",
       "      <td>57.027936</td>\n",
       "    </tr>\n",
       "    <tr>\n",
       "      <th>Algeria</th>\n",
       "      <td>88.166667</td>\n",
       "      <td>1.916667</td>\n",
       "      <td>47.166667</td>\n",
       "      <td>9.333333</td>\n",
       "      <td>80.250000</td>\n",
       "      <td>76.212418</td>\n",
       "    </tr>\n",
       "    <tr>\n",
       "      <th>Andorra</th>\n",
       "      <td>29.333333</td>\n",
       "      <td>0.666667</td>\n",
       "      <td>29.333333</td>\n",
       "      <td>0.000000</td>\n",
       "      <td>22.000000</td>\n",
       "      <td>54.100932</td>\n",
       "    </tr>\n",
       "    <tr>\n",
       "      <th>Angola</th>\n",
       "      <td>83.925926</td>\n",
       "      <td>3.148148</td>\n",
       "      <td>22.703704</td>\n",
       "      <td>1.888889</td>\n",
       "      <td>81.925926</td>\n",
       "      <td>72.175877</td>\n",
       "    </tr>\n",
       "  </tbody>\n",
       "</table>\n",
       "</div>"
      ],
      "text/plain": [
       "             AQI Value  CO AQI Value  Ozone AQI Value  NO2 AQI Value  \\\n",
       "Country                                                                \n",
       "Afghanistan  95.959184      0.591837        40.183673       0.020408   \n",
       "Albania      68.250000      1.000000        42.062500       0.718750   \n",
       "Algeria      88.166667      1.916667        47.166667       9.333333   \n",
       "Andorra      29.333333      0.666667        29.333333       0.000000   \n",
       "Angola       83.925926      3.148148        22.703704       1.888889   \n",
       "\n",
       "             PM2.5 AQI Value  AverageTemp_F  \n",
       "Country                                      \n",
       "Afghanistan        95.918367      59.908509  \n",
       "Albania            68.093750      57.027936  \n",
       "Algeria            80.250000      76.212418  \n",
       "Andorra            22.000000      54.100932  \n",
       "Angola             81.925926      72.175877  "
      ]
     },
     "execution_count": 23,
     "metadata": {},
     "output_type": "execute_result"
    }
   ],
   "source": [
    "merged = pd.merge(air_pollution, global_land_dropped, on = 'country_code')\n",
    "merged = (merged\n",
    "          .drop(columns=['Country_y'])\n",
    "          .rename(columns = {'Country_x':'Country'})\n",
    "          .groupby('Country')[['AQI Value', 'CO AQI Value', 'Ozone AQI Value', 'NO2 AQI Value', 'PM2.5 AQI Value', 'AverageTemp_F']].mean())\n",
    "merged.head()"
   ]
  },
  {
   "cell_type": "code",
   "execution_count": 24,
   "metadata": {},
   "outputs": [
    {
     "data": {
      "text/html": [
       "<div>\n",
       "<style scoped>\n",
       "    .dataframe tbody tr th:only-of-type {\n",
       "        vertical-align: middle;\n",
       "    }\n",
       "\n",
       "    .dataframe tbody tr th {\n",
       "        vertical-align: top;\n",
       "    }\n",
       "\n",
       "    .dataframe thead th {\n",
       "        text-align: right;\n",
       "    }\n",
       "</style>\n",
       "<table border=\"1\" class=\"dataframe\">\n",
       "  <thead>\n",
       "    <tr style=\"text-align: right;\">\n",
       "      <th></th>\n",
       "      <th>AQI Value</th>\n",
       "      <th>CO AQI Value</th>\n",
       "      <th>Ozone AQI Value</th>\n",
       "      <th>NO2 AQI Value</th>\n",
       "      <th>PM2.5 AQI Value</th>\n",
       "      <th>AverageTemp_F</th>\n",
       "    </tr>\n",
       "  </thead>\n",
       "  <tbody>\n",
       "    <tr>\n",
       "      <th>AQI Value</th>\n",
       "      <td>1.000000</td>\n",
       "      <td>0.693498</td>\n",
       "      <td>0.379754</td>\n",
       "      <td>0.645814</td>\n",
       "      <td>0.996204</td>\n",
       "      <td>0.206821</td>\n",
       "    </tr>\n",
       "    <tr>\n",
       "      <th>CO AQI Value</th>\n",
       "      <td>0.693498</td>\n",
       "      <td>1.000000</td>\n",
       "      <td>-0.067168</td>\n",
       "      <td>0.929414</td>\n",
       "      <td>0.684121</td>\n",
       "      <td>-0.057029</td>\n",
       "    </tr>\n",
       "    <tr>\n",
       "      <th>Ozone AQI Value</th>\n",
       "      <td>0.379754</td>\n",
       "      <td>-0.067168</td>\n",
       "      <td>1.000000</td>\n",
       "      <td>-0.046003</td>\n",
       "      <td>0.347364</td>\n",
       "      <td>-0.032040</td>\n",
       "    </tr>\n",
       "    <tr>\n",
       "      <th>NO2 AQI Value</th>\n",
       "      <td>0.645814</td>\n",
       "      <td>0.929414</td>\n",
       "      <td>-0.046003</td>\n",
       "      <td>1.000000</td>\n",
       "      <td>0.631638</td>\n",
       "      <td>-0.083097</td>\n",
       "    </tr>\n",
       "    <tr>\n",
       "      <th>PM2.5 AQI Value</th>\n",
       "      <td>0.996204</td>\n",
       "      <td>0.684121</td>\n",
       "      <td>0.347364</td>\n",
       "      <td>0.631638</td>\n",
       "      <td>1.000000</td>\n",
       "      <td>0.241096</td>\n",
       "    </tr>\n",
       "    <tr>\n",
       "      <th>AverageTemp_F</th>\n",
       "      <td>0.206821</td>\n",
       "      <td>-0.057029</td>\n",
       "      <td>-0.032040</td>\n",
       "      <td>-0.083097</td>\n",
       "      <td>0.241096</td>\n",
       "      <td>1.000000</td>\n",
       "    </tr>\n",
       "  </tbody>\n",
       "</table>\n",
       "</div>"
      ],
      "text/plain": [
       "                 AQI Value  CO AQI Value  Ozone AQI Value  NO2 AQI Value  \\\n",
       "AQI Value         1.000000      0.693498         0.379754       0.645814   \n",
       "CO AQI Value      0.693498      1.000000        -0.067168       0.929414   \n",
       "Ozone AQI Value   0.379754     -0.067168         1.000000      -0.046003   \n",
       "NO2 AQI Value     0.645814      0.929414        -0.046003       1.000000   \n",
       "PM2.5 AQI Value   0.996204      0.684121         0.347364       0.631638   \n",
       "AverageTemp_F     0.206821     -0.057029        -0.032040      -0.083097   \n",
       "\n",
       "                 PM2.5 AQI Value  AverageTemp_F  \n",
       "AQI Value               0.996204       0.206821  \n",
       "CO AQI Value            0.684121      -0.057029  \n",
       "Ozone AQI Value         0.347364      -0.032040  \n",
       "NO2 AQI Value           0.631638      -0.083097  \n",
       "PM2.5 AQI Value         1.000000       0.241096  \n",
       "AverageTemp_F           0.241096       1.000000  "
      ]
     },
     "execution_count": 24,
     "metadata": {},
     "output_type": "execute_result"
    }
   ],
   "source": [
    "merged.corr()"
   ]
  },
  {
   "cell_type": "code",
   "execution_count": 25,
   "metadata": {},
   "outputs": [
    {
     "data": {
      "image/png": "[encoded data removed]",
      "text/plain": [
       "<Figure size 500x300 with 2 Axes>"
      ]
     },
     "metadata": {},
     "output_type": "display_data"
    }
   ],
   "source": [
    "# heatmap to visualize correlations\n",
    "plt.figure(figsize=(5, 3))\n",
    "sns.heatmap(merged.corr(), annot=True, cmap='Blues')\n",
    "plt.title('Correlation Heatmap')\n",
    "plt.show()"
   ]
  },
  {
   "cell_type": "markdown",
   "metadata": {},
   "source": [
    "* There is a **strong** association between the AQI and CO AQI Value, and the AQI and NO2 AQI Value\n",
    "* There is a **strong** association between the NO2 AQI Value and PM2.5 AQI Value\n",
    "* There is a **very strong** association between the CO2 AQI Value and NO2 AQI Value\n",
    "* Temperature has a **very weak** association with the CO2, Ozone, and NO2 AQI Values\n",
    "* Temperature has a **weak** association with the PM2.5 AQI Value"
   ]
  },
  {
   "cell_type": "markdown",
   "metadata": {},
   "source": [
    "#### Are there any regional differences in these correlations?"
   ]
  },
  {
   "cell_type": "code",
   "execution_count": 26,
   "metadata": {},
   "outputs": [
    {
     "data": {
      "text/html": [
       "<div>\n",
       "<style scoped>\n",
       "    .dataframe tbody tr th:only-of-type {\n",
       "        vertical-align: middle;\n",
       "    }\n",
       "\n",
       "    .dataframe tbody tr th {\n",
       "        vertical-align: top;\n",
       "    }\n",
       "\n",
       "    .dataframe thead th {\n",
       "        text-align: right;\n",
       "    }\n",
       "</style>\n",
       "<table border=\"1\" class=\"dataframe\">\n",
       "  <thead>\n",
       "    <tr style=\"text-align: right;\">\n",
       "      <th></th>\n",
       "      <th>Country</th>\n",
       "      <th>AQI Value</th>\n",
       "      <th>CO AQI Value</th>\n",
       "      <th>Ozone AQI Value</th>\n",
       "      <th>NO2 AQI Value</th>\n",
       "      <th>PM2.5 AQI Value</th>\n",
       "      <th>country_code</th>\n",
       "      <th>AverageTemp_F</th>\n",
       "    </tr>\n",
       "  </thead>\n",
       "  <tbody>\n",
       "    <tr>\n",
       "      <th>0</th>\n",
       "      <td>Afghanistan</td>\n",
       "      <td>95.959184</td>\n",
       "      <td>0.591837</td>\n",
       "      <td>40.183673</td>\n",
       "      <td>0.020408</td>\n",
       "      <td>95.918367</td>\n",
       "      <td>AFG</td>\n",
       "      <td>59.908509</td>\n",
       "    </tr>\n",
       "    <tr>\n",
       "      <th>1</th>\n",
       "      <td>Albania</td>\n",
       "      <td>68.250000</td>\n",
       "      <td>1.000000</td>\n",
       "      <td>42.062500</td>\n",
       "      <td>0.718750</td>\n",
       "      <td>68.093750</td>\n",
       "      <td>ALB</td>\n",
       "      <td>57.027936</td>\n",
       "    </tr>\n",
       "    <tr>\n",
       "      <th>2</th>\n",
       "      <td>Algeria</td>\n",
       "      <td>88.166667</td>\n",
       "      <td>1.916667</td>\n",
       "      <td>47.166667</td>\n",
       "      <td>9.333333</td>\n",
       "      <td>80.250000</td>\n",
       "      <td>DZA</td>\n",
       "      <td>76.212418</td>\n",
       "    </tr>\n",
       "    <tr>\n",
       "      <th>3</th>\n",
       "      <td>Andorra</td>\n",
       "      <td>29.333333</td>\n",
       "      <td>0.666667</td>\n",
       "      <td>29.333333</td>\n",
       "      <td>0.000000</td>\n",
       "      <td>22.000000</td>\n",
       "      <td>AND</td>\n",
       "      <td>54.100932</td>\n",
       "    </tr>\n",
       "    <tr>\n",
       "      <th>4</th>\n",
       "      <td>Angola</td>\n",
       "      <td>83.925926</td>\n",
       "      <td>3.148148</td>\n",
       "      <td>22.703704</td>\n",
       "      <td>1.888889</td>\n",
       "      <td>81.925926</td>\n",
       "      <td>AGO</td>\n",
       "      <td>72.175877</td>\n",
       "    </tr>\n",
       "    <tr>\n",
       "      <th>...</th>\n",
       "      <td>...</td>\n",
       "      <td>...</td>\n",
       "      <td>...</td>\n",
       "      <td>...</td>\n",
       "      <td>...</td>\n",
       "      <td>...</td>\n",
       "      <td>...</td>\n",
       "      <td>...</td>\n",
       "    </tr>\n",
       "    <tr>\n",
       "      <th>176</th>\n",
       "      <td>Venezuela (Bolivarian Republic of)</td>\n",
       "      <td>77.722222</td>\n",
       "      <td>1.277778</td>\n",
       "      <td>17.522222</td>\n",
       "      <td>3.866667</td>\n",
       "      <td>77.722222</td>\n",
       "      <td>VEN</td>\n",
       "      <td>78.533968</td>\n",
       "    </tr>\n",
       "    <tr>\n",
       "      <th>177</th>\n",
       "      <td>Viet Nam</td>\n",
       "      <td>87.050000</td>\n",
       "      <td>2.366667</td>\n",
       "      <td>46.233333</td>\n",
       "      <td>2.633333</td>\n",
       "      <td>82.483333</td>\n",
       "      <td>VNM</td>\n",
       "      <td>76.207182</td>\n",
       "    </tr>\n",
       "    <tr>\n",
       "      <th>178</th>\n",
       "      <td>Yemen</td>\n",
       "      <td>144.571429</td>\n",
       "      <td>1.285714</td>\n",
       "      <td>55.428571</td>\n",
       "      <td>0.714286</td>\n",
       "      <td>144.571429</td>\n",
       "      <td>YEM</td>\n",
       "      <td>81.478318</td>\n",
       "    </tr>\n",
       "    <tr>\n",
       "      <th>179</th>\n",
       "      <td>Zambia</td>\n",
       "      <td>40.666667</td>\n",
       "      <td>0.690476</td>\n",
       "      <td>20.190476</td>\n",
       "      <td>0.095238</td>\n",
       "      <td>39.952381</td>\n",
       "      <td>ZMB</td>\n",
       "      <td>71.207682</td>\n",
       "    </tr>\n",
       "    <tr>\n",
       "      <th>180</th>\n",
       "      <td>Zimbabwe</td>\n",
       "      <td>43.740741</td>\n",
       "      <td>1.296296</td>\n",
       "      <td>18.074074</td>\n",
       "      <td>0.444444</td>\n",
       "      <td>42.740741</td>\n",
       "      <td>ZWE</td>\n",
       "      <td>70.741155</td>\n",
       "    </tr>\n",
       "  </tbody>\n",
       "</table>\n",
       "<p>181 rows × 8 columns</p>\n",
       "</div>"
      ],
      "text/plain": [
       "                                Country   AQI Value  CO AQI Value  \\\n",
       "0                           Afghanistan   95.959184      0.591837   \n",
       "1                               Albania   68.250000      1.000000   \n",
       "2                               Algeria   88.166667      1.916667   \n",
       "3                               Andorra   29.333333      0.666667   \n",
       "4                                Angola   83.925926      3.148148   \n",
       "..                                  ...         ...           ...   \n",
       "176  Venezuela (Bolivarian Republic of)   77.722222      1.277778   \n",
       "177                            Viet Nam   87.050000      2.366667   \n",
       "178                               Yemen  144.571429      1.285714   \n",
       "179                              Zambia   40.666667      0.690476   \n",
       "180                            Zimbabwe   43.740741      1.296296   \n",
       "\n",
       "     Ozone AQI Value  NO2 AQI Value  PM2.5 AQI Value country_code  \\\n",
       "0          40.183673       0.020408        95.918367          AFG   \n",
       "1          42.062500       0.718750        68.093750          ALB   \n",
       "2          47.166667       9.333333        80.250000          DZA   \n",
       "3          29.333333       0.000000        22.000000          AND   \n",
       "4          22.703704       1.888889        81.925926          AGO   \n",
       "..               ...            ...              ...          ...   \n",
       "176        17.522222       3.866667        77.722222          VEN   \n",
       "177        46.233333       2.633333        82.483333          VNM   \n",
       "178        55.428571       0.714286       144.571429          YEM   \n",
       "179        20.190476       0.095238        39.952381          ZMB   \n",
       "180        18.074074       0.444444        42.740741          ZWE   \n",
       "\n",
       "     AverageTemp_F  \n",
       "0        59.908509  \n",
       "1        57.027936  \n",
       "2        76.212418  \n",
       "3        54.100932  \n",
       "4        72.175877  \n",
       "..             ...  \n",
       "176      78.533968  \n",
       "177      76.207182  \n",
       "178      81.478318  \n",
       "179      71.207682  \n",
       "180      70.741155  \n",
       "\n",
       "[181 rows x 8 columns]"
      ]
     },
     "execution_count": 26,
     "metadata": {},
     "output_type": "execute_result"
    }
   ],
   "source": [
    "# Get country code for country names\n",
    "with_country_code = pd.merge(air_pollution, global_land_dropped, on = 'country_code')\n",
    "with_country_code = (with_country_code\n",
    "          .drop(columns=['Country_y'])\n",
    "          .rename(columns = {'Country_x':'Country'}))\n",
    "with_country_code"
   ]
  },
  {
   "cell_type": "code",
   "execution_count": 27,
   "metadata": {},
   "outputs": [
    {
     "name": "stdout",
     "output_type": "stream",
     "text": [
      "SubdivisionHierarchy(code='US-AS', country_code='US', name='American Samoa', parent_code=None, type='Outlying area')\n",
      "SubdivisionHierarchy(code='NL-AW', country_code='NL', name='Aruba', parent_code=None, type='Country')\n",
      "SubdivisionHierarchy(code='BZ-BZ', country_code='BZ', name='Belize', parent_code=None, type='District')\n",
      "SubdivisionHierarchy(code='DJ-DJ', country_code='DJ', name='Djibouti', parent_code=None, type='City')\n",
      "SubdivisionHierarchy(code='US-GA', country_code='US', name='Georgia', parent_code=None, type='State')\n",
      "SubdivisionHierarchy(code='FR-971', country_code='FR', name='Guadeloupe', parent='GP', parent_code='FR-GP', type='Overseas department')\n",
      "SubdivisionHierarchy(code='FR-GP', country_code='FR', name='Guadeloupe', parent_code=None, type='Overseas region')\n",
      "SubdivisionHierarchy(code='US-GU', country_code='US', name='Guam', parent_code=None, type='Outlying area')\n",
      "SubdivisionHierarchy(code='GT-GU', country_code='GT', name='Guatemala', parent_code=None, type='Department')\n",
      "SubdivisionHierarchy(code='BE-WLX', country_code='BE', name='Luxembourg', parent='WAL', parent_code='BE-WAL', type='Province')\n",
      "SubdivisionHierarchy(code='LU-LU', country_code='LU', name='Luxembourg', parent_code=None, type='Canton')\n",
      "SubdivisionHierarchy(code='GN-ML', country_code='GN', name='Mali', parent='L', parent_code='GN-L', type='Prefecture')\n",
      "SubdivisionHierarchy(code='FR-972', country_code='FR', name='Martinique', parent='MQ', parent_code='FR-MQ', type='Overseas department')\n",
      "SubdivisionHierarchy(code='FR-MQ', country_code='FR', name='Martinique', parent_code=None, type='Overseas region')\n",
      "SubdivisionHierarchy(code='FR-976', country_code='FR', name='Mayotte', parent='YT', parent_code='FR-YT', type='Overseas department')\n",
      "SubdivisionHierarchy(code='FR-YT', country_code='FR', name='Mayotte', parent_code=None, type='Overseas region')\n",
      "SubdivisionHierarchy(code='MX-MEX', country_code='MX', name='México', parent_code=None, type='State')\n",
      "SubdivisionHierarchy(code='NG-NI', country_code='NG', name='Niger', parent_code=None, type='State')\n",
      "SubdivisionHierarchy(code='PA-8', country_code='PA', name='Panamá', parent_code=None, type='Province')\n",
      "SubdivisionHierarchy(code='US-PR', country_code='US', name='Puerto Rico', parent_code=None, type='Outlying area')\n",
      "SubdivisionHierarchy(code='SH-HL', country_code='SH', name='Saint Helena', parent_code=None, type='Geographical entity')\n"
     ]
    },
    {
     "data": {
      "text/html": [
       "<div>\n",
       "<style scoped>\n",
       "    .dataframe tbody tr th:only-of-type {\n",
       "        vertical-align: middle;\n",
       "    }\n",
       "\n",
       "    .dataframe tbody tr th {\n",
       "        vertical-align: top;\n",
       "    }\n",
       "\n",
       "    .dataframe thead th {\n",
       "        text-align: right;\n",
       "    }\n",
       "</style>\n",
       "<table border=\"1\" class=\"dataframe\">\n",
       "  <thead>\n",
       "    <tr style=\"text-align: right;\">\n",
       "      <th></th>\n",
       "      <th>Country</th>\n",
       "      <th>Region</th>\n",
       "      <th>Population</th>\n",
       "      <th>Area (sq. mi.)</th>\n",
       "      <th>Pop. Density (per sq. mi.)</th>\n",
       "      <th>Coastline (coast/area ratio)</th>\n",
       "      <th>Net migration</th>\n",
       "      <th>Infant mortality (per 1000 births)</th>\n",
       "      <th>GDP ($ per capita)</th>\n",
       "      <th>Literacy (%)</th>\n",
       "      <th>...</th>\n",
       "      <th>Arable (%)</th>\n",
       "      <th>Crops (%)</th>\n",
       "      <th>Other (%)</th>\n",
       "      <th>Climate</th>\n",
       "      <th>Birthrate</th>\n",
       "      <th>Deathrate</th>\n",
       "      <th>Agriculture</th>\n",
       "      <th>Industry</th>\n",
       "      <th>Service</th>\n",
       "      <th>country_code</th>\n",
       "    </tr>\n",
       "  </thead>\n",
       "  <tbody>\n",
       "    <tr>\n",
       "      <th>0</th>\n",
       "      <td>Afghanistan</td>\n",
       "      <td>ASIA (EX. NEAR EAST)</td>\n",
       "      <td>31056997</td>\n",
       "      <td>647500</td>\n",
       "      <td>48,0</td>\n",
       "      <td>0,00</td>\n",
       "      <td>23,06</td>\n",
       "      <td>163,07</td>\n",
       "      <td>700.0</td>\n",
       "      <td>36,0</td>\n",
       "      <td>...</td>\n",
       "      <td>12,13</td>\n",
       "      <td>0,22</td>\n",
       "      <td>87,65</td>\n",
       "      <td>1</td>\n",
       "      <td>46,6</td>\n",
       "      <td>20,34</td>\n",
       "      <td>0,38</td>\n",
       "      <td>0,24</td>\n",
       "      <td>0,38</td>\n",
       "      <td>AFG</td>\n",
       "    </tr>\n",
       "    <tr>\n",
       "      <th>1</th>\n",
       "      <td>Albania</td>\n",
       "      <td>EASTERN EUROPE</td>\n",
       "      <td>3581655</td>\n",
       "      <td>28748</td>\n",
       "      <td>124,6</td>\n",
       "      <td>1,26</td>\n",
       "      <td>-4,93</td>\n",
       "      <td>21,52</td>\n",
       "      <td>4500.0</td>\n",
       "      <td>86,5</td>\n",
       "      <td>...</td>\n",
       "      <td>21,09</td>\n",
       "      <td>4,42</td>\n",
       "      <td>74,49</td>\n",
       "      <td>3</td>\n",
       "      <td>15,11</td>\n",
       "      <td>5,22</td>\n",
       "      <td>0,232</td>\n",
       "      <td>0,188</td>\n",
       "      <td>0,579</td>\n",
       "      <td>ALB</td>\n",
       "    </tr>\n",
       "    <tr>\n",
       "      <th>2</th>\n",
       "      <td>Algeria</td>\n",
       "      <td>NORTHERN AFRICA</td>\n",
       "      <td>32930091</td>\n",
       "      <td>2381740</td>\n",
       "      <td>13,8</td>\n",
       "      <td>0,04</td>\n",
       "      <td>-0,39</td>\n",
       "      <td>31</td>\n",
       "      <td>6000.0</td>\n",
       "      <td>70,0</td>\n",
       "      <td>...</td>\n",
       "      <td>3,22</td>\n",
       "      <td>0,25</td>\n",
       "      <td>96,53</td>\n",
       "      <td>1</td>\n",
       "      <td>17,14</td>\n",
       "      <td>4,61</td>\n",
       "      <td>0,101</td>\n",
       "      <td>0,6</td>\n",
       "      <td>0,298</td>\n",
       "      <td>DZA</td>\n",
       "    </tr>\n",
       "    <tr>\n",
       "      <th>3</th>\n",
       "      <td>American Samoa</td>\n",
       "      <td>OCEANIA</td>\n",
       "      <td>57794</td>\n",
       "      <td>199</td>\n",
       "      <td>290,4</td>\n",
       "      <td>58,29</td>\n",
       "      <td>-20,71</td>\n",
       "      <td>9,27</td>\n",
       "      <td>8000.0</td>\n",
       "      <td>97,0</td>\n",
       "      <td>...</td>\n",
       "      <td>10</td>\n",
       "      <td>15</td>\n",
       "      <td>75</td>\n",
       "      <td>2</td>\n",
       "      <td>22,46</td>\n",
       "      <td>3,27</td>\n",
       "      <td>NaN</td>\n",
       "      <td>NaN</td>\n",
       "      <td>NaN</td>\n",
       "      <td>ASM</td>\n",
       "    </tr>\n",
       "    <tr>\n",
       "      <th>4</th>\n",
       "      <td>Andorra</td>\n",
       "      <td>WESTERN EUROPE</td>\n",
       "      <td>71201</td>\n",
       "      <td>468</td>\n",
       "      <td>152,1</td>\n",
       "      <td>0,00</td>\n",
       "      <td>6,6</td>\n",
       "      <td>4,05</td>\n",
       "      <td>19000.0</td>\n",
       "      <td>100,0</td>\n",
       "      <td>...</td>\n",
       "      <td>2,22</td>\n",
       "      <td>0</td>\n",
       "      <td>97,78</td>\n",
       "      <td>3</td>\n",
       "      <td>8,71</td>\n",
       "      <td>6,25</td>\n",
       "      <td>NaN</td>\n",
       "      <td>NaN</td>\n",
       "      <td>NaN</td>\n",
       "      <td>AND</td>\n",
       "    </tr>\n",
       "    <tr>\n",
       "      <th>...</th>\n",
       "      <td>...</td>\n",
       "      <td>...</td>\n",
       "      <td>...</td>\n",
       "      <td>...</td>\n",
       "      <td>...</td>\n",
       "      <td>...</td>\n",
       "      <td>...</td>\n",
       "      <td>...</td>\n",
       "      <td>...</td>\n",
       "      <td>...</td>\n",
       "      <td>...</td>\n",
       "      <td>...</td>\n",
       "      <td>...</td>\n",
       "      <td>...</td>\n",
       "      <td>...</td>\n",
       "      <td>...</td>\n",
       "      <td>...</td>\n",
       "      <td>...</td>\n",
       "      <td>...</td>\n",
       "      <td>...</td>\n",
       "      <td>...</td>\n",
       "    </tr>\n",
       "    <tr>\n",
       "      <th>222</th>\n",
       "      <td>West Bank</td>\n",
       "      <td>NEAR EAST</td>\n",
       "      <td>2460492</td>\n",
       "      <td>5860</td>\n",
       "      <td>419,9</td>\n",
       "      <td>0,00</td>\n",
       "      <td>2,98</td>\n",
       "      <td>19,62</td>\n",
       "      <td>800.0</td>\n",
       "      <td>NaN</td>\n",
       "      <td>...</td>\n",
       "      <td>16,9</td>\n",
       "      <td>18,97</td>\n",
       "      <td>64,13</td>\n",
       "      <td>3</td>\n",
       "      <td>31,67</td>\n",
       "      <td>3,92</td>\n",
       "      <td>0,09</td>\n",
       "      <td>0,28</td>\n",
       "      <td>0,63</td>\n",
       "      <td>Unknown</td>\n",
       "    </tr>\n",
       "    <tr>\n",
       "      <th>223</th>\n",
       "      <td>Western Sahara</td>\n",
       "      <td>NORTHERN AFRICA</td>\n",
       "      <td>273008</td>\n",
       "      <td>266000</td>\n",
       "      <td>1,0</td>\n",
       "      <td>0,42</td>\n",
       "      <td>NaN</td>\n",
       "      <td>NaN</td>\n",
       "      <td>NaN</td>\n",
       "      <td>NaN</td>\n",
       "      <td>...</td>\n",
       "      <td>0,02</td>\n",
       "      <td>0</td>\n",
       "      <td>99,98</td>\n",
       "      <td>1</td>\n",
       "      <td>NaN</td>\n",
       "      <td>NaN</td>\n",
       "      <td>NaN</td>\n",
       "      <td>NaN</td>\n",
       "      <td>0,4</td>\n",
       "      <td>ESH</td>\n",
       "    </tr>\n",
       "    <tr>\n",
       "      <th>224</th>\n",
       "      <td>Yemen</td>\n",
       "      <td>NEAR EAST</td>\n",
       "      <td>21456188</td>\n",
       "      <td>527970</td>\n",
       "      <td>40,6</td>\n",
       "      <td>0,36</td>\n",
       "      <td>0</td>\n",
       "      <td>61,5</td>\n",
       "      <td>800.0</td>\n",
       "      <td>50,2</td>\n",
       "      <td>...</td>\n",
       "      <td>2,78</td>\n",
       "      <td>0,24</td>\n",
       "      <td>96,98</td>\n",
       "      <td>1</td>\n",
       "      <td>42,89</td>\n",
       "      <td>8,3</td>\n",
       "      <td>0,135</td>\n",
       "      <td>0,472</td>\n",
       "      <td>0,393</td>\n",
       "      <td>YEM</td>\n",
       "    </tr>\n",
       "    <tr>\n",
       "      <th>225</th>\n",
       "      <td>Zambia</td>\n",
       "      <td>SUB-SAHARAN AFRICA</td>\n",
       "      <td>11502010</td>\n",
       "      <td>752614</td>\n",
       "      <td>15,3</td>\n",
       "      <td>0,00</td>\n",
       "      <td>0</td>\n",
       "      <td>88,29</td>\n",
       "      <td>800.0</td>\n",
       "      <td>80,6</td>\n",
       "      <td>...</td>\n",
       "      <td>7,08</td>\n",
       "      <td>0,03</td>\n",
       "      <td>92,9</td>\n",
       "      <td>2</td>\n",
       "      <td>41</td>\n",
       "      <td>19,93</td>\n",
       "      <td>0,22</td>\n",
       "      <td>0,29</td>\n",
       "      <td>0,489</td>\n",
       "      <td>ZMB</td>\n",
       "    </tr>\n",
       "    <tr>\n",
       "      <th>226</th>\n",
       "      <td>Zimbabwe</td>\n",
       "      <td>SUB-SAHARAN AFRICA</td>\n",
       "      <td>12236805</td>\n",
       "      <td>390580</td>\n",
       "      <td>31,3</td>\n",
       "      <td>0,00</td>\n",
       "      <td>0</td>\n",
       "      <td>67,69</td>\n",
       "      <td>1900.0</td>\n",
       "      <td>90,7</td>\n",
       "      <td>...</td>\n",
       "      <td>8,32</td>\n",
       "      <td>0,34</td>\n",
       "      <td>91,34</td>\n",
       "      <td>2</td>\n",
       "      <td>28,01</td>\n",
       "      <td>21,84</td>\n",
       "      <td>0,179</td>\n",
       "      <td>0,243</td>\n",
       "      <td>0,579</td>\n",
       "      <td>ZWE</td>\n",
       "    </tr>\n",
       "  </tbody>\n",
       "</table>\n",
       "<p>227 rows × 21 columns</p>\n",
       "</div>"
      ],
      "text/plain": [
       "             Country                               Region  Population  \\\n",
       "0       Afghanistan         ASIA (EX. NEAR EAST)             31056997   \n",
       "1           Albania   EASTERN EUROPE                          3581655   \n",
       "2           Algeria   NORTHERN AFRICA                        32930091   \n",
       "3    American Samoa   OCEANIA                                   57794   \n",
       "4           Andorra   WESTERN EUROPE                            71201   \n",
       "..               ...                                  ...         ...   \n",
       "222       West Bank   NEAR EAST                               2460492   \n",
       "223  Western Sahara   NORTHERN AFRICA                          273008   \n",
       "224           Yemen   NEAR EAST                              21456188   \n",
       "225          Zambia   SUB-SAHARAN AFRICA                     11502010   \n",
       "226        Zimbabwe   SUB-SAHARAN AFRICA                     12236805   \n",
       "\n",
       "     Area (sq. mi.) Pop. Density (per sq. mi.) Coastline (coast/area ratio)  \\\n",
       "0            647500                       48,0                         0,00   \n",
       "1             28748                      124,6                         1,26   \n",
       "2           2381740                       13,8                         0,04   \n",
       "3               199                      290,4                        58,29   \n",
       "4               468                      152,1                         0,00   \n",
       "..              ...                        ...                          ...   \n",
       "222            5860                      419,9                         0,00   \n",
       "223          266000                        1,0                         0,42   \n",
       "224          527970                       40,6                         0,36   \n",
       "225          752614                       15,3                         0,00   \n",
       "226          390580                       31,3                         0,00   \n",
       "\n",
       "    Net migration Infant mortality (per 1000 births)  GDP ($ per capita)  \\\n",
       "0           23,06                             163,07               700.0   \n",
       "1           -4,93                              21,52              4500.0   \n",
       "2           -0,39                                 31              6000.0   \n",
       "3          -20,71                               9,27              8000.0   \n",
       "4             6,6                               4,05             19000.0   \n",
       "..            ...                                ...                 ...   \n",
       "222          2,98                              19,62               800.0   \n",
       "223           NaN                                NaN                 NaN   \n",
       "224             0                               61,5               800.0   \n",
       "225             0                              88,29               800.0   \n",
       "226             0                              67,69              1900.0   \n",
       "\n",
       "    Literacy (%)  ... Arable (%) Crops (%) Other (%) Climate Birthrate  \\\n",
       "0           36,0  ...      12,13      0,22     87,65       1      46,6   \n",
       "1           86,5  ...      21,09      4,42     74,49       3     15,11   \n",
       "2           70,0  ...       3,22      0,25     96,53       1     17,14   \n",
       "3           97,0  ...         10        15        75       2     22,46   \n",
       "4          100,0  ...       2,22         0     97,78       3      8,71   \n",
       "..           ...  ...        ...       ...       ...     ...       ...   \n",
       "222          NaN  ...       16,9     18,97     64,13       3     31,67   \n",
       "223          NaN  ...       0,02         0     99,98       1       NaN   \n",
       "224         50,2  ...       2,78      0,24     96,98       1     42,89   \n",
       "225         80,6  ...       7,08      0,03      92,9       2        41   \n",
       "226         90,7  ...       8,32      0,34     91,34       2     28,01   \n",
       "\n",
       "    Deathrate Agriculture Industry Service country_code  \n",
       "0       20,34        0,38     0,24    0,38          AFG  \n",
       "1        5,22       0,232    0,188   0,579          ALB  \n",
       "2        4,61       0,101      0,6   0,298          DZA  \n",
       "3        3,27         NaN      NaN     NaN          ASM  \n",
       "4        6,25         NaN      NaN     NaN          AND  \n",
       "..        ...         ...      ...     ...          ...  \n",
       "222      3,92        0,09     0,28    0,63      Unknown  \n",
       "223       NaN         NaN      NaN     0,4          ESH  \n",
       "224       8,3       0,135    0,472   0,393          YEM  \n",
       "225     19,93        0,22     0,29   0,489          ZMB  \n",
       "226     21,84       0,179    0,243   0,579          ZWE  \n",
       "\n",
       "[227 rows x 21 columns]"
      ]
     },
     "execution_count": 27,
     "metadata": {},
     "output_type": "execute_result"
    }
   ],
   "source": [
    "countries = pd.read_csv('countries.csv')\n",
    "countries['country_code'] = countries['Country'].apply(get_country_code)\n",
    "countries"
   ]
  },
  {
   "cell_type": "code",
   "execution_count": 28,
   "metadata": {},
   "outputs": [
    {
     "data": {
      "text/html": [
       "<div>\n",
       "<style scoped>\n",
       "    .dataframe tbody tr th:only-of-type {\n",
       "        vertical-align: middle;\n",
       "    }\n",
       "\n",
       "    .dataframe tbody tr th {\n",
       "        vertical-align: top;\n",
       "    }\n",
       "\n",
       "    .dataframe thead th {\n",
       "        text-align: right;\n",
       "    }\n",
       "</style>\n",
       "<table border=\"1\" class=\"dataframe\">\n",
       "  <thead>\n",
       "    <tr style=\"text-align: right;\">\n",
       "      <th></th>\n",
       "      <th>AQI Value</th>\n",
       "      <th>CO AQI Value</th>\n",
       "      <th>Ozone AQI Value</th>\n",
       "      <th>NO2 AQI Value</th>\n",
       "      <th>PM2.5 AQI Value</th>\n",
       "      <th>Region</th>\n",
       "    </tr>\n",
       "  </thead>\n",
       "  <tbody>\n",
       "    <tr>\n",
       "      <th>0</th>\n",
       "      <td>95.959184</td>\n",
       "      <td>0.591837</td>\n",
       "      <td>40.183673</td>\n",
       "      <td>0.020408</td>\n",
       "      <td>95.918367</td>\n",
       "      <td>ASIA (EX. NEAR EAST)</td>\n",
       "    </tr>\n",
       "    <tr>\n",
       "      <th>1</th>\n",
       "      <td>68.250000</td>\n",
       "      <td>1.000000</td>\n",
       "      <td>42.062500</td>\n",
       "      <td>0.718750</td>\n",
       "      <td>68.093750</td>\n",
       "      <td>EASTERN EUROPE</td>\n",
       "    </tr>\n",
       "    <tr>\n",
       "      <th>2</th>\n",
       "      <td>88.166667</td>\n",
       "      <td>1.916667</td>\n",
       "      <td>47.166667</td>\n",
       "      <td>9.333333</td>\n",
       "      <td>80.250000</td>\n",
       "      <td>NORTHERN AFRICA</td>\n",
       "    </tr>\n",
       "    <tr>\n",
       "      <th>3</th>\n",
       "      <td>29.333333</td>\n",
       "      <td>0.666667</td>\n",
       "      <td>29.333333</td>\n",
       "      <td>0.000000</td>\n",
       "      <td>22.000000</td>\n",
       "      <td>WESTERN EUROPE</td>\n",
       "    </tr>\n",
       "    <tr>\n",
       "      <th>4</th>\n",
       "      <td>83.925926</td>\n",
       "      <td>3.148148</td>\n",
       "      <td>22.703704</td>\n",
       "      <td>1.888889</td>\n",
       "      <td>81.925926</td>\n",
       "      <td>SUB-SAHARAN AFRICA</td>\n",
       "    </tr>\n",
       "    <tr>\n",
       "      <th>...</th>\n",
       "      <td>...</td>\n",
       "      <td>...</td>\n",
       "      <td>...</td>\n",
       "      <td>...</td>\n",
       "      <td>...</td>\n",
       "      <td>...</td>\n",
       "    </tr>\n",
       "    <tr>\n",
       "      <th>178</th>\n",
       "      <td>77.722222</td>\n",
       "      <td>1.277778</td>\n",
       "      <td>17.522222</td>\n",
       "      <td>3.866667</td>\n",
       "      <td>77.722222</td>\n",
       "      <td>LATIN AMER. &amp; CARIB</td>\n",
       "    </tr>\n",
       "    <tr>\n",
       "      <th>179</th>\n",
       "      <td>87.050000</td>\n",
       "      <td>2.366667</td>\n",
       "      <td>46.233333</td>\n",
       "      <td>2.633333</td>\n",
       "      <td>82.483333</td>\n",
       "      <td>ASIA (EX. NEAR EAST)</td>\n",
       "    </tr>\n",
       "    <tr>\n",
       "      <th>180</th>\n",
       "      <td>144.571429</td>\n",
       "      <td>1.285714</td>\n",
       "      <td>55.428571</td>\n",
       "      <td>0.714286</td>\n",
       "      <td>144.571429</td>\n",
       "      <td>NEAR EAST</td>\n",
       "    </tr>\n",
       "    <tr>\n",
       "      <th>181</th>\n",
       "      <td>40.666667</td>\n",
       "      <td>0.690476</td>\n",
       "      <td>20.190476</td>\n",
       "      <td>0.095238</td>\n",
       "      <td>39.952381</td>\n",
       "      <td>SUB-SAHARAN AFRICA</td>\n",
       "    </tr>\n",
       "    <tr>\n",
       "      <th>182</th>\n",
       "      <td>43.740741</td>\n",
       "      <td>1.296296</td>\n",
       "      <td>18.074074</td>\n",
       "      <td>0.444444</td>\n",
       "      <td>42.740741</td>\n",
       "      <td>SUB-SAHARAN AFRICA</td>\n",
       "    </tr>\n",
       "  </tbody>\n",
       "</table>\n",
       "<p>183 rows × 6 columns</p>\n",
       "</div>"
      ],
      "text/plain": [
       "      AQI Value  CO AQI Value  Ozone AQI Value  NO2 AQI Value  \\\n",
       "0     95.959184      0.591837        40.183673       0.020408   \n",
       "1     68.250000      1.000000        42.062500       0.718750   \n",
       "2     88.166667      1.916667        47.166667       9.333333   \n",
       "3     29.333333      0.666667        29.333333       0.000000   \n",
       "4     83.925926      3.148148        22.703704       1.888889   \n",
       "..          ...           ...              ...            ...   \n",
       "178   77.722222      1.277778        17.522222       3.866667   \n",
       "179   87.050000      2.366667        46.233333       2.633333   \n",
       "180  144.571429      1.285714        55.428571       0.714286   \n",
       "181   40.666667      0.690476        20.190476       0.095238   \n",
       "182   43.740741      1.296296        18.074074       0.444444   \n",
       "\n",
       "     PM2.5 AQI Value                               Region  \n",
       "0          95.918367        ASIA (EX. NEAR EAST)           \n",
       "1          68.093750  EASTERN EUROPE                       \n",
       "2          80.250000  NORTHERN AFRICA                      \n",
       "3          22.000000  WESTERN EUROPE                       \n",
       "4          81.925926  SUB-SAHARAN AFRICA                   \n",
       "..               ...                                  ...  \n",
       "178        77.722222              LATIN AMER. & CARIB      \n",
       "179        82.483333        ASIA (EX. NEAR EAST)           \n",
       "180       144.571429  NEAR EAST                            \n",
       "181        39.952381  SUB-SAHARAN AFRICA                   \n",
       "182        42.740741  SUB-SAHARAN AFRICA                   \n",
       "\n",
       "[183 rows x 6 columns]"
      ]
     },
     "execution_count": 28,
     "metadata": {},
     "output_type": "execute_result"
    }
   ],
   "source": [
    "# We want to find the mean AQI values for each region\n",
    "countries_by_region = pd.merge(with_country_code, countries, on = 'country_code')[['AQI Value', 'CO AQI Value', 'Ozone AQI Value', 'NO2 AQI Value', 'PM2.5 AQI Value', 'Region']]\n",
    "countries_by_region"
   ]
  },
  {
   "cell_type": "code",
   "execution_count": 29,
   "metadata": {},
   "outputs": [
    {
     "data": {
      "text/html": [
       "<div>\n",
       "<style scoped>\n",
       "    .dataframe tbody tr th:only-of-type {\n",
       "        vertical-align: middle;\n",
       "    }\n",
       "\n",
       "    .dataframe tbody tr th {\n",
       "        vertical-align: top;\n",
       "    }\n",
       "\n",
       "    .dataframe thead th {\n",
       "        text-align: right;\n",
       "    }\n",
       "</style>\n",
       "<table border=\"1\" class=\"dataframe\">\n",
       "  <thead>\n",
       "    <tr style=\"text-align: right;\">\n",
       "      <th></th>\n",
       "      <th>Region</th>\n",
       "      <th>AQI Value</th>\n",
       "      <th>CO AQI Value</th>\n",
       "      <th>Ozone AQI Value</th>\n",
       "      <th>NO2 AQI Value</th>\n",
       "      <th>PM2.5 AQI Value</th>\n",
       "    </tr>\n",
       "  </thead>\n",
       "  <tbody>\n",
       "    <tr>\n",
       "      <th>0</th>\n",
       "      <td>ASIA (EX. NEAR EAST)</td>\n",
       "      <td>86.508571</td>\n",
       "      <td>1.488839</td>\n",
       "      <td>42.635841</td>\n",
       "      <td>1.896687</td>\n",
       "      <td>83.804170</td>\n",
       "    </tr>\n",
       "    <tr>\n",
       "      <th>1</th>\n",
       "      <td>BALTICS</td>\n",
       "      <td>38.958001</td>\n",
       "      <td>1.018075</td>\n",
       "      <td>32.798644</td>\n",
       "      <td>0.545056</td>\n",
       "      <td>32.416932</td>\n",
       "    </tr>\n",
       "    <tr>\n",
       "      <th>2</th>\n",
       "      <td>C.W. OF IND. STATES</td>\n",
       "      <td>68.312088</td>\n",
       "      <td>0.939561</td>\n",
       "      <td>38.618165</td>\n",
       "      <td>0.505127</td>\n",
       "      <td>64.965889</td>\n",
       "    </tr>\n",
       "    <tr>\n",
       "      <th>3</th>\n",
       "      <td>EASTERN EUROPE</td>\n",
       "      <td>62.230055</td>\n",
       "      <td>1.008750</td>\n",
       "      <td>39.932032</td>\n",
       "      <td>0.925383</td>\n",
       "      <td>60.677318</td>\n",
       "    </tr>\n",
       "    <tr>\n",
       "      <th>4</th>\n",
       "      <td>LATIN AMER. &amp; CARIB</td>\n",
       "      <td>63.609962</td>\n",
       "      <td>1.137976</td>\n",
       "      <td>19.687118</td>\n",
       "      <td>2.852028</td>\n",
       "      <td>62.805201</td>\n",
       "    </tr>\n",
       "    <tr>\n",
       "      <th>5</th>\n",
       "      <td>NEAR EAST</td>\n",
       "      <td>123.892269</td>\n",
       "      <td>1.418732</td>\n",
       "      <td>85.775076</td>\n",
       "      <td>2.997354</td>\n",
       "      <td>120.079448</td>\n",
       "    </tr>\n",
       "    <tr>\n",
       "      <th>6</th>\n",
       "      <td>NORTHERN AFRICA</td>\n",
       "      <td>82.298836</td>\n",
       "      <td>1.322640</td>\n",
       "      <td>48.069214</td>\n",
       "      <td>3.593140</td>\n",
       "      <td>76.208278</td>\n",
       "    </tr>\n",
       "    <tr>\n",
       "      <th>7</th>\n",
       "      <td>NORTHERN AMERICA</td>\n",
       "      <td>51.501505</td>\n",
       "      <td>1.260327</td>\n",
       "      <td>27.451733</td>\n",
       "      <td>5.561497</td>\n",
       "      <td>48.479667</td>\n",
       "    </tr>\n",
       "    <tr>\n",
       "      <th>8</th>\n",
       "      <td>OCEANIA</td>\n",
       "      <td>24.638788</td>\n",
       "      <td>0.042353</td>\n",
       "      <td>18.540250</td>\n",
       "      <td>0.809590</td>\n",
       "      <td>17.606881</td>\n",
       "    </tr>\n",
       "    <tr>\n",
       "      <th>9</th>\n",
       "      <td>SUB-SAHARAN AFRICA</td>\n",
       "      <td>72.078017</td>\n",
       "      <td>1.633648</td>\n",
       "      <td>22.911059</td>\n",
       "      <td>1.021500</td>\n",
       "      <td>71.653999</td>\n",
       "    </tr>\n",
       "    <tr>\n",
       "      <th>10</th>\n",
       "      <td>WESTERN EUROPE</td>\n",
       "      <td>44.563759</td>\n",
       "      <td>0.875423</td>\n",
       "      <td>34.295642</td>\n",
       "      <td>1.723271</td>\n",
       "      <td>38.260714</td>\n",
       "    </tr>\n",
       "  </tbody>\n",
       "</table>\n",
       "</div>"
      ],
      "text/plain": [
       "                                 Region   AQI Value  CO AQI Value  \\\n",
       "0         ASIA (EX. NEAR EAST)            86.508571      1.488839   \n",
       "1   BALTICS                               38.958001      1.018075   \n",
       "2                  C.W. OF IND. STATES    68.312088      0.939561   \n",
       "3   EASTERN EUROPE                        62.230055      1.008750   \n",
       "4               LATIN AMER. & CARIB       63.609962      1.137976   \n",
       "5   NEAR EAST                            123.892269      1.418732   \n",
       "6   NORTHERN AFRICA                       82.298836      1.322640   \n",
       "7   NORTHERN AMERICA                      51.501505      1.260327   \n",
       "8   OCEANIA                               24.638788      0.042353   \n",
       "9   SUB-SAHARAN AFRICA                    72.078017      1.633648   \n",
       "10  WESTERN EUROPE                        44.563759      0.875423   \n",
       "\n",
       "    Ozone AQI Value  NO2 AQI Value  PM2.5 AQI Value  \n",
       "0         42.635841       1.896687        83.804170  \n",
       "1         32.798644       0.545056        32.416932  \n",
       "2         38.618165       0.505127        64.965889  \n",
       "3         39.932032       0.925383        60.677318  \n",
       "4         19.687118       2.852028        62.805201  \n",
       "5         85.775076       2.997354       120.079448  \n",
       "6         48.069214       3.593140        76.208278  \n",
       "7         27.451733       5.561497        48.479667  \n",
       "8         18.540250       0.809590        17.606881  \n",
       "9         22.911059       1.021500        71.653999  \n",
       "10        34.295642       1.723271        38.260714  "
      ]
     },
     "execution_count": 29,
     "metadata": {},
     "output_type": "execute_result"
    }
   ],
   "source": [
    "countries_by_region = countries_by_region.groupby('Region').mean().dropna().reset_index()\n",
    "countries_by_region"
   ]
  },
  {
   "cell_type": "code",
   "execution_count": 30,
   "metadata": {},
   "outputs": [
    {
     "data": {
      "text/html": [
       "\n",
       "<style>\n",
       "  #altair-viz-0cf187ff813a42c1bd47fbb86c08d315.vega-embed {\n",
       "    width: 100%;\n",
       "    display: flex;\n",
       "  }\n",
       "\n",
       "  #altair-viz-0cf187ff813a42c1bd47fbb86c08d315.vega-embed details,\n",
       "  #altair-viz-0cf187ff813a42c1bd47fbb86c08d315.vega-embed details summary {\n",
       "    position: relative;\n",
       "  }\n",
       "</style>\n",
       "<div id=\"altair-viz-0cf187ff813a42c1bd47fbb86c08d315\"></div>\n",
       "<script type=\"text/javascript\">\n",
       "  var VEGA_DEBUG = (typeof VEGA_DEBUG == \"undefined\") ? {} : VEGA_DEBUG;\n",
       "  (function(spec, embedOpt){\n",
       "    let outputDiv = document.currentScript.previousElementSibling;\n",
       "    if (outputDiv.id !== \"altair-viz-0cf187ff813a42c1bd47fbb86c08d315\") {\n",
       "      outputDiv = document.getElementById(\"altair-viz-0cf187ff813a42c1bd47fbb86c08d315\");\n",
       "    }\n",
       "    const paths = {\n",
       "      \"vega\": \"https://cdn.jsdelivr.net/npm/vega@5?noext\",\n",
       "      \"vega-lib\": \"https://cdn.jsdelivr.net/npm/vega-lib?noext\",\n",
       "      \"vega-lite\": \"https://cdn.jsdelivr.net/npm/vega-lite@5.16.3?noext\",\n",
       "      \"vega-embed\": \"https://cdn.jsdelivr.net/npm/vega-embed@6?noext\",\n",
       "    };\n",
       "\n",
       "    function maybeLoadScript(lib, version) {\n",
       "      var key = `${lib.replace(\"-\", \"\")}_version`;\n",
       "      return (VEGA_DEBUG[key] == version) ?\n",
       "        Promise.resolve(paths[lib]) :\n",
       "        new Promise(function(resolve, reject) {\n",
       "          var s = document.createElement('script');\n",
       "          document.getElementsByTagName(\"head\")[0].appendChild(s);\n",
       "          s.async = true;\n",
       "          s.onload = () => {\n",
       "            VEGA_DEBUG[key] = version;\n",
       "            return resolve(paths[lib]);\n",
       "          };\n",
       "          s.onerror = () => reject(`Error loading script: ${paths[lib]}`);\n",
       "          s.src = paths[lib];\n",
       "        });\n",
       "    }\n",
       "\n",
       "    function showError(err) {\n",
       "      outputDiv.innerHTML = `<div class=\"error\" style=\"color:red;\">${err}</div>`;\n",
       "      throw err;\n",
       "    }\n",
       "\n",
       "    function displayChart(vegaEmbed) {\n",
       "      vegaEmbed(outputDiv, spec, embedOpt)\n",
       "        .catch(err => showError(`Javascript Error: ${err.message}<br>This usually means there's a typo in your chart specification. See the javascript console for the full traceback.`));\n",
       "    }\n",
       "\n",
       "    if(typeof define === \"function\" && define.amd) {\n",
       "      requirejs.config({paths});\n",
       "      require([\"vega-embed\"], displayChart, err => showError(`Error loading script: ${err.message}`));\n",
       "    } else {\n",
       "      maybeLoadScript(\"vega\", \"5\")\n",
       "        .then(() => maybeLoadScript(\"vega-lite\", \"5.16.3\"))\n",
       "        .then(() => maybeLoadScript(\"vega-embed\", \"6\"))\n",
       "        .catch(showError)\n",
       "        .then(() => displayChart(vegaEmbed));\n",
       "    }\n",
       "  })({\"config\": {\"view\": {\"continuousWidth\": 300, \"continuousHeight\": 300}}, \"data\": {\"name\": \"data-2051fcad04b45eb0778af58bdc290be2\"}, \"mark\": {\"type\": \"bar\"}, \"encoding\": {\"x\": {\"field\": \"AQI Value\", \"type\": \"quantitative\"}, \"y\": {\"field\": \"Region\", \"type\": \"nominal\"}}, \"title\": \"Air Quality by World Region\", \"$schema\": \"https://vega.github.io/schema/vega-lite/v5.16.3.json\", \"datasets\": {\"data-2051fcad04b45eb0778af58bdc290be2\": [{\"Region\": \"ASIA (EX. NEAR EAST)         \", \"AQI Value\": 86.50857063852294, \"CO AQI Value\": 1.4888390340606825, \"Ozone AQI Value\": 42.63584109506711, \"NO2 AQI Value\": 1.896686550369702, \"PM2.5 AQI Value\": 83.80416956733352}, {\"Region\": \"BALTICS                            \", \"AQI Value\": 38.95800106326422, \"CO AQI Value\": 1.0180754917597021, \"Ozone AQI Value\": 32.79864433811802, \"NO2 AQI Value\": 0.5450558213716109, \"PM2.5 AQI Value\": 32.416932482721954}, {\"Region\": \"C.W. OF IND. STATES \", \"AQI Value\": 68.31208761251179, \"CO AQI Value\": 0.9395612243427, \"Ozone AQI Value\": 38.61816475818369, \"NO2 AQI Value\": 0.5051268961075958, \"PM2.5 AQI Value\": 64.96588947276295}, {\"Region\": \"EASTERN EUROPE                     \", \"AQI Value\": 62.2300547529276, \"CO AQI Value\": 1.0087504664682923, \"Ozone AQI Value\": 39.932031749534126, \"NO2 AQI Value\": 0.9253830308370116, \"PM2.5 AQI Value\": 60.67731832156948}, {\"Region\": \"LATIN AMER. & CARIB    \", \"AQI Value\": 63.609961856239536, \"CO AQI Value\": 1.1379760532590935, \"Ozone AQI Value\": 19.687117752540964, \"NO2 AQI Value\": 2.8520276375875233, \"PM2.5 AQI Value\": 62.8052010540417}, {\"Region\": \"NEAR EAST                          \", \"AQI Value\": 123.89226872418362, \"CO AQI Value\": 1.4187319772426155, \"Ozone AQI Value\": 85.77507598784194, \"NO2 AQI Value\": 2.997354064375341, \"PM2.5 AQI Value\": 120.0794482113631}, {\"Region\": \"NORTHERN AFRICA                    \", \"AQI Value\": 82.29883572567783, \"CO AQI Value\": 1.3226395534290272, \"Ozone AQI Value\": 48.06921371610845, \"NO2 AQI Value\": 3.593140350877193, \"PM2.5 AQI Value\": 76.20827751196171}, {\"Region\": \"NORTHERN AMERICA                   \", \"AQI Value\": 51.50150511665581, \"CO AQI Value\": 1.2603271498844308, \"Ozone AQI Value\": 27.45173255101839, \"NO2 AQI Value\": 5.561497412038958, \"PM2.5 AQI Value\": 48.47966672593295}, {\"Region\": \"OCEANIA                            \", \"AQI Value\": 24.638787878787877, \"CO AQI Value\": 0.042352941176470586, \"Ozone AQI Value\": 18.5402495543672, \"NO2 AQI Value\": 0.8095900178253119, \"PM2.5 AQI Value\": 17.60688057040998}, {\"Region\": \"SUB-SAHARAN AFRICA                 \", \"AQI Value\": 72.0780167366615, \"CO AQI Value\": 1.6336480118665035, \"Ozone AQI Value\": 22.91105877060734, \"NO2 AQI Value\": 1.0215000298324035, \"PM2.5 AQI Value\": 71.65399910276662}, {\"Region\": \"WESTERN EUROPE                     \", \"AQI Value\": 44.56375880436769, \"CO AQI Value\": 0.8754234150674186, \"Ozone AQI Value\": 34.2956422637316, \"NO2 AQI Value\": 1.723270939304828, \"PM2.5 AQI Value\": 38.26071425028632}]}}, {\"mode\": \"vega-lite\"});\n",
       "</script>"
      ],
      "text/plain": [
       "alt.Chart(...)"
      ]
     },
     "execution_count": 30,
     "metadata": {},
     "output_type": "execute_result"
    }
   ],
   "source": [
    "alt.Chart(countries_by_region).mark_bar().encode(\n",
    "    x = 'AQI Value:Q',\n",
    "    y = 'Region:N',\n",
    ").properties(\n",
    "    title = 'Air Quality by World Region'\n",
    ")"
   ]
  },
  {
   "cell_type": "code",
   "execution_count": 31,
   "metadata": {},
   "outputs": [
    {
     "data": {
      "text/html": [
       "\n",
       "<style>\n",
       "  #altair-viz-c0214553f31642ecb3e53822e3444a19.vega-embed {\n",
       "    width: 100%;\n",
       "    display: flex;\n",
       "  }\n",
       "\n",
       "  #altair-viz-c0214553f31642ecb3e53822e3444a19.vega-embed details,\n",
       "  #altair-viz-c0214553f31642ecb3e53822e3444a19.vega-embed details summary {\n",
       "    position: relative;\n",
       "  }\n",
       "</style>\n",
       "<div id=\"altair-viz-c0214553f31642ecb3e53822e3444a19\"></div>\n",
       "<script type=\"text/javascript\">\n",
       "  var VEGA_DEBUG = (typeof VEGA_DEBUG == \"undefined\") ? {} : VEGA_DEBUG;\n",
       "  (function(spec, embedOpt){\n",
       "    let outputDiv = document.currentScript.previousElementSibling;\n",
       "    if (outputDiv.id !== \"altair-viz-c0214553f31642ecb3e53822e3444a19\") {\n",
       "      outputDiv = document.getElementById(\"altair-viz-c0214553f31642ecb3e53822e3444a19\");\n",
       "    }\n",
       "    const paths = {\n",
       "      \"vega\": \"https://cdn.jsdelivr.net/npm/vega@5?noext\",\n",
       "      \"vega-lib\": \"https://cdn.jsdelivr.net/npm/vega-lib?noext\",\n",
       "      \"vega-lite\": \"https://cdn.jsdelivr.net/npm/vega-lite@5.16.3?noext\",\n",
       "      \"vega-embed\": \"https://cdn.jsdelivr.net/npm/vega-embed@6?noext\",\n",
       "    };\n",
       "\n",
       "    function maybeLoadScript(lib, version) {\n",
       "      var key = `${lib.replace(\"-\", \"\")}_version`;\n",
       "      return (VEGA_DEBUG[key] == version) ?\n",
       "        Promise.resolve(paths[lib]) :\n",
       "        new Promise(function(resolve, reject) {\n",
       "          var s = document.createElement('script');\n",
       "          document.getElementsByTagName(\"head\")[0].appendChild(s);\n",
       "          s.async = true;\n",
       "          s.onload = () => {\n",
       "            VEGA_DEBUG[key] = version;\n",
       "            return resolve(paths[lib]);\n",
       "          };\n",
       "          s.onerror = () => reject(`Error loading script: ${paths[lib]}`);\n",
       "          s.src = paths[lib];\n",
       "        });\n",
       "    }\n",
       "\n",
       "    function showError(err) {\n",
       "      outputDiv.innerHTML = `<div class=\"error\" style=\"color:red;\">${err}</div>`;\n",
       "      throw err;\n",
       "    }\n",
       "\n",
       "    function displayChart(vegaEmbed) {\n",
       "      vegaEmbed(outputDiv, spec, embedOpt)\n",
       "        .catch(err => showError(`Javascript Error: ${err.message}<br>This usually means there's a typo in your chart specification. See the javascript console for the full traceback.`));\n",
       "    }\n",
       "\n",
       "    if(typeof define === \"function\" && define.amd) {\n",
       "      requirejs.config({paths});\n",
       "      require([\"vega-embed\"], displayChart, err => showError(`Error loading script: ${err.message}`));\n",
       "    } else {\n",
       "      maybeLoadScript(\"vega\", \"5\")\n",
       "        .then(() => maybeLoadScript(\"vega-lite\", \"5.16.3\"))\n",
       "        .then(() => maybeLoadScript(\"vega-embed\", \"6\"))\n",
       "        .catch(showError)\n",
       "        .then(() => displayChart(vegaEmbed));\n",
       "    }\n",
       "  })({\"config\": {\"view\": {\"continuousWidth\": 300, \"continuousHeight\": 300}}, \"vconcat\": [{\"hconcat\": [{\"mark\": {\"type\": \"bar\", \"color\": \"#BD4F6C\"}, \"encoding\": {\"x\": {\"field\": \"CO AQI Value\", \"type\": \"quantitative\"}, \"y\": {\"field\": \"Region\", \"type\": \"nominal\"}}, \"title\": \"CO Air Quality by World Region\"}, {\"mark\": {\"type\": \"bar\", \"color\": \"#93B5C6\"}, \"encoding\": {\"x\": {\"field\": \"Ozone AQI Value\", \"type\": \"quantitative\"}, \"y\": {\"field\": \"Region\", \"type\": \"nominal\"}}, \"title\": \"Ozone Air Quality by World Region\"}], \"data\": {\"name\": \"data-2051fcad04b45eb0778af58bdc290be2\"}}, {\"hconcat\": [{\"data\": {\"name\": \"data-2051fcad04b45eb0778af58bdc290be2\"}, \"mark\": {\"type\": \"bar\", \"color\": \"#D7816A\"}, \"encoding\": {\"x\": {\"field\": \"NO2 AQI Value\", \"type\": \"quantitative\"}, \"y\": {\"field\": \"Region\", \"type\": \"nominal\"}}, \"title\": \"No2 Air Quality by World Region\"}, {\"data\": {\"name\": \"data-bd1dd026791f7021d4499f88e0c34b85\"}, \"mark\": {\"type\": \"bar\", \"color\": \"#2C6E49\"}, \"encoding\": {\"x\": {\"field\": \"PM25_AQI_Value\", \"title\": \"PM2.5 AQI Value\", \"type\": \"quantitative\"}, \"y\": {\"field\": \"Region\", \"title\": \"Region\", \"type\": \"nominal\"}}, \"title\": \"PM2.5 Air Quality by World Region\"}]}], \"title\": \"Air Quality in the World by Pollutant\", \"$schema\": \"https://vega.github.io/schema/vega-lite/v5.16.3.json\", \"datasets\": {\"data-2051fcad04b45eb0778af58bdc290be2\": [{\"Region\": \"ASIA (EX. NEAR EAST)         \", \"AQI Value\": 86.50857063852294, \"CO AQI Value\": 1.4888390340606825, \"Ozone AQI Value\": 42.63584109506711, \"NO2 AQI Value\": 1.896686550369702, \"PM2.5 AQI Value\": 83.80416956733352}, {\"Region\": \"BALTICS                            \", \"AQI Value\": 38.95800106326422, \"CO AQI Value\": 1.0180754917597021, \"Ozone AQI Value\": 32.79864433811802, \"NO2 AQI Value\": 0.5450558213716109, \"PM2.5 AQI Value\": 32.416932482721954}, {\"Region\": \"C.W. OF IND. STATES \", \"AQI Value\": 68.31208761251179, \"CO AQI Value\": 0.9395612243427, \"Ozone AQI Value\": 38.61816475818369, \"NO2 AQI Value\": 0.5051268961075958, \"PM2.5 AQI Value\": 64.96588947276295}, {\"Region\": \"EASTERN EUROPE                     \", \"AQI Value\": 62.2300547529276, \"CO AQI Value\": 1.0087504664682923, \"Ozone AQI Value\": 39.932031749534126, \"NO2 AQI Value\": 0.9253830308370116, \"PM2.5 AQI Value\": 60.67731832156948}, {\"Region\": \"LATIN AMER. & CARIB    \", \"AQI Value\": 63.609961856239536, \"CO AQI Value\": 1.1379760532590935, \"Ozone AQI Value\": 19.687117752540964, \"NO2 AQI Value\": 2.8520276375875233, \"PM2.5 AQI Value\": 62.8052010540417}, {\"Region\": \"NEAR EAST                          \", \"AQI Value\": 123.89226872418362, \"CO AQI Value\": 1.4187319772426155, \"Ozone AQI Value\": 85.77507598784194, \"NO2 AQI Value\": 2.997354064375341, \"PM2.5 AQI Value\": 120.0794482113631}, {\"Region\": \"NORTHERN AFRICA                    \", \"AQI Value\": 82.29883572567783, \"CO AQI Value\": 1.3226395534290272, \"Ozone AQI Value\": 48.06921371610845, \"NO2 AQI Value\": 3.593140350877193, \"PM2.5 AQI Value\": 76.20827751196171}, {\"Region\": \"NORTHERN AMERICA                   \", \"AQI Value\": 51.50150511665581, \"CO AQI Value\": 1.2603271498844308, \"Ozone AQI Value\": 27.45173255101839, \"NO2 AQI Value\": 5.561497412038958, \"PM2.5 AQI Value\": 48.47966672593295}, {\"Region\": \"OCEANIA                            \", \"AQI Value\": 24.638787878787877, \"CO AQI Value\": 0.042352941176470586, \"Ozone AQI Value\": 18.5402495543672, \"NO2 AQI Value\": 0.8095900178253119, \"PM2.5 AQI Value\": 17.60688057040998}, {\"Region\": \"SUB-SAHARAN AFRICA                 \", \"AQI Value\": 72.0780167366615, \"CO AQI Value\": 1.6336480118665035, \"Ozone AQI Value\": 22.91105877060734, \"NO2 AQI Value\": 1.0215000298324035, \"PM2.5 AQI Value\": 71.65399910276662}, {\"Region\": \"WESTERN EUROPE                     \", \"AQI Value\": 44.56375880436769, \"CO AQI Value\": 0.8754234150674186, \"Ozone AQI Value\": 34.2956422637316, \"NO2 AQI Value\": 1.723270939304828, \"PM2.5 AQI Value\": 38.26071425028632}], \"data-bd1dd026791f7021d4499f88e0c34b85\": [{\"Region\": \"ASIA (EX. NEAR EAST)         \", \"AQI Value\": 86.50857063852294, \"CO AQI Value\": 1.4888390340606825, \"Ozone AQI Value\": 42.63584109506711, \"NO2 AQI Value\": 1.896686550369702, \"PM25_AQI_Value\": 83.80416956733352}, {\"Region\": \"BALTICS                            \", \"AQI Value\": 38.95800106326422, \"CO AQI Value\": 1.0180754917597021, \"Ozone AQI Value\": 32.79864433811802, \"NO2 AQI Value\": 0.5450558213716109, \"PM25_AQI_Value\": 32.416932482721954}, {\"Region\": \"C.W. OF IND. STATES \", \"AQI Value\": 68.31208761251179, \"CO AQI Value\": 0.9395612243427, \"Ozone AQI Value\": 38.61816475818369, \"NO2 AQI Value\": 0.5051268961075958, \"PM25_AQI_Value\": 64.96588947276295}, {\"Region\": \"EASTERN EUROPE                     \", \"AQI Value\": 62.2300547529276, \"CO AQI Value\": 1.0087504664682923, \"Ozone AQI Value\": 39.932031749534126, \"NO2 AQI Value\": 0.9253830308370116, \"PM25_AQI_Value\": 60.67731832156948}, {\"Region\": \"LATIN AMER. & CARIB    \", \"AQI Value\": 63.609961856239536, \"CO AQI Value\": 1.1379760532590935, \"Ozone AQI Value\": 19.687117752540964, \"NO2 AQI Value\": 2.8520276375875233, \"PM25_AQI_Value\": 62.8052010540417}, {\"Region\": \"NEAR EAST                          \", \"AQI Value\": 123.89226872418362, \"CO AQI Value\": 1.4187319772426155, \"Ozone AQI Value\": 85.77507598784194, \"NO2 AQI Value\": 2.997354064375341, \"PM25_AQI_Value\": 120.0794482113631}, {\"Region\": \"NORTHERN AFRICA                    \", \"AQI Value\": 82.29883572567783, \"CO AQI Value\": 1.3226395534290272, \"Ozone AQI Value\": 48.06921371610845, \"NO2 AQI Value\": 3.593140350877193, \"PM25_AQI_Value\": 76.20827751196171}, {\"Region\": \"NORTHERN AMERICA                   \", \"AQI Value\": 51.50150511665581, \"CO AQI Value\": 1.2603271498844308, \"Ozone AQI Value\": 27.45173255101839, \"NO2 AQI Value\": 5.561497412038958, \"PM25_AQI_Value\": 48.47966672593295}, {\"Region\": \"OCEANIA                            \", \"AQI Value\": 24.638787878787877, \"CO AQI Value\": 0.042352941176470586, \"Ozone AQI Value\": 18.5402495543672, \"NO2 AQI Value\": 0.8095900178253119, \"PM25_AQI_Value\": 17.60688057040998}, {\"Region\": \"SUB-SAHARAN AFRICA                 \", \"AQI Value\": 72.0780167366615, \"CO AQI Value\": 1.6336480118665035, \"Ozone AQI Value\": 22.91105877060734, \"NO2 AQI Value\": 1.0215000298324035, \"PM25_AQI_Value\": 71.65399910276662}, {\"Region\": \"WESTERN EUROPE                     \", \"AQI Value\": 44.56375880436769, \"CO AQI Value\": 0.8754234150674186, \"Ozone AQI Value\": 34.2956422637316, \"NO2 AQI Value\": 1.723270939304828, \"PM25_AQI_Value\": 38.26071425028632}]}}, {\"mode\": \"vega-lite\"});\n",
       "</script>"
      ],
      "text/plain": [
       "alt.VConcatChart(...)"
      ]
     },
     "execution_count": 31,
     "metadata": {},
     "output_type": "execute_result"
    }
   ],
   "source": [
    "co = alt.Chart(countries_by_region).mark_bar(color = '#BD4F6C').encode(\n",
    "    x = 'CO AQI Value:Q',\n",
    "    y = 'Region:N',\n",
    ").properties(\n",
    "    title = 'CO Air Quality by World Region'\n",
    ")\n",
    "\n",
    "ozone = alt.Chart(countries_by_region).mark_bar(color = '#93B5C6').encode(\n",
    "    x = 'Ozone AQI Value:Q',\n",
    "    y = 'Region:N',\n",
    ").properties(\n",
    "    title = 'Ozone Air Quality by World Region'\n",
    ")\n",
    "\n",
    "no2 = alt.Chart(countries_by_region).mark_bar(color = '#D7816A').encode(\n",
    "    x = 'NO2 AQI Value:Q',\n",
    "    y = 'Region:N',\n",
    ").properties(\n",
    "    title = 'No2 Air Quality by World Region'\n",
    ")\n",
    "\n",
    "countries_by_region = countries_by_region.rename(columns={'PM2.5 AQI Value': 'PM25_AQI_Value'})\n",
    "pm2_5 = alt.Chart(countries_by_region).mark_bar(color = '#2C6E49').encode(\n",
    "    x = alt.X('PM25_AQI_Value:Q', title = 'PM2.5 AQI Value'),\n",
    "    y = alt.Y('Region:N', title = 'Region'),\n",
    ").properties(\n",
    "    title = 'PM2.5 Air Quality by World Region'\n",
    ")\n",
    "\n",
    "alt.vconcat(alt.hconcat(co, ozone), alt.hconcat(no2, pm2_5)).properties(\n",
    "    title = 'Air Quality in the World by Pollutant'\n",
    ")"
   ]
  },
  {
   "cell_type": "markdown",
   "metadata": {},
   "source": [
    "There are regional differences in specific pollutants: \n",
    "* The Near East has relatively high AQI for all four air pollutants mentioned: CO, Ozone, NO2, and PM2.5\n",
    "* Compared to other world regions, Northern America releases the most NO2. \n",
    "* Oceania appears to have very low AQI (good air quality) compared to the other world regions for all four pollutants. "
   ]
  }
 ],
 "metadata": {
  "kernelspec": {
   "display_name": "Python 3",
   "language": "python",
   "name": "python3"
  },
  "language_info": {
   "codemirror_mode": {
    "name": "ipython",
    "version": 3
   },
   "file_extension": ".py",
   "mimetype": "text/x-python",
   "name": "python",
   "nbconvert_exporter": "python",
   "pygments_lexer": "ipython3",
   "version": "3.11.1"
  }
 },
 "nbformat": 4,
 "nbformat_minor": 2
}
